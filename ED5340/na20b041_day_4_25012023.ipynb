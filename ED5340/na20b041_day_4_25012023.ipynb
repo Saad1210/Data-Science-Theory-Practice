{
 "cells": [
  {
   "cell_type": "markdown",
   "id": "eef09abe",
   "metadata": {},
   "source": [
    "## Home Work \n",
    "1. Redo the largest one including logical oprator\n",
    "2. Get to know how not oprater work\n",
    "3. Get to know abt any(), all()\n",
    "4. **Check Conditional Experiment**\n",
    "5. find a situation for while else also for 'for else'"
   ]
  },
  {
   "cell_type": "markdown",
   "id": "ac2c50c1",
   "metadata": {},
   "source": [
    "## Todays toopics\n",
    "- Conditional statement (if/ else/ elif)\n",
    "- Loops"
   ]
  },
  {
   "cell_type": "markdown",
   "id": "d1da2cd0",
   "metadata": {},
   "source": [
    "Conditional Statement\n",
    "- Indentation will be there \n",
    "\n",
    "Relational Opraters \n",
    "- < > = <= >= == !=\n",
    "\n",
    "Some nuances (not in c)\n",
    "- a < b < c\n",
    "- a == b == c\n",
    "- a != b != a\n",
    "\n",
    "Logical Oprators \n",
    "- and or not (&&, ||, !)\n",
    "- how it works ?? ik :)"
   ]
  },
  {
   "cell_type": "code",
   "execution_count": 8,
   "id": "a6eb5cd4",
   "metadata": {},
   "outputs": [
    {
     "data": {
      "text/plain": [
       "True"
      ]
     },
     "execution_count": 8,
     "metadata": {},
     "output_type": "execute_result"
    }
   ],
   "source": [
    "a,b = 3, 2\n",
    "a != b != a"
   ]
  },
  {
   "cell_type": "code",
   "execution_count": 6,
   "id": "d00e4ae5",
   "metadata": {},
   "outputs": [
    {
     "name": "stdout",
     "output_type": "stream",
     "text": [
      "b is samllest\n"
     ]
    }
   ],
   "source": [
    "a, b, c = 5, 2, 3\n",
    "if a < b < c :\n",
    "    print('a is smallest')\n",
    "elif a < c < b :\n",
    "    print('a is samllest')\n",
    "elif b < c < a :\n",
    "    print('b is samllest')\n",
    "elif b < a < c :\n",
    "    print('b is samllest')\n",
    "else: \n",
    "    print('c is samllest')\n",
    "\n",
    "# can you make it work with less statements??"
   ]
  },
  {
   "cell_type": "markdown",
   "id": "6e99202a",
   "metadata": {},
   "source": [
    "## Missillinious\n",
    "- Any non zero number is treated as true and a zero as false\n",
    "- while condition: \n",
    "    .....\n",
    "    .....\n",
    " else\n",
    "- for also has a else class\n",
    "- 'in' is used for containment check"
   ]
  },
  {
   "cell_type": "code",
   "execution_count": 25,
   "id": "2fd9fdf2",
   "metadata": {},
   "outputs": [
    {
     "name": "stdout",
     "output_type": "stream",
     "text": [
      "in!!\n"
     ]
    }
   ],
   "source": [
    "a,b = 1, 2\n",
    "if (a - b):\n",
    "    print('in!!')"
   ]
  },
  {
   "cell_type": "code",
   "execution_count": 29,
   "id": "acb3efa0",
   "metadata": {},
   "outputs": [
    {
     "name": "stdout",
     "output_type": "stream",
     "text": [
      "out\n"
     ]
    }
   ],
   "source": [
    "if not a + b :\n",
    "    print('in!!')\n",
    "else : \n",
    "    print('out')"
   ]
  },
  {
   "cell_type": "code",
   "execution_count": 24,
   "id": "a8ea49c7",
   "metadata": {},
   "outputs": [
    {
     "data": {
      "text/plain": [
       "2"
      ]
     },
     "execution_count": 24,
     "metadata": {},
     "output_type": "execute_result"
    }
   ],
   "source": [
    "True + True"
   ]
  },
  {
   "cell_type": "code",
   "execution_count": 23,
   "id": "6e6c662a",
   "metadata": {},
   "outputs": [
    {
     "data": {
      "text/plain": [
       "1"
      ]
     },
     "execution_count": 23,
     "metadata": {},
     "output_type": "execute_result"
    }
   ],
   "source": [
    "False + True "
   ]
  },
  {
   "cell_type": "markdown",
   "id": "8acdf0bc",
   "metadata": {},
   "source": [
    "Loops\n",
    "- While loop, For loop (**There is no *Do while* loop in python**)\n",
    "- "
   ]
  },
  {
   "cell_type": "code",
   "execution_count": 30,
   "id": "1d46ee7d",
   "metadata": {},
   "outputs": [
    {
     "name": "stdout",
     "output_type": "stream",
     "text": [
      "R\n",
      "a\n",
      "m\n",
      "a\n",
      "n\n"
     ]
    }
   ],
   "source": [
    "str1 = 'Raman'\n",
    "for ele in str1:\n",
    "    print(ele)"
   ]
  },
  {
   "cell_type": "code",
   "execution_count": 32,
   "id": "979525c9",
   "metadata": {},
   "outputs": [
    {
     "name": "stdout",
     "output_type": "stream",
     "text": [
      "1\n",
      "2\n",
      "3\n",
      "4\n",
      "5\n"
     ]
    }
   ],
   "source": [
    "i = 1\n",
    "while(i < 6):\n",
    "    print(i)\n",
    "    i += 1"
   ]
  },
  {
   "cell_type": "code",
   "execution_count": null,
   "id": "8156ae1f",
   "metadata": {},
   "outputs": [],
   "source": []
  }
 ],
 "metadata": {
  "kernelspec": {
   "display_name": "Python 3 (ipykernel)",
   "language": "python",
   "name": "python3"
  },
  "language_info": {
   "codemirror_mode": {
    "name": "ipython",
    "version": 3
   },
   "file_extension": ".py",
   "mimetype": "text/x-python",
   "name": "python",
   "nbconvert_exporter": "python",
   "pygments_lexer": "ipython3",
   "version": "3.9.13"
  }
 },
 "nbformat": 4,
 "nbformat_minor": 5
}
