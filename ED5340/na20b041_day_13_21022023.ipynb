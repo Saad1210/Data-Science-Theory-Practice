{
 "cells": [
  {
   "cell_type": "markdown",
   "id": "bd144638",
   "metadata": {},
   "source": [
    "# Home Work\n",
    "\n",
    "1. write method to add 2 complex num using class Complex()"
   ]
  },
  {
   "cell_type": "markdown",
   "id": "18096117",
   "metadata": {},
   "source": [
    "# Miscellaneous\n"
   ]
  },
  {
   "cell_type": "markdown",
   "id": "68283c31",
   "metadata": {},
   "source": [
    "Classe \n",
    "- we use camel casing usally\n",
    "- any method in class should have to have self argument\n",
    "- we use class constructor (__ init __ method)\n",
    "\n",
    "Privet Data\n",
    "- _ before any variable makes it privet (its just Human convention and not for computer\n",
    "- __ before any variable makes it strictly privet"
   ]
  },
  {
   "cell_type": "code",
   "execution_count": 24,
   "id": "ec9be562",
   "metadata": {},
   "outputs": [
    {
     "name": "stdout",
     "output_type": "stream",
     "text": [
      "The name of student is Saad, roll number is 41 and he is in 6th semester\n"
     ]
    },
    {
     "data": {
      "text/plain": [
       "'Saad'"
      ]
     },
     "execution_count": 24,
     "metadata": {},
     "output_type": "execute_result"
    }
   ],
   "source": [
    "class StudentDetail:\n",
    "    def dataip(self, n, r, s):\n",
    "        self.name = n\n",
    "        self.rollno = r\n",
    "        self.sem = s\n",
    "    \n",
    "    def printout(self):\n",
    "        print(f'The name of student is {self.name}, roll number is {self.rollno} and he is in {self.sem}th semester')\n",
    "    \n",
    "    def printsomething(s):\n",
    "        print(s)\n",
    "s1 = StudentDetail() # Object instantiation\n",
    "s1.dataip('Saad', 41, 6)\n",
    "s1.printout()\n",
    "s1.name\n",
    "# s1.printsomething('printing without self') # thorw error because in that method self was not there"
   ]
  },
  {
   "cell_type": "code",
   "execution_count": 17,
   "id": "1e347027",
   "metadata": {},
   "outputs": [
    {
     "name": "stdout",
     "output_type": "stream",
     "text": [
      "The name of student is Shamvil, roll number is 66 and he is in 6th semester with CGPA of 9.99\n"
     ]
    }
   ],
   "source": [
    "class StudentDetails:\n",
    "    # Constructor\n",
    "    def __init__ (self, n = '', r = 1, s = 1, cg = 0): # we can use any name insted of self but it has to be 1st argument\n",
    "        self.name = n\n",
    "        self.rollno = r\n",
    "        self.sem = s\n",
    "        self.cgpa = cg\n",
    "    def printout(self):\n",
    "        print(f'The name of student is {self.name}, roll number is {self.rollno} and he is in {self.sem}th semester with CGPA of {self.cgpa}')\n",
    "\n",
    "s2 = StudentDetails('Shamvil', 66, 6, 9.99)\n",
    "s2.printout()"
   ]
  },
  {
   "cell_type": "code",
   "execution_count": 21,
   "id": "35cecd5f",
   "metadata": {},
   "outputs": [],
   "source": [
    "s2.branch = 'Chem' # Interesting"
   ]
  },
  {
   "cell_type": "code",
   "execution_count": 22,
   "id": "362833e6",
   "metadata": {},
   "outputs": [
    {
     "data": {
      "text/plain": [
       "'Chem'"
      ]
     },
     "execution_count": 22,
     "metadata": {},
     "output_type": "execute_result"
    }
   ],
   "source": [
    "s2.branch"
   ]
  },
  {
   "cell_type": "code",
   "execution_count": 29,
   "id": "4d8b20d2",
   "metadata": {},
   "outputs": [
    {
     "name": "stdout",
     "output_type": "stream",
     "text": [
      "The name of student is Shamvil, roll number is 66 and he is in 6th semester with CGPA of 9.99\n"
     ]
    },
    {
     "ename": "AttributeError",
     "evalue": "'StudentDetails' object has no attribute '__rollno'",
     "output_type": "error",
     "traceback": [
      "\u001b[1;31m---------------------------------------------------------------------------\u001b[0m",
      "\u001b[1;31mAttributeError\u001b[0m                            Traceback (most recent call last)",
      "\u001b[1;32m~\\AppData\\Local\\Temp\\ipykernel_7560\\3202885934.py\u001b[0m in \u001b[0;36m<module>\u001b[1;34m\u001b[0m\n\u001b[0;32m     10\u001b[0m \u001b[0ms2\u001b[0m \u001b[1;33m=\u001b[0m \u001b[0mStudentDetails\u001b[0m\u001b[1;33m(\u001b[0m\u001b[1;34m'Shamvil'\u001b[0m\u001b[1;33m,\u001b[0m \u001b[1;36m66\u001b[0m\u001b[1;33m,\u001b[0m \u001b[1;36m6\u001b[0m\u001b[1;33m,\u001b[0m \u001b[1;36m9.99\u001b[0m\u001b[1;33m)\u001b[0m\u001b[1;33m\u001b[0m\u001b[1;33m\u001b[0m\u001b[0m\n\u001b[0;32m     11\u001b[0m \u001b[0ms2\u001b[0m\u001b[1;33m.\u001b[0m\u001b[0mprintout\u001b[0m\u001b[1;33m(\u001b[0m\u001b[1;33m)\u001b[0m\u001b[1;33m\u001b[0m\u001b[1;33m\u001b[0m\u001b[0m\n\u001b[1;32m---> 12\u001b[1;33m \u001b[0mprint\u001b[0m\u001b[1;33m(\u001b[0m\u001b[0ms2\u001b[0m\u001b[1;33m.\u001b[0m\u001b[0m_name\u001b[0m\u001b[1;33m,\u001b[0m \u001b[0ms2\u001b[0m\u001b[1;33m.\u001b[0m\u001b[0m__rollno\u001b[0m\u001b[1;33m,\u001b[0m \u001b[0ms2\u001b[0m\u001b[1;33m.\u001b[0m\u001b[0msem\u001b[0m\u001b[1;33m,\u001b[0m \u001b[0ms2\u001b[0m\u001b[1;33m.\u001b[0m\u001b[0m_cgpa\u001b[0m\u001b[1;33m)\u001b[0m \u001b[1;31m# it will still work its just for user to know that it should not be accessed outside the class\u001b[0m\u001b[1;33m\u001b[0m\u001b[1;33m\u001b[0m\u001b[0m\n\u001b[0m",
      "\u001b[1;31mAttributeError\u001b[0m: 'StudentDetails' object has no attribute '__rollno'"
     ]
    }
   ],
   "source": [
    "class StudentDetails:\n",
    "    def __init__ (self, n = '', r = 1, s = 1, cg = 0): # we can use any name insted of self but it has to be 1st argument\n",
    "        self._name = n\n",
    "        self.__rollno = r\n",
    "        self.sem = s\n",
    "        self._cgpa = cg\n",
    "    def printout(self):\n",
    "        print(f'The name of student is {self._name}, roll number is {self.__rollno} and he is in {self.sem}th semester with CGPA of {self._cgpa}')\n",
    "\n",
    "s2 = StudentDetails('Shamvil', 66, 6, 9.99)\n",
    "s2.printout()\n",
    "print(s2._name, s2.__rollno, s2.sem, s2._cgpa) # it will still work its just for user to know that it should not be accessed outside the class"
   ]
  },
  {
   "cell_type": "code",
   "execution_count": 33,
   "id": "0dfb1b7f",
   "metadata": {},
   "outputs": [
    {
     "name": "stdout",
     "output_type": "stream",
     "text": [
      "the imaginary number is 2 + 3j\n"
     ]
    }
   ],
   "source": [
    "class Complex():\n",
    "    def __init__(self, i = 0, j = 0):\n",
    "        self.real = i\n",
    "        self.imaginary = j\n",
    "        \n",
    "    def printnum(self):\n",
    "        print(f'the imaginary number is {self.real} + {self.imaginary}j')\n",
    "\n",
    "c = Complex(2, 3)\n",
    "c.printnum()"
   ]
  },
  {
   "cell_type": "code",
   "execution_count": null,
   "id": "bfc82926",
   "metadata": {},
   "outputs": [],
   "source": []
  }
 ],
 "metadata": {
  "kernelspec": {
   "display_name": "Python 3 (ipykernel)",
   "language": "python",
   "name": "python3"
  },
  "language_info": {
   "codemirror_mode": {
    "name": "ipython",
    "version": 3
   },
   "file_extension": ".py",
   "mimetype": "text/x-python",
   "name": "python",
   "nbconvert_exporter": "python",
   "pygments_lexer": "ipython3",
   "version": "3.9.13"
  }
 },
 "nbformat": 4,
 "nbformat_minor": 5
}
