{
 "cells": [
  {
   "cell_type": "markdown",
   "id": "c8790d6f",
   "metadata": {},
   "source": [
    "# HomeWork\n",
    "1. whtas frozenset()\n"
   ]
  },
  {
   "cell_type": "markdown",
   "id": "325f90af",
   "metadata": {},
   "source": [
    "# Miscellaneous\n",
    "\n",
    "- in python ite -> next is actually is ite.__next__"
   ]
  },
  {
   "cell_type": "markdown",
   "id": "c17eb3d5",
   "metadata": {},
   "source": [
    "zip() function\n",
    "- Grouping can be achived\n",
    "- it returns the itrator of function\n",
    "- its kinda linked list\n",
    "\n",
    "set() function\n",
    "- collection of unique data types \n",
    "- {} are used\n",
    "- its an **unordered** collection and cannot be scliced or indexed\n",
    "- sets are **mutable**\n",
    "- empty_set = set() # notation of empty set\n"
   ]
  },
  {
   "cell_type": "code",
   "execution_count": 11,
   "id": "0896c52e",
   "metadata": {},
   "outputs": [
    {
     "name": "stdout",
     "output_type": "stream",
     "text": [
      "<zip object at 0x0000016EF141D880> \n",
      " ('Ram', 'M') ('Raja', 'M') ('Geetha', 'F') ('Mina', 'F')\n"
     ]
    }
   ],
   "source": [
    "names = ('Ram', 'Raja', 'Geetha', 'Mina')\n",
    "gender = ('M', 'M', 'F', 'F')\n",
    "ite = zip(names, gender)\n",
    "print(ite,'\\n',*ite) # remember that ite is like a pointer and hence * is needed to unpack"
   ]
  },
  {
   "cell_type": "code",
   "execution_count": 15,
   "id": "ac67e322",
   "metadata": {},
   "outputs": [
    {
     "name": "stdout",
     "output_type": "stream",
     "text": [
      "Ram M\n",
      "Raja M\n",
      "Geetha F\n",
      "Mina F\n"
     ]
    }
   ],
   "source": [
    "for ite in zip(names, gender):\n",
    "    print(*ite)\n",
    "    "
   ]
  },
  {
   "cell_type": "code",
   "execution_count": 20,
   "id": "34830a80",
   "metadata": {},
   "outputs": [
    {
     "name": "stdout",
     "output_type": "stream",
     "text": [
      "[1, 2, 3] [4, 5, 6]\n"
     ]
    }
   ],
   "source": [
    "mat1 = [[1, 2, 3], [4, 5, 6]]\n",
    "print(*mat1)"
   ]
  },
  {
   "cell_type": "code",
   "execution_count": 22,
   "id": "f0e78676",
   "metadata": {},
   "outputs": [
    {
     "name": "stdout",
     "output_type": "stream",
     "text": [
      "(1, 4) (2, 5) (3, 6)\n"
     ]
    }
   ],
   "source": [
    "mat1_trans = zip(mat1[0], mat1[1])\n",
    "print(*mat1_trans)"
   ]
  },
  {
   "cell_type": "code",
   "execution_count": 23,
   "id": "85b9c132",
   "metadata": {},
   "outputs": [
    {
     "name": "stdout",
     "output_type": "stream",
     "text": [
      "(1, 4) (2, 5) (3, 6)\n"
     ]
    }
   ],
   "source": [
    "otherway = zip(*mat1)\n",
    "print(*otherway)"
   ]
  },
  {
   "cell_type": "code",
   "execution_count": 24,
   "id": "deb6b0ad",
   "metadata": {},
   "outputs": [
    {
     "name": "stdout",
     "output_type": "stream",
     "text": [
      "(1, 4)\n",
      "(2, 5)\n",
      "(3, 6)\n"
     ]
    }
   ],
   "source": [
    "for it in zip(*mat1):\n",
    "    print(it)"
   ]
  },
  {
   "cell_type": "code",
   "execution_count": 28,
   "id": "695e9c77",
   "metadata": {},
   "outputs": [],
   "source": [
    "mat2 = [[11, 12, 13], [14, 15, 16]]"
   ]
  },
  {
   "cell_type": "code",
   "execution_count": 50,
   "id": "c5d3b753",
   "metadata": {},
   "outputs": [
    {
     "name": "stdout",
     "output_type": "stream",
     "text": [
      "(1, 11) (2, 12) (3, 13)\n",
      "(4, 14) (5, 15) (6, 16)\n"
     ]
    }
   ],
   "source": [
    "for it in zip(mat1, mat2):\n",
    "    print(*zip(it[0], it[1]))"
   ]
  },
  {
   "cell_type": "code",
   "execution_count": 47,
   "id": "54abd279",
   "metadata": {},
   "outputs": [
    {
     "name": "stdout",
     "output_type": "stream",
     "text": [
      "[[12, 14, 16], [18, 20, 22]]\n"
     ]
    }
   ],
   "source": [
    "print([[sum(it1) for it1 in zip(*it)] for it in zip(mat1, mat2)])\n"
   ]
  },
  {
   "cell_type": "code",
   "execution_count": 49,
   "id": "5a0310f8",
   "metadata": {},
   "outputs": [
    {
     "data": {
      "text/plain": [
       "{100}"
      ]
     },
     "execution_count": 49,
     "metadata": {},
     "output_type": "execute_result"
    }
   ],
   "source": [
    "set1 = {100, 100}\n",
    "set1"
   ]
  },
  {
   "cell_type": "code",
   "execution_count": null,
   "id": "3b4760be",
   "metadata": {},
   "outputs": [],
   "source": []
  }
 ],
 "metadata": {
  "kernelspec": {
   "display_name": "Python 3 (ipykernel)",
   "language": "python",
   "name": "python3"
  },
  "language_info": {
   "codemirror_mode": {
    "name": "ipython",
    "version": 3
   },
   "file_extension": ".py",
   "mimetype": "text/x-python",
   "name": "python",
   "nbconvert_exporter": "python",
   "pygments_lexer": "ipython3",
   "version": "3.9.13"
  }
 },
 "nbformat": 4,
 "nbformat_minor": 5
}
