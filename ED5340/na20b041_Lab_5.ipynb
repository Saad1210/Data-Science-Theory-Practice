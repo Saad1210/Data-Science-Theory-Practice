{
 "cells": [
  {
   "cell_type": "markdown",
   "id": "8937513e",
   "metadata": {},
   "source": [
    "# Lab 5"
   ]
  },
  {
   "cell_type": "markdown",
   "id": "9726a8bf",
   "metadata": {},
   "source": [
    "1.     Define a class Complex that defines a complex number with attributes real and imaginary (as we did in the class). Define operators for addition, subtraction, multiplication and division (should work for ‘/’ and ‘//’) (Do with both operator overloading as well as without overloading). While printing the output, print in the form of complex number form like ( a + ib)"
   ]
  },
  {
   "cell_type": "code",
   "execution_count": 29,
   "id": "e8ceae58",
   "metadata": {},
   "outputs": [],
   "source": [
    "# with oprator overloading\n",
    "\n",
    "class Complex:\n",
    "    def __init__(self, real, imaginary):\n",
    "        self.real = real\n",
    "        self.imaginary = imaginary\n",
    "        \n",
    "    def __add__(self, no):\n",
    "        return Complex(self.real + no.real, self.imaginary + no.imaginary)\n",
    "    \n",
    "    def __sub__(self, no):\n",
    "        return Complex(self.real - no.real, self.imaginary - no.imaginary)\n",
    "    \n",
    "    def __mul__(self, no):\n",
    "        return Complex(self.real * no.real - self.imaginary * no.imaginary, \n",
    "                       self.real * no.imaginary + self.imaginary * no.real)\n",
    "                       \n",
    "    def __truediv__(self, no):\n",
    "        nocom = Complex(no.real, -1*no.imaginary)\n",
    "        prod = self.__mul__(nocom)\n",
    "        m = no.real**2 + no.imaginary**2\n",
    "        return Complex(prod.real/m, prod.imaginary/m)\n",
    "    \n",
    "    def __floordiv__(self, no):\n",
    "        nocom = Complex(no.real, -1*no.imaginary)\n",
    "        prod = self.__mul__(nocom)\n",
    "        m = no.real**2 + no.imaginary**2\n",
    "        return Complex(prod.real//m, prod.imaginary//m)   \n",
    "    \n",
    "    def printcomplex(self):\n",
    "        print(f'{self.real} + i {self.imaginary}')"
   ]
  },
  {
   "cell_type": "code",
   "execution_count": 30,
   "id": "a761d9c6",
   "metadata": {},
   "outputs": [],
   "source": [
    "c1 = Complex(4, 2)\n",
    "c2 = Complex(3, 1)"
   ]
  },
  {
   "cell_type": "code",
   "execution_count": 31,
   "id": "0015b4cd",
   "metadata": {},
   "outputs": [
    {
     "name": "stdout",
     "output_type": "stream",
     "text": [
      "7 + i 3\n",
      "1 + i 1\n",
      "10 + i 10\n",
      "1.4 + i 0.2\n",
      "1 + i 0\n"
     ]
    },
    {
     "data": {
      "text/plain": [
       "(None, None, None, None, None)"
      ]
     },
     "execution_count": 31,
     "metadata": {},
     "output_type": "execute_result"
    }
   ],
   "source": [
    "ad = c1 + c2\n",
    "sub = c1 - c2\n",
    "mul = c1 * c2\n",
    "div = c1 / c2\n",
    "divi = c1//c2\n",
    "ad.printcomplex(), sub.printcomplex(), mul.printcomplex(), div.printcomplex(), divi.printcomplex()"
   ]
  },
  {
   "cell_type": "code",
   "execution_count": 32,
   "id": "d020ff19",
   "metadata": {},
   "outputs": [],
   "source": [
    "# without oprator overloading\n",
    "\n",
    "class Complex:\n",
    "    def __init__(self, real, imaginary):\n",
    "        self.real = real\n",
    "        self.imaginary = imaginary\n",
    "        \n",
    "    def addcomplex(self, no):\n",
    "        return Complex(self.real + no.real, self.imaginary + no.imaginary)\n",
    "    \n",
    "    def subcomlex(self, no):\n",
    "        return Complex(self.real - no.real, self.imaginary - no.imaginary)\n",
    "    \n",
    "    def mulcomplex(self, no):\n",
    "        return Complex(self.real * no.real - self.imaginary * no.imaginary, \n",
    "                       self.real * no.imaginary + self.imaginary * no.real)\n",
    "                       \n",
    "    def divcomplex(self, no):\n",
    "        nocom = Complex(no.real, -1*no.imaginary)\n",
    "        prod = self.mulcomplex(nocom)\n",
    "        m = no.real**2 + no.imaginary**2\n",
    "        return Complex(prod.real/m, prod.imaginary/m)\n",
    "    \n",
    "    def floordivcomplex(self, no):\n",
    "        nocom = Complex(no.real, -1*no.imaginary)\n",
    "        prod = self.mulcomplex(nocom)\n",
    "        m = no.real**2 + no.imaginary**2\n",
    "        return Complex(prod.real//m, prod.imaginary//m)   \n",
    "    \n",
    "    def printcomplex(self):\n",
    "        print(f'{self.real} + i {self.imaginary}')"
   ]
  },
  {
   "cell_type": "code",
   "execution_count": 33,
   "id": "f266ac2b",
   "metadata": {},
   "outputs": [],
   "source": [
    "c1 = Complex(4, 2)\n",
    "c2 = Complex(3, 1)"
   ]
  },
  {
   "cell_type": "code",
   "execution_count": 34,
   "id": "85bac534",
   "metadata": {},
   "outputs": [
    {
     "name": "stdout",
     "output_type": "stream",
     "text": [
      "7 + i 3\n",
      "1 + i 1\n",
      "10 + i 10\n",
      "1.4 + i 0.2\n",
      "1 + i 0\n"
     ]
    },
    {
     "data": {
      "text/plain": [
       "(None, None, None, None, None)"
      ]
     },
     "execution_count": 34,
     "metadata": {},
     "output_type": "execute_result"
    }
   ],
   "source": [
    "ad = c1.addcomplex(c2)\n",
    "sub = c1.subcomlex(c2)\n",
    "mul = c1.mulcomplex(c2)\n",
    "div = c1.divcomplex(c2)\n",
    "divi = c1.floordivcomplex(c2)\n",
    "ad.printcomplex(), sub.printcomplex(), mul.printcomplex(), div.printcomplex(), divi.printcomplex()"
   ]
  },
  {
   "cell_type": "markdown",
   "id": "10e211d2",
   "metadata": {},
   "source": [
    "2.     Define a Matrix class of dimensions m X n (the values for m and n can be taken as input). Demonstrate matrix addition, subtraction, multiplication, element-by-element multiplication, scalar multiplication (use map here). Use operator overloading wherever possible. (Hint: In the constructor, use 'random' and create list of list using list comprehension. In the arguments of constructor, send the number of rows and columns)"
   ]
  },
  {
   "cell_type": "code",
   "execution_count": 35,
   "id": "0f6ba789",
   "metadata": {},
   "outputs": [],
   "source": [
    "import random\n",
    "class Matrix():\n",
    "    def __init__(self, m, n):\n",
    "        self.m = m\n",
    "        self.n = n\n",
    "        self.matrix = [[random.randint(1, 100) for col in range(self.n)] for row in range(self.m)]\n",
    "        print('generated matrix is: ', self.matrix)\n",
    "    \n",
    "    def __add__(self, mat):\n",
    "        print ([[self.matrix[i][j] + mat.matrix[i][j] for j in range(self.n)] for i in range(self.m)])\n",
    "    \n",
    "    def __sub__(self, mat):\n",
    "        print( [[self.matrix[i][j] - mat.matrix[i][j] for j in range(self.n)] for i in range(self.m)])\n",
    "\n",
    "    def __mul__(self, mat):\n",
    "        print( [[self.matrix[i][j] * mat.matrix[i][j] for j in range(self.n)] for i in range(self.m)])\n",
    "    \n",
    "    def scalarmul(self, num):\n",
    "        print(list(map(lambda row: list(map(lambda ele: ele*num, row)), self.matrix)))\n"
   ]
  },
  {
   "cell_type": "code",
   "execution_count": 36,
   "id": "1a780dfa",
   "metadata": {},
   "outputs": [
    {
     "name": "stdout",
     "output_type": "stream",
     "text": [
      "generated matrix is:  [[54, 12], [39, 29], [26, 36]]\n",
      "generated matrix is:  [[78, 51], [39, 59], [67, 66]]\n"
     ]
    }
   ],
   "source": [
    "mat1 = Matrix(3, 2)\n",
    "mat2 = Matrix(3, 2)"
   ]
  },
  {
   "cell_type": "code",
   "execution_count": 37,
   "id": "8bf776b9",
   "metadata": {},
   "outputs": [
    {
     "name": "stdout",
     "output_type": "stream",
     "text": [
      "[[132, 63], [78, 88], [93, 102]]\n",
      "[[-24, -39], [0, -30], [-41, -30]]\n",
      "[[4212, 612], [1521, 1711], [1742, 2376]]\n",
      "[[108, 24], [78, 58], [52, 72]]\n"
     ]
    },
    {
     "data": {
      "text/plain": [
       "(None, None, None, None)"
      ]
     },
     "execution_count": 37,
     "metadata": {},
     "output_type": "execute_result"
    }
   ],
   "source": [
    "ad = mat1 + mat2\n",
    "sub = mat1 - mat2\n",
    "mul = mat1 * mat2\n",
    "smul = mat1.scalarmul(2)\n",
    "ad, sub, mul, smul"
   ]
  },
  {
   "cell_type": "markdown",
   "id": "33c66114",
   "metadata": {},
   "source": [
    "3.     Multilevel Inheritance: Demonstrate multilevel inheritance in each of the classes Complex and Matrix of Questions 1 and 2 respectively. (Use some functions in the base classes, move others to the inherited class as well as call the base class methods inside the inherited class)"
   ]
  },
  {
   "cell_type": "code",
   "execution_count": 38,
   "id": "921acd3a",
   "metadata": {},
   "outputs": [],
   "source": [
    "# for Complex\n",
    "\n",
    "class Complex(object):\n",
    "    def __init__(self, real, imaginary):\n",
    "        self.real = real\n",
    "        self.imaginary = imaginary\n",
    "        \n",
    "    def mulcomplex(self, no):\n",
    "        return Complex(self.real * no.real - self.imaginary * no.imaginary, \n",
    "                       self.real * no.imaginary + self.imaginary * no.real)\n",
    "    \n",
    "    def printcomplex(self):\n",
    "        print(f'{self.real} + i {self.imaginary}')\n",
    "    \n",
    "class oprations(Complex):\n",
    "    def __init__(self, real, imaginary):\n",
    "        super().__init__(real, imaginary)\n",
    "    \n",
    "    def addcomplex(self, no):\n",
    "        return (Complex(self.real + no.real, self.imaginary + no.imaginary))\n",
    "    \n",
    "    def subcomlex(self, no):\n",
    "        return Complex(self.real - no.real, self.imaginary - no.imaginary)\n",
    "\n",
    "    def divcomplex(self, no):\n",
    "        nocom = Complex(no.real, -1*no.imaginary)\n",
    "        prod = super().mulcomplex(nocom)\n",
    "        m = no.real**2 + no.imaginary**2\n",
    "        return Complex(prod.real/m, prod.imaginary/m)\n",
    "    \n",
    "class divcom(oprations):\n",
    "    def __init__(self, real, imaginary):\n",
    "        super().__init__(real, imaginary)\n",
    "        \n",
    "    def div(self, no):\n",
    "        return super().divcomplex(no)\n",
    "    "
   ]
  },
  {
   "cell_type": "code",
   "execution_count": 39,
   "id": "c0716999",
   "metadata": {},
   "outputs": [
    {
     "name": "stdout",
     "output_type": "stream",
     "text": [
      "7 + i 3\n",
      "1.4 + i 0.2\n",
      "None None\n",
      "1.4 + i 0.2\n",
      "None\n"
     ]
    }
   ],
   "source": [
    "no = Complex(3, 1)\n",
    "op = oprations(4, 2)\n",
    "op.addcomplex(no)\n",
    "ad = op.addcomplex(no)\n",
    "div = op.divcomplex(no)\n",
    "print(ad.printcomplex(), div.printcomplex())\n",
    "\n",
    "d = divcom(4, 2)\n",
    "print(d.div(no).printcomplex())"
   ]
  },
  {
   "cell_type": "code",
   "execution_count": 40,
   "id": "c4c32fd7",
   "metadata": {},
   "outputs": [],
   "source": [
    "# for matrix\n",
    "\n",
    "import random\n",
    "\n",
    "class Matrix():\n",
    "    \n",
    "    def __init__(self,m,n):\n",
    "        self.m = m\n",
    "        self.n = n\n",
    "        self.Mat = [[random.randint(0, 9) for j in range(self.n)] for i in range(self.m)];\n",
    "        \n",
    "    def PrintMat(self):\n",
    "        print(self.Mat)\n",
    "    \n",
    "class Matrix_Operations(Matrix):\n",
    "    \n",
    "    def __init__(self,m,n):\n",
    "        super().__init__(m,n)\n",
    "    \n",
    "    def __add__(self,other):\n",
    "        add = [[self.Mat[i][j]+other.Mat[i][j] for j in range(self.n)] for i in range(self.m)]\n",
    "        return add\n",
    "    \n",
    "    def __sub__(self,other):\n",
    "        sub = [[self.Mat[i][j]-other.Mat[i][j] for j in range(self.n)] for i in range(self.m)]\n",
    "        return sub\n",
    "\n",
    "class Matrix_Mults(Matrix_Operations):\n",
    "\n",
    "    def __init__(self,m,n):\n",
    "        super().__init__(m,n)\n",
    "    \n",
    "    def Element_wise_Mult(self,other):\n",
    "        C = Matrix_Mults(self.m,self.n)\n",
    "        C.Mat = [[self.Mat[i][j]*other.Mat[i][j] for j in range(self.n)] for i in range(self.m)]\n",
    "        C.PrintMat()\n",
    "    \n",
    "    def Scalar_Mult(self, k=0):\n",
    "        C = Matrix_Mults(self.m,self.n)\n",
    "        C.Mat = list(map(lambda row: list(map(lambda ele: ele*k, row)), self.Mat))\n",
    "        C.PrintMat()"
   ]
  },
  {
   "cell_type": "code",
   "execution_count": 41,
   "id": "d176e6be",
   "metadata": {},
   "outputs": [
    {
     "name": "stdout",
     "output_type": "stream",
     "text": [
      "[[7, 0, 6], [4, 6, 6]]\n",
      "[[4, 1, 3], [5, 7, 0]]\n"
     ]
    },
    {
     "data": {
      "text/plain": [
       "(None, None)"
      ]
     },
     "execution_count": 41,
     "metadata": {},
     "output_type": "execute_result"
    }
   ],
   "source": [
    "mat1 = Matrix_Mults(2, 3)\n",
    "mat2 = Matrix_Mults(2, 3)\n",
    "mat1.PrintMat(), mat2.PrintMat()"
   ]
  },
  {
   "cell_type": "code",
   "execution_count": 42,
   "id": "5bf8a5a4",
   "metadata": {},
   "outputs": [
    {
     "name": "stdout",
     "output_type": "stream",
     "text": [
      "[[28, 0, 18], [20, 42, 0]]\n",
      "[[14, 0, 12], [8, 12, 12]]\n"
     ]
    },
    {
     "data": {
      "text/plain": [
       "(None, None)"
      ]
     },
     "execution_count": 42,
     "metadata": {},
     "output_type": "execute_result"
    }
   ],
   "source": [
    "mat1.Element_wise_Mult(mat2), mat1.Scalar_Mult(2)"
   ]
  },
  {
   "cell_type": "markdown",
   "id": "7dee237d",
   "metadata": {},
   "source": [
    "4.     Football Player Records Management System (Chinmay Raut)\n",
    "\n",
    "Create a parent class Player with the following attributes:\n",
    "\n",
    "Player_name (string)\n",
    "\n",
    "Country (string)\n",
    "\n",
    "Age (int)\n",
    "\n",
    "Create a method ‘get_details’ to initialize the above attributes. Also create a method ‘print_details’ to print these attributes.\n",
    "\n",
    "Create a class Club inherited from Player with the following attributes:\n",
    "\n",
    "Club_name (string)\n",
    "\n",
    "Contract_time (int)\n",
    "\n",
    "              Create a method ‘get_club_details’ to initialize the above attributes along with Player attributes. Also, create a method ‘print_details’ to print these attributes along with Player attributes.\n",
    "\n",
    "Create a class Record inherited from Club with the following attributes:\n",
    "\n",
    "Goals (int)\n",
    "\n",
    "Matches (int)\n",
    "\n",
    "            Create a method ‘get_record’ to initialize the above attributes along with Player attributes and Club attributes. Also, create a method ‘print_details’ to print these attributes along with Player attributes and Club attributes. Create a method ‘Goals_per_match’ to print goals per match.\n",
    "\n",
    "Create two different objects for Club and Record and demonstrate each of the methods."
   ]
  },
  {
   "cell_type": "code",
   "execution_count": 43,
   "id": "63edaa99",
   "metadata": {},
   "outputs": [],
   "source": [
    "class Player():\n",
    "    def get_details(self, player_name = '', country = '', age = 0):\n",
    "        self.player_name = player_name\n",
    "        self.country = country\n",
    "        self.age = age\n",
    "        \n",
    "    def print_details(self):\n",
    "        print(f\"Name of the palyer is {self.player_name}, he is from {self.country}, his age is {self.age}\")"
   ]
  },
  {
   "cell_type": "code",
   "execution_count": 44,
   "id": "88c3d85c",
   "metadata": {},
   "outputs": [],
   "source": [
    "class Club(Player):\n",
    "    def get_club_details(self, club_name = '', contract_time = 0, player_name = '', country = '', age = 0):\n",
    "        self.club_name = club_name\n",
    "        self.contract_time = contract_time\n",
    "        super().get_details(player_name, country, age)\n",
    "        \n",
    "    def print_details(self):\n",
    "        print(f\"The name of the club is {self.club_name}, contract time is {self.contract_time}hrs\")\n",
    "        print(f\"Name of the palyer is {self.player_name}, he is from {self.country}, his age is {self.age}\")        "
   ]
  },
  {
   "cell_type": "code",
   "execution_count": 45,
   "id": "59dbf8ab",
   "metadata": {},
   "outputs": [],
   "source": [
    "class Record(Club):\n",
    "    def get_record(self, goals = 0, matches = 0, club_name = '', contract_time = 0, player_name = '', country = '', age = 0):\n",
    "        self.goals = goals\n",
    "        self.matches = matches\n",
    "        super().get_club_details(club_name, contract_time, player_name, country, age)\n",
    "        \n",
    "    def print_details(self):\n",
    "        print(f\"Number of goals are {self.goals} and number of matches are {self.matches}\")\n",
    "        print(f\"Name of the palyer is {self.player_name}, he is from {self.country}, his age is {self.age}\")        \n",
    "        print(f\"The name of the club is {self.club_name}, contract time is {self.contract_time}hrs\")\n",
    "        \n",
    "    def Goals_per_match(self):\n",
    "        print(f\"number of goals per matches are {self.goals / self.matches:.2f}\")"
   ]
  },
  {
   "cell_type": "code",
   "execution_count": 46,
   "id": "ed33bf83",
   "metadata": {},
   "outputs": [
    {
     "name": "stdout",
     "output_type": "stream",
     "text": [
      "The name of the club is Fan Club, contract time is 100hrs\n",
      "Name of the palyer is Mbappe, he is from France, his age is 24\n"
     ]
    }
   ],
   "source": [
    "obj1 = Club()\n",
    "obj1.get_club_details('Fan Club', 100, 'Mbappe', 'France', 24)\n",
    "obj1.print_details()"
   ]
  },
  {
   "cell_type": "code",
   "execution_count": 47,
   "id": "6e8a9f6a",
   "metadata": {},
   "outputs": [
    {
     "name": "stdout",
     "output_type": "stream",
     "text": [
      "Number of goals are 4 and number of matches are 3\n",
      "Name of the palyer is Mbappe, he is from France, his age is 24\n",
      "The name of the club is Fan Club, contract time is 100hrs\n",
      "number of goals per matches are 1.33\n"
     ]
    },
    {
     "data": {
      "text/plain": [
       "(None, None)"
      ]
     },
     "execution_count": 47,
     "metadata": {},
     "output_type": "execute_result"
    }
   ],
   "source": [
    "obj2 = Record()\n",
    "obj2.get_record(4, 3, 'Fan Club', 100, 'Mbappe', 'France', 24)\n",
    "obj2.print_details(), obj2.Goals_per_match()"
   ]
  },
  {
   "cell_type": "markdown",
   "id": "31acfb5a",
   "metadata": {},
   "source": [
    "5.     Restaurant Billing and Management System ( Akshat Sharda)\n",
    "\n",
    "For a restaurant, create a parent class ‘Bill’ which has the properties as ‘Customer name’, ‘Table Number’, 'Time' and ‘Order’ of which the name, time, order are strings and table number is a positive integer.\n",
    "\n",
    "Define a method to extract the order details from the string and return a 2-D array of ordered items & their number.\n",
    "\n",
    "Create a child class ‘Restaurant Bill’ which has a property called ‘Menu list’ of the items and has a method to calculate the total bill amount by using the menu list and order details. Add a method to print the complete bill for the customer including taxes, service charges, etc. Add a method to make a list of all such bills and display the full earning of the restaurant on a desired date taken from user.\n",
    "\n",
    "The strings will be of the following format:\n",
    "\n",
    "#Name: “Akshat” (Name of the customer)\n",
    "\n",
    "#Time: \"24 February 20:45\"\n",
    "\n",
    "#Table Number: 7 (Table Number)\n",
    "\n",
    "#Order: “Item1x1,Item2x3,Item3x1,…” (ItemxNumber)\n",
    "\n",
    "#Menu List: “Item1-100,Item2-70,Item3-250,...” (Item-Price)"
   ]
  },
  {
   "cell_type": "code",
   "execution_count": 48,
   "id": "d0eaf357",
   "metadata": {},
   "outputs": [],
   "source": [
    "class Bill():\n",
    "    def __init__(self, customer_name = '', table_number = 0, time = '', order = ''):\n",
    "        self.customer_name = customer_name\n",
    "        self.table_number = table_number\n",
    "        self.time = time\n",
    "        self.order = order\n",
    "    \n",
    "    def order_details(self):\n",
    "        return [[item.split(sep = 'x')[0], int(item.split(sep = 'x')[1])] for item in self.order.split(sep = ',')]"
   ]
  },
  {
   "cell_type": "code",
   "execution_count": 49,
   "id": "584f2f2f",
   "metadata": {},
   "outputs": [],
   "source": [
    "class RestaurantBill(Bill):\n",
    "    def __init__(self, customer_name = '', table_number = 0, time = '', order = '', menu = ''):\n",
    "        self.menu_list = [[item.split(sep = '-')[0], int(item.split(sep = '-')[1])] for item in menu.split(sep = ',')]\n",
    "        super().__init__(customer_name, table_number, time, order)\n",
    "        \n",
    "    def billamount(self):\n",
    "        amount = 0\n",
    "        for item in super().order_details():\n",
    "            for menuitem in self.menu_list:\n",
    "                if item[0] == menuitem[0]: \n",
    "                    amount += menuitem[1] * item[1]\n",
    "        return amount\n",
    "        \n",
    "    def printbill(self):\n",
    "        print('Item ---- Price\\n')\n",
    "        for item in super().order_details():\n",
    "            for menuitem in self.menu_list:\n",
    "                if item[0] == menuitem[0]:   \n",
    "                    print(f\"{menuitem[0]} ---- {menuitem[1]}/-\")\n",
    "            \n",
    "        print(f\"\\nTotal amount including taxes (2.5% GST) = {self.billamount()*1.025}/-\")    \n",
    "    \n",
    "    def earningofresturant(self, date):\n",
    "        pass"
   ]
  },
  {
   "cell_type": "code",
   "execution_count": 72,
   "id": "88c70bdd",
   "metadata": {},
   "outputs": [],
   "source": [
    "r1 = RestaurantBill(customer_name = 'Akshat', table_number = 4, time = '24 February 20:45', \n",
    "                    order = 'Item1x1,Item2x3,Item3x1', menu = 'Item1-100,Item2-70,Item3-250,Item4-110')\n"
   ]
  },
  {
   "cell_type": "code",
   "execution_count": 73,
   "id": "f39421a2",
   "metadata": {},
   "outputs": [
    {
     "name": "stdout",
     "output_type": "stream",
     "text": [
      "Item ---- Price\n",
      "\n",
      "Item1 ---- 100/-\n",
      "Item2 ---- 70/-\n",
      "Item3 ---- 250/-\n",
      "\n",
      "Total amount including taxes (2.5% GST) = 574.0/-\n"
     ]
    }
   ],
   "source": [
    "r1.printbill()"
   ]
  },
  {
   "cell_type": "markdown",
   "id": "878050c1",
   "metadata": {},
   "source": [
    "6.     Vehicle Fuel Level Monitoring ( Amina Ashraf)\n",
    "\n",
    "(a) Create a class vehicle with the following attributes:\n",
    "\n",
    "       vehicle_type (string, will store vehicle category car/bus and so on)\n",
    "\n",
    "       vehicle_brand (string)\n",
    "\n",
    "       vehicle_model (string)\n",
    "\n",
    "       vehicle_max_fuel (float, stores maximum capacity of the fuel tank in litres)\n",
    "\n",
    "       vehicle_fuel_level (float, stores current fuel level)\n",
    "\n",
    "(b) Create a function getVehicleDetails() to input the details of vehicle like: vehicle_type, vehicle_brand, vehicle_model, vehicle_max_fuel, vehicle_fuel_level\n",
    "\n",
    "(c) Create an object of class vehicle and get details using getVehicleDetails()\n",
    "\n",
    "(d) Create a function checkFuelLevel() that prints:\n",
    "\n",
    "           ‘full tank’ if vehicle_fuel_level equals vehicle_max_fuel.     \n",
    "\n",
    "           ‘Running low on fuel’ if vehicle_fuel_level is at 10% of vehicle_max_fuel\n",
    "\n",
    "            vehicle_fuel_level in all other case"
   ]
  },
  {
   "cell_type": "code",
   "execution_count": 52,
   "id": "133e4daa",
   "metadata": {},
   "outputs": [],
   "source": [
    "class Vehicle:\n",
    "    def getVehicleDetails(self, vehicle_type = '', vehicle_brand = '', vehicle_model = '',\n",
    "                          vehicle_max_fuel = 0, vehicle_fuel_level = 0):\n",
    "        self.vehicle_type = vehicle_type\n",
    "        self.vehicle_brand = vehicle_brand\n",
    "        self.vehicle_model = vehicle_model\n",
    "        self.vehicle_max_fuel = vehicle_max_fuel\n",
    "        self.vehicle_fuel_level = vehicle_fuel_level\n",
    "        \n",
    "    def checkFuelLevel(self):\n",
    "        if self.vehicle_fuel_level == self.vehicle_max_fuel:\n",
    "            print('Full tank')\n",
    "        elif self.vehicle_fuel_level == self.vehicle_max_fuel*0.1:\n",
    "            print('Running low on fuel')\n",
    "        else:\n",
    "            print(self.vehicle_fuel_level)"
   ]
  },
  {
   "cell_type": "code",
   "execution_count": 53,
   "id": "bd9dd3e7",
   "metadata": {},
   "outputs": [
    {
     "name": "stdout",
     "output_type": "stream",
     "text": [
      "Running low on fuel\n"
     ]
    }
   ],
   "source": [
    "v1 = Vehicle()\n",
    "v1.getVehicleDetails(vehicle_type = 'Retro', vehicle_brand = 'TVS', vehicle_model = 'Ronin 225', \n",
    "                     vehicle_max_fuel = 15, vehicle_fuel_level = 1.5)\n",
    "v1.checkFuelLevel()"
   ]
  },
  {
   "cell_type": "markdown",
   "id": "e36a1e49",
   "metadata": {},
   "source": [
    "7.     Class hierarchy for bank stock investment with profit calculation for investors (Swathi)\n",
    "\n",
    "Create a class \"bank_stocks\" which has the following attributes: hdfc, icici, sbi. Each of these variables is an array which contains the price of the stock on the last five days (This can be assigned in the code itself, you do not need to get user input. You can use the values given in the example below). This class also contains an attribute \"date\" which stores the current date in the format \"24022023\" (string).\n",
    "\n",
    "Create a new class, \"investor\", which inherits from the \"bank_stocks\" class. This class should have attributes such as \"name\" (string), \"id\" (string), \"stocks_owned\" (list), \"buy_date\" (string). Create the following functions in class investor:\n",
    "\n",
    "(a) get_input: This function should get the details of the investor. The stocks owned is a list which contains the number of stocks owned in each bank. For example, [10,30,0] means that the investor owns 10 shares of hdfc and 30 shares of icici. The start_date is the date on which the investor buys the stocks (give a date in the last five days, as data is only created for that range).\n",
    "\n",
    "(b) calculate_profit_today: This function should calculate and print the stock-wise and overall profit percentage (or loss percentage) of the investor, if he sells the stocks today.\n",
    "\n",
    "Example:\n",
    "\n",
    "bank_stocks:\n",
    "\n",
    "hdfc = [1640.35, 1646.50, 1614.20, 1603.25, 1599.75]\n",
    "\n",
    "icici = [852.10, 854.20, 839.25, 839.75, 840.05]\n",
    "\n",
    "sbi = [525.15, 523.45, 516.35, 521.00, 523.25]\n",
    "\n",
    "Investor 1:\n",
    "\n",
    "name = \"Swathi\"\n",
    "\n",
    "id = \"123abc\"\n",
    "\n",
    "stocks_owned = [10, 30, 0]\n",
    "\n",
    "buy_date =      \"20022023\"\n",
    "\n",
    "The output should be:\n",
    "\n",
    "Total cost = 41966.5 INR\n",
    "\n",
    "Current price = 41199 INR\n",
    "\n",
    "The profits are:\n",
    "\n",
    "hdfc                 -2.47%   -406   INR\n",
    "\n",
    "icici                  -1.41%   -361 INR\n",
    "\n",
    "sbi                   0%         0 INR\n",
    "\n",
    "total                -1.82%   -767 INR"
   ]
  },
  {
   "cell_type": "code",
   "execution_count": 54,
   "id": "b02fa82a",
   "metadata": {},
   "outputs": [],
   "source": [
    "class Bank_stocks:\n",
    "    date = '24022023'\n",
    "    def __init__(self):\n",
    "        self.hdfc = [1640.35, 1646.50, 1614.20, 1603.25, 1599.75]\n",
    "        self.icici = [852.10, 854.20, 839.25, 839.75, 840.05]\n",
    "        self.sbi = [525.15, 523.45, 516.35, 521.00, 523.25]\n"
   ]
  },
  {
   "cell_type": "code",
   "execution_count": 55,
   "id": "28f83227",
   "metadata": {},
   "outputs": [],
   "source": [
    "class Investor(Bank_stocks):\n",
    "    def get_input(self, name = '', id = '', stock_owned = [], buy_date = '' ):\n",
    "        self.name = name\n",
    "        self.id = id\n",
    "        self.stock_owned = stock_owned\n",
    "        self.buy_date = buy_date\n",
    "        super().__init__()\n",
    "\n",
    "    def calculate_profit_today(self):\n",
    "        days = int(super().date[:2]) - int(self.buy_date[:2]) # no. of days since investor brought the stock\n",
    "        buy_price = [self.stock_owned[0]*self.hdfc[-1-days], self.stock_owned[1]*self.icici[-1-days], self.stock_owned[2]*self.sbi[-1-days]]\n",
    "        print(f'Total cost = {sum(buy_price)}')\n",
    "        current_price = [self.stock_owned[0]*self.hdfc[-1], self.stock_owned[1]*self.icici[-1], self.stock_owned[2]*self.sbi[-1]]\n",
    "        print(f'\\nCurrent Price = {sum(current_price)}')\n",
    "        print('\\nThe Profits are:')\n",
    "        \n",
    "        phdfc = current_price[0] - buy_price[0]\n",
    "        if current_price[0] == 0:\n",
    "            print('hdfc \\t 0%  0 INR')\n",
    "        else:\n",
    "            print(f'hdfc \\t {(phdfc*100/buy_price[0]):.2f}%  {phdfc} INR')\n",
    "        \n",
    "        picici = current_price[1] - buy_price[1]\n",
    "        if current_price[1] == 0:\n",
    "            print('icici \\t 0%  0 INR')\n",
    "        else:\n",
    "            print(f'icici \\t {(picici*100/buy_price[1]):.2f}%  {picici} INR')\n",
    "        \n",
    "        psbi = current_price[2] - buy_price[2]\n",
    "        if current_price[2] == 0:\n",
    "            print('sbi \\t 0%  0 INR')\n",
    "        else:\n",
    "            print(f'sbi \\t {(psbi*100/buy_price[2]):.2f}%  {psbi} INR')\n",
    "            \n",
    "        print(f'total \\t {(sum(current_price) - sum(buy_price))*100/sum(buy_price):.2f}%  {sum(current_price) - sum(buy_price)} INR')"
   ]
  },
  {
   "cell_type": "code",
   "execution_count": 56,
   "id": "f36c7015",
   "metadata": {},
   "outputs": [],
   "source": [
    "i1 = Investor()\n",
    "i1.get_input('saad', '121002', [10,30,0], '20022023')"
   ]
  },
  {
   "cell_type": "code",
   "execution_count": 57,
   "id": "167a9392",
   "metadata": {},
   "outputs": [
    {
     "name": "stdout",
     "output_type": "stream",
     "text": [
      "Total cost = 41966.5\n",
      "\n",
      "Current Price = 41199.0\n",
      "\n",
      "The Profits are:\n",
      "hdfc \t -2.48%  -406.0 INR\n",
      "icici \t -1.41%  -361.5 INR\n",
      "sbi \t 0%  0 INR\n",
      "total \t -1.83%  -767.5 INR\n"
     ]
    }
   ],
   "source": [
    "i1.calculate_profit_today()"
   ]
  },
  {
   "cell_type": "markdown",
   "id": "87df2d1c",
   "metadata": {},
   "source": [
    "8.     Class Inheritance in Python: Finding GCD (greatest common divisor) and LCM (least common multiple) of Numbers and Handling Composite Numbers.\n",
    "\n",
    "a)     Create a Numbers class with a, b, find_gcd(), and find_lcm() methods.\n",
    "\n",
    "b)     Create an EvenNumbers class that inherits from Numbers and overrides find_lcm() to handle even numbers.\n",
    "\n",
    "c)     Create an OddNumbers class that inherits from Numbers and overrides find_lcm() to handle odd numbers.\n",
    "\n",
    "d)     Create a CompositeNumbers class that inherits from EvenNumbers and OddNumbers and overrides find_gcd() to handle composite numbers.\n",
    "\n",
    "e)     Create a CompositeNumbers object with a = 12 and b = 9, and call its find_lcm() and find_gcd() methods."
   ]
  },
  {
   "cell_type": "code",
   "execution_count": 58,
   "id": "828617ce",
   "metadata": {},
   "outputs": [],
   "source": [
    "class Numbers:\n",
    "    def __init__(self, a, b):\n",
    "        self.a = a\n",
    "        self.b = b\n",
    "    \n",
    "    def find_gcd(self):\n",
    "        while(self.a != self.b):\n",
    "            if(self.a > self.b):\n",
    "                self.a = self.a - self.b\n",
    "            elif(self.b < self.a):\n",
    "                self.b = self.b - self.a\n",
    "        return self.a \n",
    "    \n",
    "    def find_lcm(self):\n",
    "        return self.a * self.b / Numbers.find_gcd(self)"
   ]
  },
  {
   "cell_type": "code",
   "execution_count": 59,
   "id": "18877dcb",
   "metadata": {},
   "outputs": [
    {
     "data": {
      "text/plain": [
       "(10.0, 5)"
      ]
     },
     "execution_count": 59,
     "metadata": {},
     "output_type": "execute_result"
    }
   ],
   "source": [
    "n = Numbers(10, 5)\n",
    "n.find_lcm(), n.find_gcd()"
   ]
  },
  {
   "cell_type": "code",
   "execution_count": 63,
   "id": "4be7ad94",
   "metadata": {},
   "outputs": [
    {
     "name": "stdout",
     "output_type": "stream",
     "text": [
      "the lcm is:  36\n",
      "the gcd is:  3\n"
     ]
    }
   ],
   "source": [
    "class EvenNumbers(Numbers):\n",
    "    def find_lcm(self):\n",
    "        lcm = self.a if self.a > self.b else self.b\n",
    "        while True:\n",
    "            if lcm % self.a == 0 and lcm % self.b == 0:\n",
    "                break\n",
    "            lcm += 2\n",
    "        return lcm\n",
    "\n",
    "class OddNumbers(Numbers):\n",
    "    def find_lcm(self):\n",
    "        lcm = self.a if self.a > self.b else self.b\n",
    "        while True:\n",
    "            if lcm % self.a == 0 and lcm % self.b == 0:\n",
    "                break\n",
    "            lcm += 1\n",
    "        return lcm\n",
    "\n",
    "class CompositeNumbers(EvenNumbers, OddNumbers):\n",
    "    def find_gcd(self):\n",
    "        for i in range(2, min(self.a, self.b) + 1):\n",
    "            if self.a % i == 0 and self.b % i == 0:\n",
    "                return i\n",
    "        return 1\n",
    "\n",
    "cn = CompositeNumbers(12, 9)\n",
    "print('the lcm is: ', cn.find_lcm())  \n",
    "print('the gcd is: ', cn.find_gcd())\n",
    "\n"
   ]
  },
  {
   "cell_type": "code",
   "execution_count": 71,
   "id": "c5a123da",
   "metadata": {},
   "outputs": [
    {
     "data": {
      "text/plain": [
       "21"
      ]
     },
     "execution_count": 71,
     "metadata": {},
     "output_type": "execute_result"
    }
   ],
   "source": [
    "o = OddNumbers(3, 7)\n",
    "o.find_lcm()"
   ]
  },
  {
   "cell_type": "markdown",
   "id": "2dc69060",
   "metadata": {},
   "source": [
    "9.  Suppose you are building a Python program to manage a school's student data. You need to create a Student class that contains information such as the student's name, age, grade, and class schedule. Additionally, there are some attributes that are shared by all students, such as the school name, the total number of students, and the number of classes offered.\n",
    "How can you use class variables in Python to define these shared attributes of the Student class? What are the advantages of using class variables in this scenario? Can you provide an example program that demonstrates the use of class variables in the Student class?\n"
   ]
  },
  {
   "cell_type": "code",
   "execution_count": 61,
   "id": "b7708384",
   "metadata": {},
   "outputs": [],
   "source": [
    "class Student:\n",
    "    # class variables\n",
    "    school_name = 'ABC_School' \n",
    "    total_no_students = 100\n",
    "    no_classes_offered = 6\n",
    "    \n",
    "    def __init__(self, students_name, age, grade):\n",
    "        self.students_name = students_name\n",
    "        self.age = age\n",
    "        self.grade = grade\n",
    "    \n",
    "    def printdetails(self):\n",
    "        print(self.students_name, self.age, self.grade, Student.school_name, Student.no_classes_offered)"
   ]
  },
  {
   "cell_type": "code",
   "execution_count": 62,
   "id": "8a0c7052",
   "metadata": {},
   "outputs": [
    {
     "name": "stdout",
     "output_type": "stream",
     "text": [
      "Saad 10 A ABC_School 6\n"
     ]
    }
   ],
   "source": [
    "s1 = Student('Saad', 10, 'A')\n",
    "s1.printdetails()"
   ]
  },
  {
   "cell_type": "markdown",
   "id": "d6726608",
   "metadata": {},
   "source": [
    "How to use class vaiables?\n",
    "- to use class variables we need to declear the variables inside the class but but outside of any instance method or __ init __ () method\n",
    "\n",
    "Advantages of usnig class variable\n",
    "- Class variables are shared by all instances of a class so if there are some common variables in all our instaces we can have a class vaiable and need to define it every time"
   ]
  }
 ],
 "metadata": {
  "kernelspec": {
   "display_name": "Python 3 (ipykernel)",
   "language": "python",
   "name": "python3"
  },
  "language_info": {
   "codemirror_mode": {
    "name": "ipython",
    "version": 3
   },
   "file_extension": ".py",
   "mimetype": "text/x-python",
   "name": "python",
   "nbconvert_exporter": "python",
   "pygments_lexer": "ipython3",
   "version": "3.9.13"
  }
 },
 "nbformat": 4,
 "nbformat_minor": 5
}
