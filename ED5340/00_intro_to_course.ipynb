{
 "cells": [
  {
   "cell_type": "markdown",
   "id": "bf0cb7eb",
   "metadata": {},
   "source": [
    "##  ED5340\n",
    "prof - Ramanathan Muthuganpathy \n"
   ]
  },
  {
   "cell_type": "markdown",
   "id": "2e35c706",
   "metadata": {},
   "source": [
    "* Python is considered as a object orianted programming approach\n",
    "### Structural programming - ex. C lang\n",
    "#\n",
    "* Entire python revolve around the iterable and itretor\n",
    "> Itrable - if a obkect is capable of returing its members one ar a time <br>\n",
    "> Itrator - "
   ]
  },
  {
   "cell_type": "markdown",
   "id": "b7d98292",
   "metadata": {},
   "source": [
    "### Python is called spesification \n",
    "### some of the implimention of py\n",
    "* Cpython\n",
    "* pypy\n",
    "* "
   ]
  },
  {
   "cell_type": "markdown",
   "id": "92ceb2c1",
   "metadata": {},
   "source": [
    "## HOMEWORK!!\n",
    "1. Find out the underlined sturc on which pyhton is build upon\n",
    "2. Why pyhton is slower than c/c++??\n",
    "3. compiler VS interpretor VS bytcode\n",
    "4. Read more about oops\n"
   ]
  },
  {
   "cell_type": "markdown",
   "id": "8fe3d04d",
   "metadata": {},
   "source": [
    "## Answers\n",
    "1. Python is built on the C programming language. The Python interpreter is written in C, and the majority of the standard library is also implemented in C for performance reasons. This allows Python to have the ease of use and high-level functionality of an interpreted language, while still being able to perform tasks efficiently and quickly like a compiled language.\n",
    "\n",
    "\n",
    "2. python - First it is compiled into Byte Code. This Byte Code is then interpreted and executed by the PVM (Python Virtual Machine) <br> C/C++ - The source code is compiled into Binary Code which can be directly executed by the CPU making them more efficient. **Python is slower than C/C++ because it is an interpreted language and it has a dynamic nature. But with the help of libraries and interfacing with C/C++, it can be made relatively fast.**\n",
    "\n",
    "\n",
    "3. - From a programming perspective, the main difference between an interpreter and a compiler is how they translate code written in a high-level programming language into machine code that a computer can execute.\n",
    "   - A compiler translates the entire program into machine code before the program is run. Once the program has been translated, it can be executed directly by the computer, without the need for the compiler to be present. This means that compiled programs can run faster and be more efficient than interpreted programs, but the initial translation process can take longer. <br>\n",
    "   - An interpreter, on the other hand, reads and executes each line of code one at a time while the program is running. This means that the program can start running more quickly, but it may run slower overall because the interpreter needs to constantly translate the code as it is executed. Additionally, an interpreter must be present on the system for the program to run. <br>\n",
    "   - In summary, a compiler converts the whole program into machine code before running it, while interpreter converts the code line by line during runtime.\n",
    "\n",
    "\n",
    "\n",
    "\n",
    "\n"
   ]
  },
  {
   "cell_type": "code",
   "execution_count": null,
   "id": "f324893f",
   "metadata": {},
   "outputs": [],
   "source": []
  }
 ],
 "metadata": {
  "kernelspec": {
   "display_name": "Python 3 (ipykernel)",
   "language": "python",
   "name": "python3"
  },
  "language_info": {
   "codemirror_mode": {
    "name": "ipython",
    "version": 3
   },
   "file_extension": ".py",
   "mimetype": "text/x-python",
   "name": "python",
   "nbconvert_exporter": "python",
   "pygments_lexer": "ipython3",
   "version": "3.9.13"
  }
 },
 "nbformat": 4,
 "nbformat_minor": 5
}
