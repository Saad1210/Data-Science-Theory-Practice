{
 "cells": [
  {
   "cell_type": "markdown",
   "id": "90a6e826",
   "metadata": {},
   "source": [
    "# LAB4"
   ]
  },
  {
   "cell_type": "markdown",
   "id": "e99bc7f1",
   "metadata": {},
   "source": [
    "1. Given a list of integers, write a Python program to:\n",
    "\n",
    "a) Find the frequency of each integer in the list and store the result in a dictionary.\n",
    "\n",
    "b) Print the maximum integer and its frequency.\n",
    "\n",
    "c) Remove duplicates from the list and print the new list without changing the order of elements. Do this operation without using the set data type.\n",
    "\n",
    "d) Remove duplicates from the list and print the new list. Do this operation using the set data type.\n",
    "\n"
   ]
  },
  {
   "cell_type": "code",
   "execution_count": 105,
   "id": "95a570dc",
   "metadata": {},
   "outputs": [],
   "source": [
    "l = [8, 2, 4, 3, 9, 3, 8, 8, 1]"
   ]
  },
  {
   "cell_type": "code",
   "execution_count": 106,
   "id": "ea0947c8",
   "metadata": {},
   "outputs": [
    {
     "data": {
      "text/plain": [
       "{1: 1, 2: 1, 3: 2, 4: 1, 8: 3, 9: 1}"
      ]
     },
     "execution_count": 106,
     "metadata": {},
     "output_type": "execute_result"
    }
   ],
   "source": [
    "# a\n",
    "num_count = {}\n",
    "for num in set(l):\n",
    "    num_count[num] = l.count(num)\n",
    "\n",
    "num_count"
   ]
  },
  {
   "cell_type": "code",
   "execution_count": 107,
   "id": "68d402cb",
   "metadata": {},
   "outputs": [
    {
     "name": "stdout",
     "output_type": "stream",
     "text": [
      "max int is 9 and its count is  1\n"
     ]
    }
   ],
   "source": [
    "# b \n",
    "print('max int is', max(l), 'and its count is ', l.count(max(l)))"
   ]
  },
  {
   "cell_type": "code",
   "execution_count": 108,
   "id": "bcb65aa7",
   "metadata": {},
   "outputs": [
    {
     "data": {
      "text/plain": [
       "[2, 4, 9, 3, 8, 1]"
      ]
     },
     "execution_count": 108,
     "metadata": {},
     "output_type": "execute_result"
    }
   ],
   "source": [
    "# c\n",
    "for num in l:\n",
    "    while(l.count(num) > 1):\n",
    "        l.remove(num) # removing the first occurance of that number\n",
    "l\n"
   ]
  },
  {
   "cell_type": "code",
   "execution_count": 109,
   "id": "37a5d5a5",
   "metadata": {},
   "outputs": [
    {
     "data": {
      "text/plain": [
       "[1, 2, 3, 4, 8, 9]"
      ]
     },
     "execution_count": 109,
     "metadata": {},
     "output_type": "execute_result"
    }
   ],
   "source": [
    "# d \n",
    "list(set(l))"
   ]
  },
  {
   "cell_type": "markdown",
   "id": "6e38a9a0",
   "metadata": {},
   "source": [
    "2. Store the employee IDs, names, salaries, and years of experience using nested dictionaries (the key of the highest level dictionary can be the employee ID). \n",
    "\n",
    "a) Sort this dictionary using the salary value. \n",
    "\n",
    "b) Add a new employee to the dictionary in the correct position (sorted as mentioned above)"
   ]
  },
  {
   "cell_type": "code",
   "execution_count": 110,
   "id": "7929cc0d",
   "metadata": {},
   "outputs": [
    {
     "name": "stdout",
     "output_type": "stream",
     "text": [
      "[('employee_2', {'name': 'Omer', 'salary': 20, 'yrs of experience': 1}), ('employee_3', {'name': 'Shamvil', 'salary': 25, 'yrs of experience': 5}), ('employee_1', {'name': 'Saad', 'salary': 100, 'yrs of experience': 2})]\n"
     ]
    }
   ],
   "source": [
    "# a\n",
    "employee_data = {'employee_1' : {'name' : 'Saad' , 'salary' : 100, 'yrs of experience': 2 },\n",
    "                'employee_2' : {'name' : 'Omer' , 'salary' : 20, 'yrs of experience': 1},\n",
    "                'employee_3' : {'name' : 'Shamvil' , 'salary' : 25, 'yrs of experience': 5}}\n",
    "\n",
    "print(sorted(employee_data.items(),key=lambda kv:kv[1]['salary']))\n"
   ]
  },
  {
   "cell_type": "code",
   "execution_count": 111,
   "id": "1eda2408",
   "metadata": {},
   "outputs": [
    {
     "name": "stdout",
     "output_type": "stream",
     "text": [
      "[('employee_2', {'name': 'Omer', 'salary': 20, 'yrs of experience': 1}), ('employee_3', {'name': 'Shamvil', 'salary': 25, 'yrs of experience': 5}), ('employee_4', {'name': 'Rishabh', 'salary': 30, 'yrs of experience': 2}), ('employee_1', {'name': 'Saad', 'salary': 100, 'yrs of experience': 2})]\n"
     ]
    }
   ],
   "source": [
    "# b \n",
    "employee_data.update({'employee_4' : {'name': 'Rishabh', 'salary': 30, 'yrs of experience':2}})\n",
    "print(sorted(employee_data.items(),key=lambda kv:kv[1]['salary']))\n"
   ]
  },
  {
   "cell_type": "markdown",
   "id": "1bf28f90",
   "metadata": {},
   "source": [
    "3. You are given two Python dictionaries, A and B, with keys as alphabets and values as random integers. Write a Python function to create a third dictionary C, that combines A and B. For common keys, the value in C should be the sum of values from A and B. \n",
    "For example, if dictionary A is {\"a\": 3, \"b\": 5, \"c\": 7} and dictionary B is {\"b\": 2, \"c\": 4, \"d\": 6}, the function should return a dictionary C that looks like {\"a\": 3, \"b\": 7, \"c\": 11, \"d\": 6}"
   ]
  },
  {
   "cell_type": "code",
   "execution_count": 112,
   "id": "33a59930",
   "metadata": {},
   "outputs": [
    {
     "data": {
      "text/plain": [
       "{'a': 3, 'b': 7, 'c': 11, 'd': 6}"
      ]
     },
     "execution_count": 112,
     "metadata": {},
     "output_type": "execute_result"
    }
   ],
   "source": [
    "A = {\"a\": 3, \"b\": 5, \"c\": 7}\n",
    "B = {\"b\": 2, \"c\": 4, \"d\": 6}\n",
    "C = A\n",
    "\n",
    "for i,j in B.items():\n",
    "    if i in A:\n",
    "        C[i] = j + A[i]\n",
    "    else:\n",
    "        C[i] = j\n",
    "\n",
    "C"
   ]
  },
  {
   "cell_type": "markdown",
   "id": "8a164799",
   "metadata": {},
   "source": [
    "4. Assume you have a list of lists, where each inner list contains two elements: a key and a value. Write a Python function that takes the list of lists as input and returns a list of dictionaries, where each dictionary contains a key-value pair from the original input list."
   ]
  },
  {
   "cell_type": "code",
   "execution_count": 116,
   "id": "38c34c62",
   "metadata": {},
   "outputs": [],
   "source": [
    "def makedic():\n",
    "    ll = []\n",
    "    n = input('number of key-val pair is: ')\n",
    "    for i in range(int(n)):\n",
    "        ll.append(list(input('Enter a key val pair: ' ).split())) \n",
    "    print('the given input was', ll)\n",
    "    \n",
    "    ld = []\n",
    "    for lst in ll:\n",
    "        d = {}\n",
    "        d[lst[0]] = lst[1]\n",
    "        ld.append(d)\n",
    "\n",
    "    return ld\n"
   ]
  },
  {
   "cell_type": "code",
   "execution_count": 117,
   "id": "7e2633cd",
   "metadata": {},
   "outputs": [
    {
     "name": "stdout",
     "output_type": "stream",
     "text": [
      "number of key-val pair is: 3\n",
      "Enter a key val pair: int num\n",
      "Enter a key val pair: in out\n",
      "Enter a key val pair: ok no\n",
      "the given input was [['int', 'num'], ['in', 'out'], ['ok', 'no']]\n"
     ]
    },
    {
     "data": {
      "text/plain": [
       "[{'int': 'num'}, {'in': 'out'}, {'ok': 'no'}]"
      ]
     },
     "execution_count": 117,
     "metadata": {},
     "output_type": "execute_result"
    }
   ],
   "source": [
    "makedic()"
   ]
  },
  {
   "cell_type": "markdown",
   "id": "8f6e016e",
   "metadata": {},
   "source": [
    "5.  Write a function to check whether all the members in the list are anagrams of each other. For example: \n",
    "\n",
    "              This input [\"triangle,” \"integral,” \"altering\"] should return True,\n",
    "\n",
    "              While [“world,” “hello”, “goodbye”] should return False."
   ]
  },
  {
   "cell_type": "code",
   "execution_count": 118,
   "id": "ddd21339",
   "metadata": {},
   "outputs": [],
   "source": [
    "def CheckAnagram(l):\n",
    "    for i in range(len(l)):\n",
    "        l[i] = ''.join(sorted(l[i]))\n",
    "\n",
    "    if len(set(l)) == 1:\n",
    "        return True\n",
    "    else:\n",
    "        return False"
   ]
  },
  {
   "cell_type": "code",
   "execution_count": 119,
   "id": "9d781add",
   "metadata": {},
   "outputs": [
    {
     "data": {
      "text/plain": [
       "True"
      ]
     },
     "execution_count": 119,
     "metadata": {},
     "output_type": "execute_result"
    }
   ],
   "source": [
    "l = [\"triangle\", \"integral\", \"altering\"]\n",
    "CheckAnagram(l)"
   ]
  },
  {
   "cell_type": "code",
   "execution_count": 120,
   "id": "8126b416",
   "metadata": {},
   "outputs": [
    {
     "data": {
      "text/plain": [
       "False"
      ]
     },
     "execution_count": 120,
     "metadata": {},
     "output_type": "execute_result"
    }
   ],
   "source": [
    "l = ['world', 'hello', 'bye']\n",
    "CheckAnagram(l)"
   ]
  },
  {
   "cell_type": "markdown",
   "id": "903aeb0a",
   "metadata": {},
   "source": [
    "6. Write a Python function that calculates the square of a given number. Then, take a list of numbers and use the map() function to apply the square function to each list element. Print the resulting list of numbers and their squares in the form of a dictionary where each key is a number from the original list, and its corresponding value is its square.\n",
    "\n",
    "[Sample example: numbers = [1, 2, 3, 4, 5]\n",
    "\n",
    "                                 output dictionary = {1: 1, 2: 4, 3: 9, 4: 16, 5: 25}   ]"
   ]
  },
  {
   "cell_type": "code",
   "execution_count": 121,
   "id": "8aa5278d",
   "metadata": {},
   "outputs": [
    {
     "data": {
      "text/plain": [
       "{1: 1, 2: 4, 3: 9, 4: 16, 5: 25}"
      ]
     },
     "execution_count": 121,
     "metadata": {},
     "output_type": "execute_result"
    }
   ],
   "source": [
    "def square(n):\n",
    "    return n*n\n",
    "\n",
    "l = [1, 2, 3, 4, 5]\n",
    "l_sq = list(map(square,l))\n",
    "\n",
    "d = {}\n",
    "\n",
    "for i in range(len(l)):\n",
    "    d[l[i]] = l_sq[i]\n",
    "d"
   ]
  },
  {
   "cell_type": "markdown",
   "id": "7e4d8276",
   "metadata": {},
   "source": [
    "7. Write a function that takes an integer input from the user and prints Pascal’s Triangle.\n",
    "\n",
    "Sample input=3\n",
    "\n",
    "    Output:         1 \n",
    "\n",
    "                  1     1\n",
    "\n",
    "               1    2      1\n",
    "\n",
    "            1    3     3     1"
   ]
  },
  {
   "cell_type": "code",
   "execution_count": 122,
   "id": "a9898f12",
   "metadata": {},
   "outputs": [],
   "source": [
    "def PascalsTriange(n):\n",
    "    for i in range(n+1):\n",
    "        print(' '*(n-i), end='')\n",
    "        print(' '.join(map(str, str(11**i))))"
   ]
  },
  {
   "cell_type": "code",
   "execution_count": 123,
   "id": "6320886b",
   "metadata": {},
   "outputs": [
    {
     "name": "stdout",
     "output_type": "stream",
     "text": [
      "    1\n",
      "   1 1\n",
      "  1 2 1\n",
      " 1 3 3 1\n",
      "1 4 6 4 1\n"
     ]
    }
   ],
   "source": [
    "PascalsTriange(4)"
   ]
  },
  {
   "cell_type": "markdown",
   "id": "9c259adb",
   "metadata": {},
   "source": [
    "8. Write a function:\n",
    "\n",
    "     That takes a user input (integer, say n) and prints n Fibonacci numbers (inclusively), using recursion and without recursion.\n",
    "\n",
    "Also, check if the number n is present in the Fibonacci series.\n",
    "\n",
    "Fibonacci series: 0,1,1,2,3,5,8, where F (0) =0, F (1) =1 and so on."
   ]
  },
  {
   "cell_type": "code",
   "execution_count": 14,
   "id": "232a13f0",
   "metadata": {},
   "outputs": [
    {
     "name": "stdout",
     "output_type": "stream",
     "text": [
      "5\n",
      "[0, 1, 1, 2, 3] False\n"
     ]
    }
   ],
   "source": [
    "# using recursion\n",
    "\n",
    "def fibr(n):\n",
    "    if n == 0:\n",
    "        return 0\n",
    "    if n == 1:\n",
    "        return 1\n",
    "    return fibr(n-1) + fibr(n-2)\n",
    "\n",
    "n = int(input())\n",
    "fibr_l = []\n",
    "for i in range(n):\n",
    "    fibr_l.append(fibr(i))\n",
    "    \n",
    "print(fibr_l, True if n in fibr_l else False)\n"
   ]
  },
  {
   "cell_type": "code",
   "execution_count": 7,
   "id": "f4d40376",
   "metadata": {},
   "outputs": [],
   "source": [
    "# without using recursion\n",
    "def fib(n):\n",
    "    l = [0]*(n)\n",
    "    l[1] = 1\n",
    "    \n",
    "    for i in range(2, n):\n",
    "        l[i] = l[i-1] + l[i-2]\n",
    "    \n",
    "    return l"
   ]
  },
  {
   "cell_type": "code",
   "execution_count": 8,
   "id": "53b1ba99",
   "metadata": {},
   "outputs": [
    {
     "name": "stdout",
     "output_type": "stream",
     "text": [
      "6\n",
      "[0, 1, 1, 2, 3, 5] False\n"
     ]
    }
   ],
   "source": [
    "n = int(input())\n",
    "\n",
    "print(fib(n), True if n in fib(n) else False)"
   ]
  },
  {
   "cell_type": "markdown",
   "id": "71253516",
   "metadata": {},
   "source": [
    "9. Write a program:\n",
    "\n",
    "         a) To filter a list of integers using lambda.\n",
    "\n",
    "         b) To count even and odd numbers in a given list of integers using lambda.\n",
    "\n",
    "         c) To sort a list of dictionaries using lambda."
   ]
  },
  {
   "cell_type": "code",
   "execution_count": 124,
   "id": "287c5764",
   "metadata": {},
   "outputs": [],
   "source": [
    "l = [1, 34, 6, 74, 8, 3, 9]"
   ]
  },
  {
   "cell_type": "code",
   "execution_count": 125,
   "id": "4a8de20b",
   "metadata": {},
   "outputs": [
    {
     "name": "stdout",
     "output_type": "stream",
     "text": [
      "in given list there are 4 even numbers and 3 odd numbers\n"
     ]
    }
   ],
   "source": [
    "# a, b\n",
    "evenNum = list(filter(lambda x: x%2 == 0, l))\n",
    "oddNum = list(filter(lambda x: x%2 != 0, l))\n",
    "\n",
    "print('in given list there are {e} even numbers and {o} odd numbers'.format(e = len(evenNum), o = len(oddNum)))"
   ]
  },
  {
   "cell_type": "code",
   "execution_count": 3,
   "id": "56596b9d",
   "metadata": {},
   "outputs": [
    {
     "data": {
      "text/plain": [
       "[{'a': 'shdb'}, {'b': 'niub'}, {'i': 'aus'}]"
      ]
     },
     "execution_count": 3,
     "metadata": {},
     "output_type": "execute_result"
    }
   ],
   "source": [
    "# c\n",
    "d = [{'b':'niub'}, {'a':'shdb'}, {'i':'aus'}]\n",
    "sorted_dic = sorted(d, key = lambda d: list(d.keys()))\n",
    "sorted_dic"
   ]
  },
  {
   "cell_type": "markdown",
   "id": "1130b77e",
   "metadata": {},
   "source": [
    "10. Query for two integers N and M from the user where 0<=N<=100 and 0<=M<=9. These will be the inputs to your function. Using recursion, compute the number of times the integer M occurs in all non-negative integers less than or equal to N. \n",
    "\n",
    "Example: For N=13 and M=1, count=6 (numbers 1, 10, 11, 12, 13) "
   ]
  },
  {
   "cell_type": "code",
   "execution_count": 10,
   "id": "707c85e3",
   "metadata": {},
   "outputs": [
    {
     "name": "stdout",
     "output_type": "stream",
     "text": [
      "10 0\n"
     ]
    },
    {
     "data": {
      "text/plain": [
       "2"
      ]
     },
     "execution_count": 10,
     "metadata": {},
     "output_type": "execute_result"
    }
   ],
   "source": [
    "n,m = map(int,input().split())\n",
    "\n",
    "def countInt(n,m):\n",
    "    if n == 0:\n",
    "        if m == 0:\n",
    "            return 1\n",
    "        else :\n",
    "            return 0\n",
    "    \n",
    "    count = countInt(n-1,m)\n",
    "    \n",
    "    temp = n\n",
    "    while temp>0:\n",
    "        if temp%10 == m:\n",
    "            count += 1\n",
    "        temp = temp//10\n",
    "        \n",
    "    return count\n",
    "\n",
    "countInt(n,m)"
   ]
  },
  {
   "cell_type": "markdown",
   "id": "f5fe2a16",
   "metadata": {},
   "source": [
    "11. Illustrate the usage of positional and keyword arguments using suitable examples."
   ]
  },
  {
   "cell_type": "code",
   "execution_count": 12,
   "id": "47bc41cd",
   "metadata": {},
   "outputs": [
    {
     "ename": "TypeError",
     "evalue": "unsupported operand type(s) for +: 'int' and 'str'",
     "output_type": "error",
     "traceback": [
      "\u001b[1;31m---------------------------------------------------------------------------\u001b[0m",
      "\u001b[1;31mTypeError\u001b[0m                                 Traceback (most recent call last)",
      "\u001b[1;32m~\\AppData\\Local\\Temp\\ipykernel_6780\\2346589190.py\u001b[0m in \u001b[0;36m<module>\u001b[1;34m\u001b[0m\n\u001b[0;32m      3\u001b[0m     \u001b[0ms\u001b[0m \u001b[1;33m=\u001b[0m \u001b[0mi\u001b[0m \u001b[1;33m+\u001b[0m \u001b[0mf\u001b[0m\u001b[1;33m\u001b[0m\u001b[1;33m\u001b[0m\u001b[0m\n\u001b[0;32m      4\u001b[0m     \u001b[1;32mreturn\u001b[0m \u001b[0ms\u001b[0m\u001b[1;33m,\u001b[0m \u001b[0mst\u001b[0m\u001b[1;33m\u001b[0m\u001b[1;33m\u001b[0m\u001b[0m\n\u001b[1;32m----> 5\u001b[1;33m \u001b[0mfun\u001b[0m\u001b[1;33m(\u001b[0m\u001b[1;36m1\u001b[0m\u001b[1;33m,\u001b[0m \u001b[1;34m'ss'\u001b[0m\u001b[1;33m,\u001b[0m \u001b[1;36m1.44\u001b[0m\u001b[1;33m)\u001b[0m\u001b[1;33m\u001b[0m\u001b[1;33m\u001b[0m\u001b[0m\n\u001b[0m",
      "\u001b[1;32m~\\AppData\\Local\\Temp\\ipykernel_6780\\2346589190.py\u001b[0m in \u001b[0;36mfun\u001b[1;34m(i, f, st)\u001b[0m\n\u001b[0;32m      1\u001b[0m \u001b[1;31m# positional args - position matters\u001b[0m\u001b[1;33m\u001b[0m\u001b[1;33m\u001b[0m\u001b[0m\n\u001b[0;32m      2\u001b[0m \u001b[1;32mdef\u001b[0m \u001b[0mfun\u001b[0m\u001b[1;33m(\u001b[0m\u001b[0mi\u001b[0m\u001b[1;33m,\u001b[0m \u001b[0mf\u001b[0m\u001b[1;33m,\u001b[0m \u001b[0mst\u001b[0m\u001b[1;33m)\u001b[0m\u001b[1;33m:\u001b[0m\u001b[1;33m\u001b[0m\u001b[1;33m\u001b[0m\u001b[0m\n\u001b[1;32m----> 3\u001b[1;33m     \u001b[0ms\u001b[0m \u001b[1;33m=\u001b[0m \u001b[0mi\u001b[0m \u001b[1;33m+\u001b[0m \u001b[0mf\u001b[0m\u001b[1;33m\u001b[0m\u001b[1;33m\u001b[0m\u001b[0m\n\u001b[0m\u001b[0;32m      4\u001b[0m     \u001b[1;32mreturn\u001b[0m \u001b[0ms\u001b[0m\u001b[1;33m,\u001b[0m \u001b[0mst\u001b[0m\u001b[1;33m\u001b[0m\u001b[1;33m\u001b[0m\u001b[0m\n\u001b[0;32m      5\u001b[0m \u001b[0mfun\u001b[0m\u001b[1;33m(\u001b[0m\u001b[1;36m1\u001b[0m\u001b[1;33m,\u001b[0m \u001b[1;34m'ss'\u001b[0m\u001b[1;33m,\u001b[0m \u001b[1;36m1.44\u001b[0m\u001b[1;33m)\u001b[0m\u001b[1;33m\u001b[0m\u001b[1;33m\u001b[0m\u001b[0m\n",
      "\u001b[1;31mTypeError\u001b[0m: unsupported operand type(s) for +: 'int' and 'str'"
     ]
    }
   ],
   "source": [
    "# positional args - position matters\n",
    "def fun(i, f, st):\n",
    "    s = i + f\n",
    "    return s, st\n",
    "fun(1, 'ss', 1.44)"
   ]
  },
  {
   "cell_type": "code",
   "execution_count": 13,
   "id": "9bd0f611",
   "metadata": {},
   "outputs": [
    {
     "data": {
      "text/plain": [
       "(6.43, 'pjp')"
      ]
     },
     "execution_count": 13,
     "metadata": {},
     "output_type": "execute_result"
    }
   ],
   "source": [
    "# Keyword - this allows to change the order of arguments\n",
    "def func2(n, f, st):\n",
    "    s = n + f\n",
    "    return s, st\n",
    "func2(f = 2.43, st = 'pjp', n = 4)"
   ]
  },
  {
   "cell_type": "markdown",
   "id": "21ec3da8",
   "metadata": {},
   "source": [
    "12. Write a function to find the minimum of n numbers using variable length positional arguments."
   ]
  },
  {
   "cell_type": "code",
   "execution_count": 54,
   "id": "b004ee83",
   "metadata": {},
   "outputs": [
    {
     "data": {
      "text/plain": [
       "2"
      ]
     },
     "execution_count": 54,
     "metadata": {},
     "output_type": "execute_result"
    }
   ],
   "source": [
    "def findmin(*arg):\n",
    "    return min(arg)\n",
    "\n",
    "findmin(3, 11, 2, 5)"
   ]
  },
  {
   "cell_type": "markdown",
   "id": "f6f2f014",
   "metadata": {},
   "source": [
    "13. Write a function to concatenate n strings using variable length key word arguments."
   ]
  },
  {
   "cell_type": "code",
   "execution_count": 59,
   "id": "c9d290cb",
   "metadata": {},
   "outputs": [
    {
     "data": {
      "text/plain": [
       "'saadNA20B041'"
      ]
     },
     "execution_count": 59,
     "metadata": {},
     "output_type": "execute_result"
    }
   ],
   "source": [
    "def concate(**kwarg):\n",
    "    con = ''\n",
    "    for tup in kwarg.items():\n",
    "        con += tup[1]\n",
    "    return con\n",
    "concate(name = 'saad', roll = 'NA20B041')"
   ]
  },
  {
   "cell_type": "markdown",
   "id": "e04e70ea",
   "metadata": {},
   "source": [
    "14. Describe filter () and reduce () functions with suitable examples.\n",
    "\n",
    "The filter() function is used to filter out elements from an iterable based on a given condition. It takes two arguments: a function that defines the condition for filtering, and an iterable that needs to be filtered."
   ]
  },
  {
   "cell_type": "code",
   "execution_count": 5,
   "id": "b66ba5ec",
   "metadata": {},
   "outputs": [
    {
     "name": "stdout",
     "output_type": "stream",
     "text": [
      "[2, 4, 6, 8, 10]\n"
     ]
    }
   ],
   "source": [
    "numbers = [1, 2, 3, 4, 5, 6, 7, 8, 9, 10]\n",
    "\n",
    "def is_even(num):\n",
    "    return num % 2 == 0\n",
    "\n",
    "result = list(filter(is_even, numbers))\n",
    "print(result)"
   ]
  },
  {
   "cell_type": "markdown",
   "id": "78ac6006",
   "metadata": {},
   "source": [
    "The reduce() function is used to apply a function to all the elements in an iterable and reduce it to a single value. It takes two arguments: a function that defines the operation to be performed, and an iterable that needs to be reduced."
   ]
  },
  {
   "cell_type": "code",
   "execution_count": 68,
   "id": "0e00f8f5",
   "metadata": {},
   "outputs": [
    {
     "name": "stdout",
     "output_type": "stream",
     "text": [
      "15\n"
     ]
    }
   ],
   "source": [
    "from functools import reduce\n",
    "\n",
    "numbers = [1, 2, 3, 4, 5]\n",
    "\n",
    "def sum(x, y):\n",
    "    return x + y\n",
    "\n",
    "result = reduce(sum, numbers)\n",
    "print(result) "
   ]
  }
 ],
 "metadata": {
  "kernelspec": {
   "display_name": "Python 3 (ipykernel)",
   "language": "python",
   "name": "python3"
  },
  "language_info": {
   "codemirror_mode": {
    "name": "ipython",
    "version": 3
   },
   "file_extension": ".py",
   "mimetype": "text/x-python",
   "name": "python",
   "nbconvert_exporter": "python",
   "pygments_lexer": "ipython3",
   "version": "3.9.13"
  }
 },
 "nbformat": 4,
 "nbformat_minor": 5
}
