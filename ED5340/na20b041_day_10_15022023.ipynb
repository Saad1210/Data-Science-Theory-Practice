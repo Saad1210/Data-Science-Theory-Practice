{
 "cells": [
  {
   "cell_type": "markdown",
   "id": "67851e7c",
   "metadata": {},
   "source": [
    "# Home Work\n"
   ]
  },
  {
   "cell_type": "markdown",
   "id": "1794842a",
   "metadata": {},
   "source": [
    "# Miscelenious\n"
   ]
  },
  {
   "cell_type": "markdown",
   "id": "beb8108e",
   "metadata": {},
   "source": [
    "Dictionaries\n",
    "- collection of key-val pair\n",
    "- enclosed in curly brackets {}\n",
    "- Indexed only by keys\n",
    "- Different keys may have same values\n",
    "\n",
    "Accessing dictionary elements\n",
    "- using its key, and the corrosponding values can be accessed\n",
    "\n",
    "Dic oprations\n",
    "- Dic are mutable (add, delete or modify)\n",
    "- "
   ]
  },
  {
   "cell_type": "code",
   "execution_count": 34,
   "id": "a40bbfb1",
   "metadata": {},
   "outputs": [],
   "source": [
    "d = {3:30, 's1':'v', 'l':[1,2,3]}"
   ]
  },
  {
   "cell_type": "code",
   "execution_count": 6,
   "id": "576db37b",
   "metadata": {},
   "outputs": [
    {
     "name": "stdout",
     "output_type": "stream",
     "text": [
      "3 30\n",
      "k v\n",
      "l [1, 2, 3]\n"
     ]
    }
   ],
   "source": [
    "for i in d:\n",
    "    print(i,d[i])"
   ]
  },
  {
   "cell_type": "code",
   "execution_count": 8,
   "id": "269bdac5",
   "metadata": {},
   "outputs": [],
   "source": [
    "d['k'] = 'val'"
   ]
  },
  {
   "cell_type": "code",
   "execution_count": 10,
   "id": "dd4c8df7",
   "metadata": {},
   "outputs": [
    {
     "data": {
      "text/plain": [
       "dict_items([(3, 30), ('k', 'val'), ('l', [1, 2, 3])])"
      ]
     },
     "execution_count": 10,
     "metadata": {},
     "output_type": "execute_result"
    }
   ],
   "source": [
    "d.items()"
   ]
  },
  {
   "cell_type": "code",
   "execution_count": 11,
   "id": "cbb81810",
   "metadata": {},
   "outputs": [
    {
     "data": {
      "text/plain": [
       "dict_keys([3, 'k', 'l'])"
      ]
     },
     "execution_count": 11,
     "metadata": {},
     "output_type": "execute_result"
    }
   ],
   "source": [
    "d.keys()"
   ]
  },
  {
   "cell_type": "code",
   "execution_count": 12,
   "id": "01704779",
   "metadata": {},
   "outputs": [
    {
     "data": {
      "text/plain": [
       "dict_values([30, 'val', [1, 2, 3]])"
      ]
     },
     "execution_count": 12,
     "metadata": {},
     "output_type": "execute_result"
    }
   ],
   "source": [
    "d.values()"
   ]
  },
  {
   "cell_type": "code",
   "execution_count": 14,
   "id": "04c71351",
   "metadata": {},
   "outputs": [],
   "source": [
    "s1 = {1,2}\n",
    "s2 = {1,3}"
   ]
  },
  {
   "cell_type": "code",
   "execution_count": 16,
   "id": "a1d328c9",
   "metadata": {},
   "outputs": [],
   "source": [
    "s1.update(s2)"
   ]
  },
  {
   "cell_type": "code",
   "execution_count": 17,
   "id": "f6788698",
   "metadata": {},
   "outputs": [
    {
     "data": {
      "text/plain": [
       "{1, 2, 3}"
      ]
     },
     "execution_count": 17,
     "metadata": {},
     "output_type": "execute_result"
    }
   ],
   "source": [
    "s1 "
   ]
  },
  {
   "cell_type": "code",
   "execution_count": 32,
   "id": "045272d7",
   "metadata": {},
   "outputs": [
    {
     "data": {
      "text/plain": [
       "[('s1', 'dnla'), ('s2', 'pioyut'), ('s3', 'aougi')]"
      ]
     },
     "execution_count": 32,
     "metadata": {},
     "output_type": "execute_result"
    }
   ],
   "source": [
    "d1 = {'s1':'dnla', 's3':'aougi', 's2':'pioyut'}\n",
    "sorted(d1.items())"
   ]
  },
  {
   "cell_type": "code",
   "execution_count": 31,
   "id": "90a33fea",
   "metadata": {},
   "outputs": [
    {
     "data": {
      "text/plain": [
       "['aougi', 'dnla', 'pioyut']"
      ]
     },
     "execution_count": 31,
     "metadata": {},
     "output_type": "execute_result"
    }
   ],
   "source": [
    "sorted(d1.values())"
   ]
  },
  {
   "cell_type": "code",
   "execution_count": 35,
   "id": "76f4cb3d",
   "metadata": {},
   "outputs": [
    {
     "data": {
      "text/plain": [
       "{'s1': 'v', 's3': 'aougi', 's2': 'pioyut', 3: 30, 'k': 'v', 'l': [1, 2, 3]}"
      ]
     },
     "execution_count": 35,
     "metadata": {},
     "output_type": "execute_result"
    }
   ],
   "source": [
    "d1.update(d)\n",
    "d1"
   ]
  },
  {
   "cell_type": "code",
   "execution_count": 36,
   "id": "319e407d",
   "metadata": {},
   "outputs": [],
   "source": [
    "d.clear()"
   ]
  },
  {
   "cell_type": "code",
   "execution_count": 37,
   "id": "6c26ba55",
   "metadata": {},
   "outputs": [
    {
     "data": {
      "text/plain": [
       "{}"
      ]
     },
     "execution_count": 37,
     "metadata": {},
     "output_type": "execute_result"
    }
   ],
   "source": [
    "d"
   ]
  },
  {
   "cell_type": "code",
   "execution_count": 39,
   "id": "113dc661",
   "metadata": {},
   "outputs": [
    {
     "data": {
      "text/plain": [
       "False"
      ]
     },
     "execution_count": 39,
     "metadata": {},
     "output_type": "execute_result"
    }
   ],
   "source": [
    "not(d1)"
   ]
  },
  {
   "cell_type": "code",
   "execution_count": 40,
   "id": "b9e572bf",
   "metadata": {},
   "outputs": [
    {
     "data": {
      "text/plain": [
       "{'s1': 'v', 's3': 'aougi', 's2': 'pioyut', 3: 30, 'k': 'v', 'l': [1, 2, 3]}"
      ]
     },
     "execution_count": 40,
     "metadata": {},
     "output_type": "execute_result"
    }
   ],
   "source": [
    "# dic comprihension\n",
    "dic_compri = {key:value for (key,value) in d1.items()}\n",
    "dic_compri"
   ]
  },
  {
   "cell_type": "code",
   "execution_count": 45,
   "id": "924391bd",
   "metadata": {},
   "outputs": [
    {
     "data": {
      "text/plain": [
       "{1: 'one', 2: 'two', 3: 'three', 'nested dic': {1: 'ek', 2: 'do', 3: 'teen'}}"
      ]
     },
     "execution_count": 45,
     "metadata": {},
     "output_type": "execute_result"
    }
   ],
   "source": [
    "# Nested dictionaries \n",
    "dd = {1:'one',2:'two',3:'three','nested dic':{1:'ek',2:'do',3:'teen'}}\n",
    "dd"
   ]
  },
  {
   "cell_type": "code",
   "execution_count": 48,
   "id": "ff68c220",
   "metadata": {},
   "outputs": [
    {
     "data": {
      "text/plain": [
       "'two'"
      ]
     },
     "execution_count": 48,
     "metadata": {},
     "output_type": "execute_result"
    }
   ],
   "source": [
    "dd[2]"
   ]
  },
  {
   "cell_type": "code",
   "execution_count": 52,
   "id": "eb87f755",
   "metadata": {},
   "outputs": [
    {
     "name": "stdout",
     "output_type": "stream",
     "text": [
      "1 2 3 nested dic\n"
     ]
    }
   ],
   "source": [
    "print(*dd)"
   ]
  },
  {
   "cell_type": "code",
   "execution_count": null,
   "id": "5cdba449",
   "metadata": {},
   "outputs": [],
   "source": []
  }
 ],
 "metadata": {
  "kernelspec": {
   "display_name": "Python 3 (ipykernel)",
   "language": "python",
   "name": "python3"
  },
  "language_info": {
   "codemirror_mode": {
    "name": "ipython",
    "version": 3
   },
   "file_extension": ".py",
   "mimetype": "text/x-python",
   "name": "python",
   "nbconvert_exporter": "python",
   "pygments_lexer": "ipython3",
   "version": "3.9.13"
  }
 },
 "nbformat": 4,
 "nbformat_minor": 5
}
