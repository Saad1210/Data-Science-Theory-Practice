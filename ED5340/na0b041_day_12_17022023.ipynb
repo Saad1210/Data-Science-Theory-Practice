{
 "cells": [
  {
   "cell_type": "markdown",
   "id": "5039a80e",
   "metadata": {},
   "source": [
    "# Home Work\n",
    "\n",
    "1. Do the factorial "
   ]
  },
  {
   "cell_type": "markdown",
   "id": "b0b6cfa7",
   "metadata": {},
   "source": [
    "# Miscellineous\n",
    "- *args is variable length positional argument\n",
    "- ** kwarg is variable length keew word arguments\n",
    "- "
   ]
  },
  {
   "cell_type": "markdown",
   "id": "b1cad9c8",
   "metadata": {},
   "source": [
    "Resursion Function\n",
    "- \n",
    "\n",
    "Lambda Functions\n",
    "- one liner\n",
    "- it doesnt have a name\n",
    "- used for short functional\n",
    "- syntax\n",
    "    - lambda argument : return"
   ]
  },
  {
   "cell_type": "code",
   "execution_count": 1,
   "id": "f19e822d",
   "metadata": {},
   "outputs": [],
   "source": [
    "def kwvar_arg(**kwargs):\n",
    "    for k,v in kwargs.items():\n",
    "        print(k,v)"
   ]
  },
  {
   "cell_type": "code",
   "execution_count": 6,
   "id": "53f8d5a5",
   "metadata": {},
   "outputs": [
    {
     "name": "stdout",
     "output_type": "stream",
     "text": [
      "i 10\n",
      "i 10\n",
      "j 20.34\n",
      "k ibu\n"
     ]
    },
    {
     "ename": "TypeError",
     "evalue": "kwvar_arg() takes 0 positional arguments but 2 were given",
     "output_type": "error",
     "traceback": [
      "\u001b[1;31m---------------------------------------------------------------------------\u001b[0m",
      "\u001b[1;31mTypeError\u001b[0m                                 Traceback (most recent call last)",
      "\u001b[1;32m~\\AppData\\Local\\Temp\\ipykernel_9948\\3673093659.py\u001b[0m in \u001b[0;36m<module>\u001b[1;34m\u001b[0m\n\u001b[0;32m      1\u001b[0m \u001b[0mkwvar_arg\u001b[0m\u001b[1;33m(\u001b[0m\u001b[0mi\u001b[0m \u001b[1;33m=\u001b[0m \u001b[1;36m10\u001b[0m\u001b[1;33m)\u001b[0m\u001b[1;33m\u001b[0m\u001b[1;33m\u001b[0m\u001b[0m\n\u001b[0;32m      2\u001b[0m \u001b[0mkwvar_arg\u001b[0m\u001b[1;33m(\u001b[0m\u001b[0mi\u001b[0m \u001b[1;33m=\u001b[0m \u001b[1;36m10\u001b[0m\u001b[1;33m,\u001b[0m \u001b[0mj\u001b[0m \u001b[1;33m=\u001b[0m \u001b[1;36m20.34\u001b[0m\u001b[1;33m,\u001b[0m \u001b[0mk\u001b[0m \u001b[1;33m=\u001b[0m \u001b[1;34m'ibu'\u001b[0m\u001b[1;33m)\u001b[0m\u001b[1;33m\u001b[0m\u001b[1;33m\u001b[0m\u001b[0m\n\u001b[1;32m----> 3\u001b[1;33m \u001b[0mkwvar_arg\u001b[0m\u001b[1;33m(\u001b[0m\u001b[1;36m10\u001b[0m\u001b[1;33m,\u001b[0m \u001b[1;36m26\u001b[0m\u001b[1;33m)\u001b[0m\u001b[1;33m\u001b[0m\u001b[1;33m\u001b[0m\u001b[0m\n\u001b[0m",
      "\u001b[1;31mTypeError\u001b[0m: kwvar_arg() takes 0 positional arguments but 2 were given"
     ]
    }
   ],
   "source": [
    "kwvar_arg(i = 10)\n",
    "kwvar_arg(i = 10, j = 20.34, k = 'ibu')\n",
    "# kwvar_arg(10, 26) # gives TypeError"
   ]
  },
  {
   "cell_type": "code",
   "execution_count": 5,
   "id": "37b7b7b8",
   "metadata": {},
   "outputs": [
    {
     "data": {
      "text/plain": [
       "(1, [2, 3], 4)"
      ]
     },
     "execution_count": 5,
     "metadata": {},
     "output_type": "execute_result"
    }
   ],
   "source": [
    "# first, *rest = [1,2,3,4]\n",
    "first, *l, last = [1,2,3,4]\n",
    "first, l, last"
   ]
  },
  {
   "cell_type": "code",
   "execution_count": 11,
   "id": "bcaaebf0",
   "metadata": {},
   "outputs": [
    {
     "data": {
      "text/plain": [
       "55"
      ]
     },
     "execution_count": 11,
     "metadata": {},
     "output_type": "execute_result"
    }
   ],
   "source": [
    "# sum of n integers \n",
    "def Sumint(n):\n",
    "    if n == 0:\n",
    "        return 0\n",
    "    if n > 0 :\n",
    "        return n + Sumint(n-1)\n",
    "Sumint(10)"
   ]
  },
  {
   "cell_type": "code",
   "execution_count": 12,
   "id": "60a7a31b",
   "metadata": {},
   "outputs": [
    {
     "data": {
      "text/plain": [
       "6"
      ]
     },
     "execution_count": 12,
     "metadata": {},
     "output_type": "execute_result"
    }
   ],
   "source": [
    "# lambda functions\n",
    "mul = lambda a,b : a*b\n",
    "mul(2,3)"
   ]
  },
  {
   "cell_type": "code",
   "execution_count": null,
   "id": "5f86f48b",
   "metadata": {},
   "outputs": [],
   "source": []
  }
 ],
 "metadata": {
  "kernelspec": {
   "display_name": "Python 3 (ipykernel)",
   "language": "python",
   "name": "python3"
  },
  "language_info": {
   "codemirror_mode": {
    "name": "ipython",
    "version": 3
   },
   "file_extension": ".py",
   "mimetype": "text/x-python",
   "name": "python",
   "nbconvert_exporter": "python",
   "pygments_lexer": "ipython3",
   "version": "3.9.13"
  }
 },
 "nbformat": 4,
 "nbformat_minor": 5
}
