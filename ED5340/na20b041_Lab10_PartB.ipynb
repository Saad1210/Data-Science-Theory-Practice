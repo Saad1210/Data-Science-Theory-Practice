{
 "cells": [
  {
   "cell_type": "markdown",
   "id": "367f1162",
   "metadata": {},
   "source": [
    "1. Derive the gradient expression for logistic regression with regularization. (Upload the photo)\n",
    "\n",
    "2. Perform  polynomial regression of degree 3 on the given train dataset. Predict the mean square error for the test data set with the obtained model (use constant learning rate) also print the final weights.\n",
    "\n",
    "   a)Without regularization\n",
    "\n",
    "   b)With regularization"
   ]
  },
  {
   "cell_type": "code",
   "execution_count": 1,
   "id": "acf08f31",
   "metadata": {},
   "outputs": [],
   "source": [
    "import pandas as pd\n",
    "import numpy as np\n",
    "import matplotlib.pyplot as plt"
   ]
  },
  {
   "cell_type": "code",
   "execution_count": 2,
   "id": "76334022",
   "metadata": {},
   "outputs": [
    {
     "data": {
      "text/html": [
       "<div>\n",
       "<style scoped>\n",
       "    .dataframe tbody tr th:only-of-type {\n",
       "        vertical-align: middle;\n",
       "    }\n",
       "\n",
       "    .dataframe tbody tr th {\n",
       "        vertical-align: top;\n",
       "    }\n",
       "\n",
       "    .dataframe thead th {\n",
       "        text-align: right;\n",
       "    }\n",
       "</style>\n",
       "<table border=\"1\" class=\"dataframe\">\n",
       "  <thead>\n",
       "    <tr style=\"text-align: right;\">\n",
       "      <th></th>\n",
       "      <th>x</th>\n",
       "      <th>y</th>\n",
       "    </tr>\n",
       "  </thead>\n",
       "  <tbody>\n",
       "    <tr>\n",
       "      <th>0</th>\n",
       "      <td>-10.000000</td>\n",
       "      <td>-1766.000000</td>\n",
       "    </tr>\n",
       "    <tr>\n",
       "      <th>1</th>\n",
       "      <td>-9.899497</td>\n",
       "      <td>-1710.603914</td>\n",
       "    </tr>\n",
       "    <tr>\n",
       "      <th>2</th>\n",
       "      <td>-9.798995</td>\n",
       "      <td>-1656.367334</td>\n",
       "    </tr>\n",
       "    <tr>\n",
       "      <th>3</th>\n",
       "      <td>-9.698492</td>\n",
       "      <td>-1603.278077</td>\n",
       "    </tr>\n",
       "    <tr>\n",
       "      <th>4</th>\n",
       "      <td>-9.597990</td>\n",
       "      <td>-1551.323963</td>\n",
       "    </tr>\n",
       "    <tr>\n",
       "      <th>...</th>\n",
       "      <td>...</td>\n",
       "      <td>...</td>\n",
       "    </tr>\n",
       "    <tr>\n",
       "      <th>195</th>\n",
       "      <td>9.597990</td>\n",
       "      <td>1927.809608</td>\n",
       "    </tr>\n",
       "    <tr>\n",
       "      <th>196</th>\n",
       "      <td>9.698492</td>\n",
       "      <td>1987.521102</td>\n",
       "    </tr>\n",
       "    <tr>\n",
       "      <th>197</th>\n",
       "      <td>9.798995</td>\n",
       "      <td>2048.448544</td>\n",
       "    </tr>\n",
       "    <tr>\n",
       "      <th>198</th>\n",
       "      <td>9.899497</td>\n",
       "      <td>2110.604116</td>\n",
       "    </tr>\n",
       "    <tr>\n",
       "      <th>199</th>\n",
       "      <td>10.000000</td>\n",
       "      <td>2174.000000</td>\n",
       "    </tr>\n",
       "  </tbody>\n",
       "</table>\n",
       "<p>200 rows × 2 columns</p>\n",
       "</div>"
      ],
      "text/plain": [
       "             x            y\n",
       "0   -10.000000 -1766.000000\n",
       "1    -9.899497 -1710.603914\n",
       "2    -9.798995 -1656.367334\n",
       "3    -9.698492 -1603.278077\n",
       "4    -9.597990 -1551.323963\n",
       "..         ...          ...\n",
       "195   9.597990  1927.809608\n",
       "196   9.698492  1987.521102\n",
       "197   9.798995  2048.448544\n",
       "198   9.899497  2110.604116\n",
       "199  10.000000  2174.000000\n",
       "\n",
       "[200 rows x 2 columns]"
      ]
     },
     "execution_count": 2,
     "metadata": {},
     "output_type": "execute_result"
    }
   ],
   "source": [
    "train_df = pd.read_csv('Train_dataset.csv')\n",
    "train_df.head()"
   ]
  },
  {
   "cell_type": "code",
   "execution_count": 51,
   "id": "1ea2c1ab",
   "metadata": {
    "scrolled": true
   },
   "outputs": [
    {
     "data": {
      "text/html": [
       "<div>\n",
       "<style scoped>\n",
       "    .dataframe tbody tr th:only-of-type {\n",
       "        vertical-align: middle;\n",
       "    }\n",
       "\n",
       "    .dataframe tbody tr th {\n",
       "        vertical-align: top;\n",
       "    }\n",
       "\n",
       "    .dataframe thead th {\n",
       "        text-align: right;\n",
       "    }\n",
       "</style>\n",
       "<table border=\"1\" class=\"dataframe\">\n",
       "  <thead>\n",
       "    <tr style=\"text-align: right;\">\n",
       "      <th></th>\n",
       "      <th>x</th>\n",
       "      <th>y</th>\n",
       "    </tr>\n",
       "  </thead>\n",
       "  <tbody>\n",
       "    <tr>\n",
       "      <th>0</th>\n",
       "      <td>-10.000000</td>\n",
       "      <td>-1767.898729</td>\n",
       "    </tr>\n",
       "    <tr>\n",
       "      <th>1</th>\n",
       "      <td>-9.487179</td>\n",
       "      <td>-1496.271751</td>\n",
       "    </tr>\n",
       "    <tr>\n",
       "      <th>2</th>\n",
       "      <td>-8.974359</td>\n",
       "      <td>-1254.183644</td>\n",
       "    </tr>\n",
       "    <tr>\n",
       "      <th>3</th>\n",
       "      <td>-8.461538</td>\n",
       "      <td>-1040.888009</td>\n",
       "    </tr>\n",
       "    <tr>\n",
       "      <th>4</th>\n",
       "      <td>-7.948718</td>\n",
       "      <td>-849.077111</td>\n",
       "    </tr>\n",
       "    <tr>\n",
       "      <th>5</th>\n",
       "      <td>-7.435897</td>\n",
       "      <td>-686.262692</td>\n",
       "    </tr>\n",
       "    <tr>\n",
       "      <th>6</th>\n",
       "      <td>-6.923077</td>\n",
       "      <td>-545.224138</td>\n",
       "    </tr>\n",
       "    <tr>\n",
       "      <th>7</th>\n",
       "      <td>-6.410256</td>\n",
       "      <td>-419.853904</td>\n",
       "    </tr>\n",
       "    <tr>\n",
       "      <th>8</th>\n",
       "      <td>-5.897436</td>\n",
       "      <td>-321.444054</td>\n",
       "    </tr>\n",
       "    <tr>\n",
       "      <th>9</th>\n",
       "      <td>-5.384615</td>\n",
       "      <td>-233.948414</td>\n",
       "    </tr>\n",
       "    <tr>\n",
       "      <th>10</th>\n",
       "      <td>-4.871795</td>\n",
       "      <td>-164.786088</td>\n",
       "    </tr>\n",
       "    <tr>\n",
       "      <th>11</th>\n",
       "      <td>-4.358974</td>\n",
       "      <td>-111.769920</td>\n",
       "    </tr>\n",
       "    <tr>\n",
       "      <th>12</th>\n",
       "      <td>-3.846154</td>\n",
       "      <td>-68.532441</td>\n",
       "    </tr>\n",
       "    <tr>\n",
       "      <th>13</th>\n",
       "      <td>-3.333333</td>\n",
       "      <td>-40.147304</td>\n",
       "    </tr>\n",
       "    <tr>\n",
       "      <th>14</th>\n",
       "      <td>-2.820513</td>\n",
       "      <td>-13.688711</td>\n",
       "    </tr>\n",
       "    <tr>\n",
       "      <th>15</th>\n",
       "      <td>-2.307692</td>\n",
       "      <td>-1.099846</td>\n",
       "    </tr>\n",
       "    <tr>\n",
       "      <th>16</th>\n",
       "      <td>-1.794872</td>\n",
       "      <td>5.403204</td>\n",
       "    </tr>\n",
       "    <tr>\n",
       "      <th>17</th>\n",
       "      <td>-1.282051</td>\n",
       "      <td>5.166884</td>\n",
       "    </tr>\n",
       "    <tr>\n",
       "      <th>18</th>\n",
       "      <td>-0.769231</td>\n",
       "      <td>7.308543</td>\n",
       "    </tr>\n",
       "    <tr>\n",
       "      <th>19</th>\n",
       "      <td>-0.256410</td>\n",
       "      <td>6.394550</td>\n",
       "    </tr>\n",
       "    <tr>\n",
       "      <th>20</th>\n",
       "      <td>0.256410</td>\n",
       "      <td>2.942306</td>\n",
       "    </tr>\n",
       "    <tr>\n",
       "      <th>21</th>\n",
       "      <td>0.769231</td>\n",
       "      <td>3.416502</td>\n",
       "    </tr>\n",
       "    <tr>\n",
       "      <th>22</th>\n",
       "      <td>1.282051</td>\n",
       "      <td>7.987157</td>\n",
       "    </tr>\n",
       "    <tr>\n",
       "      <th>23</th>\n",
       "      <td>1.794872</td>\n",
       "      <td>14.781894</td>\n",
       "    </tr>\n",
       "    <tr>\n",
       "      <th>24</th>\n",
       "      <td>2.307692</td>\n",
       "      <td>34.732564</td>\n",
       "    </tr>\n",
       "    <tr>\n",
       "      <th>25</th>\n",
       "      <td>2.820513</td>\n",
       "      <td>55.418389</td>\n",
       "    </tr>\n",
       "    <tr>\n",
       "      <th>26</th>\n",
       "      <td>3.333333</td>\n",
       "      <td>90.316976</td>\n",
       "    </tr>\n",
       "    <tr>\n",
       "      <th>27</th>\n",
       "      <td>3.846154</td>\n",
       "      <td>134.487090</td>\n",
       "    </tr>\n",
       "    <tr>\n",
       "      <th>28</th>\n",
       "      <td>4.358974</td>\n",
       "      <td>194.060926</td>\n",
       "    </tr>\n",
       "    <tr>\n",
       "      <th>29</th>\n",
       "      <td>4.871795</td>\n",
       "      <td>268.850285</td>\n",
       "    </tr>\n",
       "    <tr>\n",
       "      <th>30</th>\n",
       "      <td>5.384615</td>\n",
       "      <td>357.286137</td>\n",
       "    </tr>\n",
       "    <tr>\n",
       "      <th>31</th>\n",
       "      <td>5.897436</td>\n",
       "      <td>467.019593</td>\n",
       "    </tr>\n",
       "    <tr>\n",
       "      <th>32</th>\n",
       "      <td>6.410256</td>\n",
       "      <td>595.838508</td>\n",
       "    </tr>\n",
       "    <tr>\n",
       "      <th>33</th>\n",
       "      <td>6.923077</td>\n",
       "      <td>744.009102</td>\n",
       "    </tr>\n",
       "    <tr>\n",
       "      <th>34</th>\n",
       "      <td>7.435897</td>\n",
       "      <td>912.633868</td>\n",
       "    </tr>\n",
       "    <tr>\n",
       "      <th>35</th>\n",
       "      <td>7.948718</td>\n",
       "      <td>1113.041472</td>\n",
       "    </tr>\n",
       "    <tr>\n",
       "      <th>36</th>\n",
       "      <td>8.461538</td>\n",
       "      <td>1335.020061</td>\n",
       "    </tr>\n",
       "    <tr>\n",
       "      <th>37</th>\n",
       "      <td>8.974359</td>\n",
       "      <td>1584.605544</td>\n",
       "    </tr>\n",
       "    <tr>\n",
       "      <th>38</th>\n",
       "      <td>9.487179</td>\n",
       "      <td>1867.987470</td>\n",
       "    </tr>\n",
       "    <tr>\n",
       "      <th>39</th>\n",
       "      <td>10.000000</td>\n",
       "      <td>2174.563874</td>\n",
       "    </tr>\n",
       "  </tbody>\n",
       "</table>\n",
       "</div>"
      ],
      "text/plain": [
       "            x            y\n",
       "0  -10.000000 -1767.898729\n",
       "1   -9.487179 -1496.271751\n",
       "2   -8.974359 -1254.183644\n",
       "3   -8.461538 -1040.888009\n",
       "4   -7.948718  -849.077111\n",
       "5   -7.435897  -686.262692\n",
       "6   -6.923077  -545.224138\n",
       "7   -6.410256  -419.853904\n",
       "8   -5.897436  -321.444054\n",
       "9   -5.384615  -233.948414\n",
       "10  -4.871795  -164.786088\n",
       "11  -4.358974  -111.769920\n",
       "12  -3.846154   -68.532441\n",
       "13  -3.333333   -40.147304\n",
       "14  -2.820513   -13.688711\n",
       "15  -2.307692    -1.099846\n",
       "16  -1.794872     5.403204\n",
       "17  -1.282051     5.166884\n",
       "18  -0.769231     7.308543\n",
       "19  -0.256410     6.394550\n",
       "20   0.256410     2.942306\n",
       "21   0.769231     3.416502\n",
       "22   1.282051     7.987157\n",
       "23   1.794872    14.781894\n",
       "24   2.307692    34.732564\n",
       "25   2.820513    55.418389\n",
       "26   3.333333    90.316976\n",
       "27   3.846154   134.487090\n",
       "28   4.358974   194.060926\n",
       "29   4.871795   268.850285\n",
       "30   5.384615   357.286137\n",
       "31   5.897436   467.019593\n",
       "32   6.410256   595.838508\n",
       "33   6.923077   744.009102\n",
       "34   7.435897   912.633868\n",
       "35   7.948718  1113.041472\n",
       "36   8.461538  1335.020061\n",
       "37   8.974359  1584.605544\n",
       "38   9.487179  1867.987470\n",
       "39  10.000000  2174.563874"
      ]
     },
     "execution_count": 51,
     "metadata": {},
     "output_type": "execute_result"
    }
   ],
   "source": [
    "test_df = pd.read_csv('Test_dataset.csv')\n",
    "test_df.head()"
   ]
  },
  {
   "cell_type": "code",
   "execution_count": 9,
   "id": "3a7ac9d6",
   "metadata": {},
   "outputs": [],
   "source": [
    "# normalizing the data\n",
    "train_df['x'] = (train_df['x'] - train_df['x'].mean()) / train_df['x'].std()"
   ]
  },
  {
   "cell_type": "code",
   "execution_count": 52,
   "id": "dd4fc2a6",
   "metadata": {},
   "outputs": [],
   "source": [
    "test_df['x'] = (test_df['x'] - test_df['x'].mean()) / test_df['x'].std()"
   ]
  },
  {
   "cell_type": "code",
   "execution_count": 11,
   "id": "7f1ce4e6",
   "metadata": {},
   "outputs": [],
   "source": [
    "# adding polinomial terms\n",
    "train_df['x^2'] = train_df['x']**2\n",
    "train_df['x^3'] = train_df['x']**3\n",
    "train_df['x0'] = 1"
   ]
  },
  {
   "cell_type": "code",
   "execution_count": 53,
   "id": "bef96075",
   "metadata": {},
   "outputs": [],
   "source": [
    "test_df['x^2'] = test_df['x']**2\n",
    "test_df['x^3'] = test_df['x']**3\n",
    "test_df['x0'] = 1"
   ]
  },
  {
   "cell_type": "code",
   "execution_count": 36,
   "id": "926ae752",
   "metadata": {},
   "outputs": [],
   "source": [
    "# splitting the data\n",
    "X_train = train_df.drop(['y'], axis = 1)\n",
    "y_train = train_df['y']"
   ]
  },
  {
   "cell_type": "code",
   "execution_count": 54,
   "id": "c421f4fd",
   "metadata": {},
   "outputs": [],
   "source": [
    "X_test = test_df.drop(['y'], axis = 1)\n",
    "y_test = test_df['y']"
   ]
  },
  {
   "cell_type": "code",
   "execution_count": 37,
   "id": "1ce153c8",
   "metadata": {},
   "outputs": [
    {
     "data": {
      "text/html": [
       "<div>\n",
       "<style scoped>\n",
       "    .dataframe tbody tr th:only-of-type {\n",
       "        vertical-align: middle;\n",
       "    }\n",
       "\n",
       "    .dataframe tbody tr th {\n",
       "        vertical-align: top;\n",
       "    }\n",
       "\n",
       "    .dataframe thead th {\n",
       "        text-align: right;\n",
       "    }\n",
       "</style>\n",
       "<table border=\"1\" class=\"dataframe\">\n",
       "  <thead>\n",
       "    <tr style=\"text-align: right;\">\n",
       "      <th></th>\n",
       "      <th>x</th>\n",
       "      <th>x^2</th>\n",
       "      <th>x^3</th>\n",
       "      <th>x0</th>\n",
       "    </tr>\n",
       "  </thead>\n",
       "  <tbody>\n",
       "    <tr>\n",
       "      <th>0</th>\n",
       "      <td>-1.719098</td>\n",
       "      <td>2.955299</td>\n",
       "      <td>-5.080448</td>\n",
       "      <td>1</td>\n",
       "    </tr>\n",
       "    <tr>\n",
       "      <th>1</th>\n",
       "      <td>-1.701821</td>\n",
       "      <td>2.896194</td>\n",
       "      <td>-4.928803</td>\n",
       "      <td>1</td>\n",
       "    </tr>\n",
       "    <tr>\n",
       "      <th>2</th>\n",
       "      <td>-1.684543</td>\n",
       "      <td>2.837687</td>\n",
       "      <td>-4.780206</td>\n",
       "      <td>1</td>\n",
       "    </tr>\n",
       "    <tr>\n",
       "      <th>3</th>\n",
       "      <td>-1.667266</td>\n",
       "      <td>2.779776</td>\n",
       "      <td>-4.634626</td>\n",
       "      <td>1</td>\n",
       "    </tr>\n",
       "    <tr>\n",
       "      <th>4</th>\n",
       "      <td>-1.649989</td>\n",
       "      <td>2.722463</td>\n",
       "      <td>-4.492033</td>\n",
       "      <td>1</td>\n",
       "    </tr>\n",
       "    <tr>\n",
       "      <th>...</th>\n",
       "      <td>...</td>\n",
       "      <td>...</td>\n",
       "      <td>...</td>\n",
       "      <td>...</td>\n",
       "    </tr>\n",
       "    <tr>\n",
       "      <th>195</th>\n",
       "      <td>1.649989</td>\n",
       "      <td>2.722463</td>\n",
       "      <td>4.492033</td>\n",
       "      <td>1</td>\n",
       "    </tr>\n",
       "    <tr>\n",
       "      <th>196</th>\n",
       "      <td>1.667266</td>\n",
       "      <td>2.779776</td>\n",
       "      <td>4.634626</td>\n",
       "      <td>1</td>\n",
       "    </tr>\n",
       "    <tr>\n",
       "      <th>197</th>\n",
       "      <td>1.684543</td>\n",
       "      <td>2.837687</td>\n",
       "      <td>4.780206</td>\n",
       "      <td>1</td>\n",
       "    </tr>\n",
       "    <tr>\n",
       "      <th>198</th>\n",
       "      <td>1.701821</td>\n",
       "      <td>2.896194</td>\n",
       "      <td>4.928803</td>\n",
       "      <td>1</td>\n",
       "    </tr>\n",
       "    <tr>\n",
       "      <th>199</th>\n",
       "      <td>1.719098</td>\n",
       "      <td>2.955299</td>\n",
       "      <td>5.080448</td>\n",
       "      <td>1</td>\n",
       "    </tr>\n",
       "  </tbody>\n",
       "</table>\n",
       "<p>200 rows × 4 columns</p>\n",
       "</div>"
      ],
      "text/plain": [
       "            x       x^2       x^3  x0\n",
       "0   -1.719098  2.955299 -5.080448   1\n",
       "1   -1.701821  2.896194 -4.928803   1\n",
       "2   -1.684543  2.837687 -4.780206   1\n",
       "3   -1.667266  2.779776 -4.634626   1\n",
       "4   -1.649989  2.722463 -4.492033   1\n",
       "..        ...       ...       ...  ..\n",
       "195  1.649989  2.722463  4.492033   1\n",
       "196  1.667266  2.779776  4.634626   1\n",
       "197  1.684543  2.837687  4.780206   1\n",
       "198  1.701821  2.896194  4.928803   1\n",
       "199  1.719098  2.955299  5.080448   1\n",
       "\n",
       "[200 rows x 4 columns]"
      ]
     },
     "execution_count": 37,
     "metadata": {},
     "output_type": "execute_result"
    }
   ],
   "source": [
    "X_train"
   ]
  },
  {
   "cell_type": "code",
   "execution_count": 38,
   "id": "31a32486",
   "metadata": {},
   "outputs": [],
   "source": [
    "# initialization of weights\n",
    "w = np.ones(X_train.shape[1])"
   ]
  },
  {
   "cell_type": "code",
   "execution_count": 39,
   "id": "9d932e00",
   "metadata": {},
   "outputs": [],
   "source": [
    "# cost functioin without regulariaztion\n",
    "def J(X, y, w):\n",
    "    m = len(y)\n",
    "    return np.sum((X.dot(w) - y) ** 2) / (2 * m)"
   ]
  },
  {
   "cell_type": "code",
   "execution_count": 57,
   "id": "3f6fa1c3",
   "metadata": {},
   "outputs": [],
   "source": [
    "def gradient_descent(X, y, w, alpha, iters):\n",
    "    m = len(y)\n",
    "    J_history = []\n",
    "    for i in range(iters):\n",
    "        h = X.dot(w)\n",
    "        w = w - (alpha / m) * (X.T.dot(h - y))\n",
    "        J_history.append(J(X, y, w))\n",
    "\n",
    "    iterations=np.arange(0,iters,1)\n",
    "    plt.title('cost function vs iterations')\n",
    "    plt.plot(iterations,J_history)\n",
    "    plt.xlabel('iterations')\n",
    "    plt.ylabel('cost function')\n",
    "    \n",
    "    return w, J_history"
   ]
  },
  {
   "cell_type": "code",
   "execution_count": 58,
   "id": "edff0437",
   "metadata": {},
   "outputs": [
    {
     "data": {
      "image/png": "[encoded data removed]",
      "text/plain": [
       "<Figure size 640x480 with 1 Axes>"
      ]
     },
     "metadata": {},
     "output_type": "display_data"
    }
   ],
   "source": [
    "w, J_history = gradient_descent(X_train, y_train, w, 0.01, 1000)"
   ]
  },
  {
   "cell_type": "code",
   "execution_count": 44,
   "id": "4a6c8516",
   "metadata": {
    "scrolled": true
   },
   "outputs": [
    {
     "data": {
      "text/plain": [
       "x       23.168489\n",
       "x^2     67.106029\n",
       "x^3    373.940654\n",
       "x0       4.834991\n",
       "dtype: float64"
      ]
     },
     "execution_count": 44,
     "metadata": {},
     "output_type": "execute_result"
    }
   ],
   "source": [
    "w"
   ]
  },
  {
   "cell_type": "code",
   "execution_count": 55,
   "id": "8f9cb14d",
   "metadata": {},
   "outputs": [
    {
     "data": {
      "text/plain": [
       "2680.7984218696147"
      ]
     },
     "execution_count": 55,
     "metadata": {},
     "output_type": "execute_result"
    }
   ],
   "source": [
    "MSE = J(X_test, y_test, w)\n",
    "MSE"
   ]
  },
  {
   "cell_type": "code",
   "execution_count": null,
   "id": "8cf14e32",
   "metadata": {},
   "outputs": [],
   "source": []
  },
  {
   "cell_type": "code",
   "execution_count": 66,
   "id": "f92af3ee",
   "metadata": {},
   "outputs": [],
   "source": [
    "# cost funtion with regularisation\n",
    "w = np.ones(X_train.shape[1])\n",
    "def Jreg(X, y, lamb, w):\n",
    "    m = len(y)\n",
    "    return (np.sum((X.dot(w) - y) ** 2) + lamb * np.sum(w ** 2))/ (2 * m) "
   ]
  },
  {
   "cell_type": "code",
   "execution_count": 67,
   "id": "ac81616e",
   "metadata": {},
   "outputs": [],
   "source": [
    "def gradient_descent_reg(X, y, w, alpha, lamb, iters=1000):\n",
    "    m = len(y)\n",
    "    J_history = []\n",
    "    for i in range(iters):\n",
    "        h = X.dot(w)\n",
    "        w = w - (alpha / m) * (X.T.dot(h - y)) - (alpha * lamb * w)/m \n",
    "        J_history.append(Jreg(X, y, lamb, w))\n",
    "\n",
    "    iterations=np.arange(0,iters,1)\n",
    "    plt.title('cost function vs iterations')\n",
    "    plt.plot(iterations,J_history)\n",
    "    plt.xlabel('iterations')\n",
    "    plt.ylabel('cost function')\n",
    "    return w, J_history"
   ]
  },
  {
   "cell_type": "code",
   "execution_count": 68,
   "id": "825fde1b",
   "metadata": {},
   "outputs": [
    {
     "data": {
      "image/png": "[encoded data removed]",
      "text/plain": [
       "<Figure size 640x480 with 1 Axes>"
      ]
     },
     "metadata": {},
     "output_type": "display_data"
    }
   ],
   "source": [
    "w, J_history = gradient_descent_reg(X_train, y_train, w, 0.01, 0.01, 500)"
   ]
  },
  {
   "cell_type": "code",
   "execution_count": 69,
   "id": "b1274166",
   "metadata": {},
   "outputs": [
    {
     "data": {
      "text/plain": [
       "x       71.021575\n",
       "x^2     63.733720\n",
       "x^3    350.698398\n",
       "x0       9.781008\n",
       "dtype: float64"
      ]
     },
     "execution_count": 69,
     "metadata": {},
     "output_type": "execute_result"
    }
   ],
   "source": [
    "w"
   ]
  },
  {
   "cell_type": "code",
   "execution_count": 71,
   "id": "33cd25ed",
   "metadata": {},
   "outputs": [
    {
     "data": {
      "text/plain": [
       "3234.740596810566"
      ]
     },
     "execution_count": 71,
     "metadata": {},
     "output_type": "execute_result"
    }
   ],
   "source": [
    "MSE = Jreg(X_test, y_test, 0.01, w)\n",
    "MSE"
   ]
  },
  {
   "cell_type": "code",
   "execution_count": null,
   "id": "996fc62c",
   "metadata": {},
   "outputs": [],
   "source": []
  }
 ],
 "metadata": {
  "kernelspec": {
   "display_name": "Python 3 (ipykernel)",
   "language": "python",
   "name": "python3"
  },
  "language_info": {
   "codemirror_mode": {
    "name": "ipython",
    "version": 3
   },
   "file_extension": ".py",
   "mimetype": "text/x-python",
   "name": "python",
   "nbconvert_exporter": "python",
   "pygments_lexer": "ipython3",
   "version": "3.9.13"
  }
 },
 "nbformat": 4,
 "nbformat_minor": 5
}
