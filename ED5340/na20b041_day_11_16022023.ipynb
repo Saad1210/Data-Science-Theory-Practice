{
 "cells": [
  {
   "cell_type": "markdown",
   "id": "d25101b7",
   "metadata": {},
   "source": [
    "# Home Work"
   ]
  },
  {
   "cell_type": "markdown",
   "id": "b3298ff7",
   "metadata": {},
   "source": [
    "# Miscellineous\n",
    "\n",
    "- Functions are user defined function\n",
    "- Function prototype is not there in Pyhton as in C/C++\n",
    "- In pyhton function can return as many param as possible unlike C/C++"
   ]
  },
  {
   "cell_type": "markdown",
   "id": "a34dc484",
   "metadata": {},
   "source": [
    "Functions\n",
    "- Positional arguments - order/type has to match\n",
    "- Keyword arguments - order need not match \n",
    "- unsing both pos and kw args\n",
    "- Positional arg first and word arg letter"
   ]
  },
  {
   "cell_type": "code",
   "execution_count": 3,
   "id": "0f2c43f9",
   "metadata": {},
   "outputs": [],
   "source": [
    "def cal_mulsum (x,y):\n",
    "    return x*y, x+y "
   ]
  },
  {
   "cell_type": "code",
   "execution_count": 4,
   "id": "192383cd",
   "metadata": {},
   "outputs": [
    {
     "data": {
      "text/plain": [
       "(8, 6)"
      ]
     },
     "execution_count": 4,
     "metadata": {},
     "output_type": "execute_result"
    }
   ],
   "source": [
    "cal_mul(2,4)"
   ]
  },
  {
   "cell_type": "code",
   "execution_count": 5,
   "id": "a799f697",
   "metadata": {},
   "outputs": [],
   "source": [
    "def bruh(i, f, st):\n",
    "    return i+f, st.upper()"
   ]
  },
  {
   "cell_type": "code",
   "execution_count": 7,
   "id": "716f2d10",
   "metadata": {},
   "outputs": [
    {
     "data": {
      "text/plain": [
       "(5.5600000000000005, 'OKAY')"
      ]
     },
     "execution_count": 7,
     "metadata": {},
     "output_type": "execute_result"
    }
   ],
   "source": [
    "call1 = bruh(2, 3.56, 'okay') # if we change order it will thorow error\n",
    "call1"
   ]
  },
  {
   "cell_type": "code",
   "execution_count": 9,
   "id": "af33234c",
   "metadata": {},
   "outputs": [
    {
     "data": {
      "text/plain": [
       "(10.08, 'FQK')"
      ]
     },
     "execution_count": 9,
     "metadata": {},
     "output_type": "execute_result"
    }
   ],
   "source": [
    "call2 = bruh(10, f=5.8, 'fqk')\n",
    "call2"
   ]
  },
  {
   "cell_type": "code",
   "execution_count": 13,
   "id": "f4266bed",
   "metadata": {},
   "outputs": [],
   "source": [
    "def boole(c = True):\n",
    "    if c == True:\n",
    "        print('T')\n",
    "    else:\n",
    "        print('F')"
   ]
  },
  {
   "cell_type": "code",
   "execution_count": 18,
   "id": "c061048c",
   "metadata": {},
   "outputs": [
    {
     "name": "stdout",
     "output_type": "stream",
     "text": [
      "F\n",
      "T\n"
     ]
    },
    {
     "data": {
      "text/plain": [
       "(None, None)"
      ]
     },
     "execution_count": 18,
     "metadata": {},
     "output_type": "execute_result"
    }
   ],
   "source": [
    "boole(False),(boole())"
   ]
  },
  {
   "cell_type": "code",
   "execution_count": null,
   "id": "e57b463d",
   "metadata": {},
   "outputs": [],
   "source": []
  }
 ],
 "metadata": {
  "kernelspec": {
   "display_name": "Python 3 (ipykernel)",
   "language": "python",
   "name": "python3"
  },
  "language_info": {
   "codemirror_mode": {
    "name": "ipython",
    "version": 3
   },
   "file_extension": ".py",
   "mimetype": "text/x-python",
   "name": "python",
   "nbconvert_exporter": "python",
   "pygments_lexer": "ipython3",
   "version": "3.9.13"
  }
 },
 "nbformat": 4,
 "nbformat_minor": 5
}
