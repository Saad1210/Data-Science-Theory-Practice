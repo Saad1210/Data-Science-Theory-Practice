{
 "cells": [
  {
   "cell_type": "markdown",
   "id": "a0c48226",
   "metadata": {},
   "source": [
    "# LAB 2 "
   ]
  },
  {
   "cell_type": "markdown",
   "id": "251f35ae",
   "metadata": {},
   "source": [
    "1. Write a program to print numbers divisible by both 6 and 7. Numbers between 1\n",
    "and 500.\n",
    "[Numbers like 42, which are both divisible by 6 and 7]\n",
    "- a. Using continue statement\n",
    "- b. Using the pass statement"
   ]
  },
  {
   "cell_type": "code",
   "execution_count": 1,
   "id": "3b45c9eb",
   "metadata": {},
   "outputs": [
    {
     "name": "stdout",
     "output_type": "stream",
     "text": [
      "42\n",
      "84\n",
      "126\n",
      "168\n",
      "210\n",
      "252\n",
      "294\n",
      "336\n",
      "378\n",
      "420\n",
      "462\n"
     ]
    }
   ],
   "source": [
    "for num in range(1,500):\n",
    "    if num%6 == 0 and num%7 == 0:\n",
    "        print(num)\n",
    "    else:\n",
    "        continue"
   ]
  },
  {
   "cell_type": "code",
   "execution_count": 2,
   "id": "48814fcb",
   "metadata": {},
   "outputs": [
    {
     "name": "stdout",
     "output_type": "stream",
     "text": [
      "42\n",
      "84\n",
      "126\n",
      "168\n",
      "210\n",
      "252\n",
      "294\n",
      "336\n",
      "378\n",
      "420\n",
      "462\n"
     ]
    }
   ],
   "source": [
    "for num in range(1,500):\n",
    "    if num%6 == 0 and num%7 == 0:\n",
    "        print(num)\n",
    "    else:\n",
    "        pass"
   ]
  },
  {
   "cell_type": "markdown",
   "id": "a42569cf",
   "metadata": {},
   "source": [
    "2. Number 1111122221111222 has been given. Print the addition of all even digits\n",
    "and the addition of all odd digits.\n",
    "[Sample input = 156893, Sample Output: sum_even = 14\n",
    "sum_odd = 18]"
   ]
  },
  {
   "cell_type": "code",
   "execution_count": 32,
   "id": "75a0b241",
   "metadata": {},
   "outputs": [
    {
     "name": "stdout",
     "output_type": "stream",
     "text": [
      "sum_even =  14\n",
      "sum_odd =  9\n"
     ]
    }
   ],
   "source": [
    "sum_even, sum_odd = 0, 0\n",
    "num = '1111122221111222'\n",
    "for n in num:\n",
    "    n = int(n)\n",
    "    if n%2 == 0:\n",
    "        sum_even += n\n",
    "    else:\n",
    "        sum_odd += n\n",
    "print('sum_even = ', sum_even)\n",
    "print('sum_odd = ', sum_odd)"
   ]
  },
  {
   "cell_type": "markdown",
   "id": "49b7d4b2",
   "metadata": {},
   "source": [
    "3. Describe conditional expression. Write a program to print the maximum and\n",
    "minimum numbers from a list using conditional expression. Use the max () and\n",
    "min () functions to verify your output"
   ]
  },
  {
   "cell_type": "code",
   "execution_count": 2,
   "id": "d242426e",
   "metadata": {},
   "outputs": [
    {
     "name": "stdout",
     "output_type": "stream",
     "text": [
      "maximum number is 10 True\n",
      "minimum number is -2 True\n"
     ]
    }
   ],
   "source": [
    "lst = [4, 6, 1, -2, 3 ,10]\n",
    "max_int = lst[0]\n",
    "min_int = lst[0]\n",
    "for num in lst:\n",
    "    max_int = num if num > max_int else max_int\n",
    "print('maximum number is', max_int, max(lst) == max_int)\n",
    "\n",
    "for num in lst:\n",
    "    min_int = num if num < min_int else min_int\n",
    "print('minimum number is', min_int, min(lst) == min(lst))"
   ]
  },
  {
   "cell_type": "markdown",
   "id": "c10d350c",
   "metadata": {},
   "source": [
    "4. Triangle Number Pattern: Print the following pattern for the given N number of\n",
    "rows."
   ]
  },
  {
   "cell_type": "code",
   "execution_count": 33,
   "id": "20268e3a",
   "metadata": {},
   "outputs": [
    {
     "name": "stdout",
     "output_type": "stream",
     "text": [
      "Enter the number of rows: 4\n",
      "1\n",
      "22\n",
      "333\n",
      "4444\n"
     ]
    }
   ],
   "source": [
    "N = int(input('Enter the number of rows: '))\n",
    "for i in range(1, N+1):\n",
    "    print(str(i)*i)"
   ]
  },
  {
   "cell_type": "markdown",
   "id": "47b9e155",
   "metadata": {},
   "source": [
    "5. A palindrome sentence is a phrase or sentence that reads the same forwards as\n",
    "it does backwards, ignoring spaces, punctuation, and capitalization.\n",
    "\n",
    "A) Take a number as input, determine if it is a palindrome, considering only\n",
    "alphanumeric characters. Eg: 1331\n",
    "\n",
    "B) Now, take a string as an input and check whether if it is Palindrome or not.\n",
    "eg: 'A man, a plan, a canal, Panama'"
   ]
  },
  {
   "cell_type": "code",
   "execution_count": 2,
   "id": "911e7790",
   "metadata": {},
   "outputs": [
    {
     "name": "stdout",
     "output_type": "stream",
     "text": [
      "Enter an integer: 6767\n",
      "Not a Palindrome\n"
     ]
    }
   ],
   "source": [
    "# A\n",
    "n = (input('Enter an integer: '))\n",
    "op = True\n",
    "for i in range(len(n)//2):\n",
    "    if(n[i] != n[-i-1]):\n",
    "        op = 'Not a Palindrome'\n",
    "        break\n",
    "\n",
    "print(op)"
   ]
  },
  {
   "cell_type": "code",
   "execution_count": 4,
   "id": "6a0f1c47",
   "metadata": {},
   "outputs": [
    {
     "name": "stdout",
     "output_type": "stream",
     "text": [
      "Enter a string: saad\n",
      "Not a palindrome\n"
     ]
    }
   ],
   "source": [
    "#B\n",
    "s = input('Enter a string: ')\n",
    "l = []\n",
    "s = s.lower()\n",
    "op = True\n",
    "for i in range(len(s)):\n",
    "    if s[i].isalnum() :\n",
    "        l.append(s[i])\n",
    "\n",
    "for i in range(len(l)):\n",
    "    if (l[i] != l[-i-1]):\n",
    "        op = 'Not a palindrome'\n",
    "        break\n",
    "print(op)"
   ]
  },
  {
   "cell_type": "markdown",
   "id": "a18eeddd",
   "metadata": {},
   "source": [
    "6. Describe chr () and ord () functions. Write a small program to show its\n",
    "functionality.Using these functions,write a program to print: \n",
    "\n",
    "Pattern for N=4\n",
    "\n",
    "A\n",
    "\n",
    "B B\n",
    "\n",
    "C C C\n",
    "\n",
    "D D D D\n"
   ]
  },
  {
   "cell_type": "markdown",
   "id": "e083884e",
   "metadata": {},
   "source": [
    "- chr() it is a pyhton built-in funtion to get the charater from its ascci code \n",
    "    - ex chr(97) = 'a'\n",
    "\n",
    "- ord() its also a python built-in funtion it returns the ascci code of a given character\n",
    "    - ex ord('a') = 97"
   ]
  },
  {
   "cell_type": "code",
   "execution_count": 47,
   "id": "227cb3ee",
   "metadata": {},
   "outputs": [
    {
     "data": {
      "text/plain": [
       "65"
      ]
     },
     "execution_count": 47,
     "metadata": {},
     "output_type": "execute_result"
    }
   ],
   "source": [
    "ord('A')"
   ]
  },
  {
   "cell_type": "code",
   "execution_count": 5,
   "id": "b3da57e2",
   "metadata": {},
   "outputs": [
    {
     "name": "stdout",
     "output_type": "stream",
     "text": [
      "Enter the number of rows: 3\n",
      "A\n",
      "BB\n",
      "CCC\n"
     ]
    }
   ],
   "source": [
    "N = int(input('Enter the number of rows: '))\n",
    "for i in range(1, N+1):\n",
    "    print(chr(i+64)*i)"
   ]
  },
  {
   "cell_type": "markdown",
   "id": "791f555a",
   "metadata": {},
   "source": [
    "7. Write a program to perform the following tasks: \n",
    "\n",
    "\n",
    "(a) Create a list of airline tickets, each containing the name of the passenger, ticket number, departure date, and flight distance. \n",
    "\n",
    "(b) Insert a new ticket into the list while maintaining alphabetical order of passenger names. \n",
    "\n",
    "(c) Search for a specific passenger by name and remove their ticket information from the list. \n",
    "\n",
    "(d) Add a new ticket to the beginning of the list with inputted passenger information. \n",
    "\n",
    "(e) Detect and eliminate duplicate tickets, keeping only one instance of each. \n",
    "\n",
    "(f) Sort the entire list of tickets in alphabetical order by passenger name.\n"
   ]
  },
  {
   "cell_type": "code",
   "execution_count": 6,
   "id": "1e4a88f1",
   "metadata": {},
   "outputs": [
    {
     "data": {
      "text/plain": [
       "[['Andrew', '140700', '2nd Mar 2023', '300 km'],\n",
       " ['Joel', '121002', '3rd Feb 2023', '2222 km'],\n",
       " ['Messi', '130898', '13th Feb 2023', '700 km'],\n",
       " ['Saad', '121002', '3rd Feb 2023', '1200 km']]"
      ]
     },
     "execution_count": 6,
     "metadata": {},
     "output_type": "execute_result"
    }
   ],
   "source": [
    "# A and B\n",
    "\n",
    "airline = []\n",
    "\n",
    "airline.append(['Saad', '121002', '3rd Feb 2023', '1200 km'])\n",
    "airline.append(['Andrew', '140700', '2nd Mar 2023', '300 km'])\n",
    "airline.sort()\n",
    "\n",
    "airline.append(['Messi', '130898', '13th Feb 2023', '700 km'])\n",
    "airline.sort()\n",
    "\n",
    "airline.append(['Joel', '121002', '3rd Feb 2023', '2222 km'])\n",
    "airline.sort()\n",
    "\n",
    "airline"
   ]
  },
  {
   "cell_type": "code",
   "execution_count": 7,
   "id": "6e3756f6",
   "metadata": {},
   "outputs": [
    {
     "data": {
      "text/plain": [
       "[['Andrew', '140700', '2nd Mar 2023', '300 km'],\n",
       " ['Messi', '130898', '13th Feb 2023', '700 km'],\n",
       " ['Saad', '121002', '3rd Feb 2023', '1200 km']]"
      ]
     },
     "execution_count": 7,
     "metadata": {},
     "output_type": "execute_result"
    }
   ],
   "source": [
    "# C\n",
    "\n",
    "for ticketInfo in airline:\n",
    "    for name in ticketInfo:\n",
    "        if(name == 'Joel'):\n",
    "            airline.remove(ticketInfo)\n",
    "airline"
   ]
  },
  {
   "cell_type": "code",
   "execution_count": 8,
   "id": "bd3433d7",
   "metadata": {},
   "outputs": [
    {
     "name": "stdout",
     "output_type": "stream",
     "text": [
      "Enter the name of Passenger: jack\n",
      "Enter your ticket number: 13913\n",
      "Enter your departure date: 5th feb 2022\n",
      "How far you have to go?6006\n"
     ]
    }
   ],
   "source": [
    "# D \n",
    "\n",
    "name_of_passenger = input('Enter the name of Passenger: ')\n",
    "ticket_number = input('Enter your ticket number: ')\n",
    "departure_date = input('Enter your departure date: ')\n",
    "flight_distance = input('How far you have to go?')"
   ]
  },
  {
   "cell_type": "code",
   "execution_count": 9,
   "id": "140dc792",
   "metadata": {},
   "outputs": [
    {
     "data": {
      "text/plain": [
       "[['jack', '13913', '5th feb 2022', '6006'],\n",
       " ['Andrew', '140700', '2nd Mar 2023', '300 km'],\n",
       " ['Messi', '130898', '13th Feb 2023', '700 km'],\n",
       " ['Saad', '121002', '3rd Feb 2023', '1200 km']]"
      ]
     },
     "execution_count": 9,
     "metadata": {},
     "output_type": "execute_result"
    }
   ],
   "source": [
    "newTicket = [name_of_passenger , ticket_number, departure_date, flight_distance]\n",
    "\n",
    "airline = [newTicket] + airline\n",
    "airline"
   ]
  },
  {
   "cell_type": "code",
   "execution_count": 10,
   "id": "dab97374",
   "metadata": {},
   "outputs": [
    {
     "data": {
      "text/plain": [
       "[['jack', '13913', '5th feb 2022', '6006'],\n",
       " ['Andrew', '140700', '2nd Mar 2023', '300 km'],\n",
       " ['Messi', '130898', '13th Feb 2023', '700 km'],\n",
       " ['Saad', '121002', '3rd Feb 2023', '1200 km'],\n",
       " ['Saad', '121002', '3rd Feb 2023', '1200 km'],\n",
       " ['Messi', '130898', '13th Feb 2023', '700 km']]"
      ]
     },
     "execution_count": 10,
     "metadata": {},
     "output_type": "execute_result"
    }
   ],
   "source": [
    "# E\n",
    "# Creating duplicate tickets \n",
    "airline.append(['Saad', '121002', '3rd Feb 2023', '1200 km'])\n",
    "airline.append(['Messi', '130898', '13th Feb 2023', '700 km'])\n",
    "airline"
   ]
  },
  {
   "cell_type": "code",
   "execution_count": 11,
   "id": "80c1482a",
   "metadata": {},
   "outputs": [
    {
     "data": {
      "text/plain": [
       "[['jack', '13913', '5th feb 2022', '6006'],\n",
       " ['Andrew', '140700', '2nd Mar 2023', '300 km'],\n",
       " ['Saad', '121002', '3rd Feb 2023', '1200 km'],\n",
       " ['Messi', '130898', '13th Feb 2023', '700 km']]"
      ]
     },
     "execution_count": 11,
     "metadata": {},
     "output_type": "execute_result"
    }
   ],
   "source": [
    "# deleting duplicate element\n",
    "for ticketInfo in airline:\n",
    "    if airline.count(ticketInfo) > 1 :\n",
    "        airline.remove(ticketInfo)\n",
    "    else:\n",
    "        continue\n",
    "airline"
   ]
  },
  {
   "cell_type": "code",
   "execution_count": 12,
   "id": "dbf0c709",
   "metadata": {},
   "outputs": [
    {
     "data": {
      "text/plain": [
       "[['Andrew', '140700', '2nd Mar 2023', '300 km'],\n",
       " ['Messi', '130898', '13th Feb 2023', '700 km'],\n",
       " ['Saad', '121002', '3rd Feb 2023', '1200 km'],\n",
       " ['jack', '13913', '5th feb 2022', '6006']]"
      ]
     },
     "execution_count": 12,
     "metadata": {},
     "output_type": "execute_result"
    }
   ],
   "source": [
    "# F\n",
    "airline.sort()\n",
    "airline"
   ]
  },
  {
   "cell_type": "markdown",
   "id": "8d4d46db",
   "metadata": {},
   "source": [
    "8. Write a program using list comprehension\n",
    "\n",
    "a) To add the corresponding elements of two lists and print the new list\n",
    "\n",
    "b) To perform element wise multiplication of two lists and print the new list.\n",
    "\n",
    "c) To create a list of the unique characters of a given string. Eg: input = ‘even’ output = [‘e’, ‘v’, ‘n’]"
   ]
  },
  {
   "cell_type": "code",
   "execution_count": 73,
   "id": "175d1617",
   "metadata": {},
   "outputs": [
    {
     "data": {
      "text/plain": [
       "[6, 8, 10, 12]"
      ]
     },
     "execution_count": 73,
     "metadata": {},
     "output_type": "execute_result"
    }
   ],
   "source": [
    "# A\n",
    "\n",
    "l1 = [1, 2, 3, 4]\n",
    "l2 = [5, 6, 7, 8]\n",
    "\n",
    "add_lst = [l1[i] + l2[i] for i in range(4)]\n",
    "\n",
    "add_lst"
   ]
  },
  {
   "cell_type": "code",
   "execution_count": 74,
   "id": "8148a5fb",
   "metadata": {},
   "outputs": [
    {
     "data": {
      "text/plain": [
       "[5, 12, 21, 32]"
      ]
     },
     "execution_count": 74,
     "metadata": {},
     "output_type": "execute_result"
    }
   ],
   "source": [
    "# B\n",
    "mul_lst = [l1[i] * l2[i] for i in range(4)]\n",
    "mul_lst"
   ]
  },
  {
   "cell_type": "code",
   "execution_count": 13,
   "id": "85cc2c6f",
   "metadata": {
    "scrolled": true
   },
   "outputs": [
    {
     "name": "stdout",
     "output_type": "stream",
     "text": [
      "Enter a sting: even\n"
     ]
    },
    {
     "data": {
      "text/plain": [
       "['n', 'v', 'e']"
      ]
     },
     "execution_count": 13,
     "metadata": {},
     "output_type": "execute_result"
    }
   ],
   "source": [
    "# C\n",
    "s = input('Enter a sting: ')\n",
    "\n",
    "unique_lst = [c for c in set(s)]\n",
    "unique_lst"
   ]
  },
  {
   "cell_type": "markdown",
   "id": "264690e7",
   "metadata": {},
   "source": [
    "9. Using the concept of list of lists, WAP\n",
    "\n",
    "a) To add the elements of 2 matrices (Define matrices as per your wish).\n",
    "\n",
    "b) To perform element wise multiplication on 2 matrices."
   ]
  },
  {
   "cell_type": "code",
   "execution_count": 18,
   "id": "6b70e3b1",
   "metadata": {},
   "outputs": [],
   "source": [
    "A_mat = [[1, 2, 3], \n",
    "         [4, 5, 6]]\n",
    "B_mat = [[-1, -2, -3], \n",
    "         [-4, -5, -6]]"
   ]
  },
  {
   "cell_type": "code",
   "execution_count": 19,
   "id": "4605b8dc",
   "metadata": {},
   "outputs": [
    {
     "data": {
      "text/plain": [
       "[[0, 0, 0], [0, 0, 0]]"
      ]
     },
     "execution_count": 19,
     "metadata": {},
     "output_type": "execute_result"
    }
   ],
   "source": [
    "# A\n",
    "add_mat = []\n",
    "for i in range(2):\n",
    "    temp = []\n",
    "    for j in range(3):\n",
    "        temp.append(A_mat[i][j] + B_mat[i][j])\n",
    "    add_mat.append(temp)\n",
    "add_mat"
   ]
  },
  {
   "cell_type": "code",
   "execution_count": 20,
   "id": "43ba02b8",
   "metadata": {},
   "outputs": [
    {
     "data": {
      "text/plain": [
       "[[-1, -4, -9], [-16, -25, -36]]"
      ]
     },
     "execution_count": 20,
     "metadata": {},
     "output_type": "execute_result"
    }
   ],
   "source": [
    "mul_mat = []\n",
    "for i in range(2):\n",
    "    temp = []\n",
    "    for j in range(3):\n",
    "        temp.append(A_mat[i][j] * B_mat[i][j])\n",
    "    mul_mat.append(temp)\n",
    "mul_mat"
   ]
  },
  {
   "cell_type": "markdown",
   "id": "3ecb4cad",
   "metadata": {},
   "source": [
    "10. Explore print statement using formatted strings and write a program to demonstrate them."
   ]
  },
  {
   "cell_type": "code",
   "execution_count": 21,
   "id": "268ad4ae",
   "metadata": {},
   "outputs": [
    {
     "name": "stdout",
     "output_type": "stream",
     "text": [
      "The square of 9 is 81\n",
      "The square root of 9 is 3.0\n"
     ]
    }
   ],
   "source": [
    "num = 9\n",
    "print('The square of {n} is {ns}'.format(n = num, ns = num**2))\n",
    "print(f'The square root of {num} is {num**(0.5)}')"
   ]
  },
  {
   "cell_type": "markdown",
   "id": "5144f976",
   "metadata": {},
   "source": [
    "11. WAP to find the maximum of 3 numbers using a nested conditional expression. (No loops should be used)"
   ]
  },
  {
   "cell_type": "code",
   "execution_count": 15,
   "id": "7a15acea",
   "metadata": {},
   "outputs": [
    {
     "data": {
      "text/plain": [
       "500"
      ]
     },
     "execution_count": 15,
     "metadata": {},
     "output_type": "execute_result"
    }
   ],
   "source": [
    "p, q, r = 1, 92, 500\n",
    "m = p if (p > q and p > r) else q if (q > p and q > r) else r\n",
    "m"
   ]
  },
  {
   "cell_type": "code",
   "execution_count": null,
   "id": "82ae8cc4",
   "metadata": {},
   "outputs": [],
   "source": []
  }
 ],
 "metadata": {
  "kernelspec": {
   "display_name": "Python 3 (ipykernel)",
   "language": "python",
   "name": "python3"
  },
  "language_info": {
   "codemirror_mode": {
    "name": "ipython",
    "version": 3
   },
   "file_extension": ".py",
   "mimetype": "text/x-python",
   "name": "python",
   "nbconvert_exporter": "python",
   "pygments_lexer": "ipython3",
   "version": "3.9.13"
  }
 },
 "nbformat": 4,
 "nbformat_minor": 5
}
