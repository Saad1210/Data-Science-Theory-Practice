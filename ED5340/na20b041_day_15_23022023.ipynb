{
 "cells": [
  {
   "cell_type": "markdown",
   "id": "341a9121",
   "metadata": {},
   "source": [
    "Inheritance \n",
    "- Simple inheritace 1 base class 1 derived class"
   ]
  },
  {
   "cell_type": "code",
   "execution_count": 1,
   "id": "ffd0c168",
   "metadata": {},
   "outputs": [],
   "source": [
    "class Base:\n",
    "    def __init__(self, name):\n",
    "        self._name = name\n",
    "        print('Inside Base Class')\n",
    "        \n",
    "    def printbase(self):\n",
    "        print(self._name)\n",
    "    \n",
    "class Derived(Base):\n",
    "    def __init__(self, roll, name):\n",
    "        self.roll = roll\n",
    "        print('Inside derived class')\n",
    "        super().__init__(name)\n",
    "        \n",
    "    def printderived(self):\n",
    "        print(self.roll, self._name)\n",
    "\n"
   ]
  },
  {
   "cell_type": "code",
   "execution_count": 4,
   "id": "ff755405",
   "metadata": {},
   "outputs": [
    {
     "name": "stdout",
     "output_type": "stream",
     "text": [
      "Inside derived class\n",
      "Inside Base Class\n",
      "41 Saad\n",
      "Saad\n"
     ]
    },
    {
     "data": {
      "text/plain": [
       "(None, None)"
      ]
     },
     "execution_count": 4,
     "metadata": {},
     "output_type": "execute_result"
    }
   ],
   "source": [
    "d1 = Derived(41, 'Saad')\n",
    "d1.printderived(), d1.printbase()"
   ]
  },
  {
   "cell_type": "markdown",
   "id": "f87a873d",
   "metadata": {},
   "source": [
    "Multi level inheritance\n",
    "- class Derived1(Base), class Derived2(Derived1)\n",
    "\n",
    "Multiple inheritance\n",
    "- class Derived(Base1, Base2)\n",
    "- Order of Base1 and Base2 matters\n",
    "- super should not be used as it wont call both Base classes\n",
    "- Base1.__ init __ (self,...)\n",
    "- Base2.__ init __ (self,...)\n",
    "- use like this"
   ]
  },
  {
   "cell_type": "code",
   "execution_count": null,
   "id": "8070cff4",
   "metadata": {},
   "outputs": [],
   "source": []
  },
  {
   "cell_type": "code",
   "execution_count": 27,
   "id": "3a8a81ec",
   "metadata": {},
   "outputs": [],
   "source": [
    "class Base1:\n",
    "    def __init__(self, cname, dept):\n",
    "        self.collage = cname\n",
    "        self.dept = dept\n",
    "    \n",
    "    def printbase1(self):\n",
    "        print(self.collage, self.dept)\n",
    "        \n",
    "class Base2:\n",
    "    def __init__(self, state, city):\n",
    "        self.state = state\n",
    "        self.city = city\n",
    "    \n",
    "    def printbase2(self):\n",
    "        print(self.state, self.city)\n",
    "\n",
    "class Derived(Base1, Base2):\n",
    "    def __init__(self, name, roll, c, d, st, city):\n",
    "        Base1.__init__(self, c, d)\n",
    "        Base2.__init__(self, st, city)\n",
    "        self.name = name\n",
    "        self.roll = roll\n",
    "    def printderived(self):\n",
    "        print(self.collage, self.dept, self.city, self.name, self.roll)"
   ]
  },
  {
   "cell_type": "code",
   "execution_count": 28,
   "id": "157635df",
   "metadata": {},
   "outputs": [],
   "source": [
    "d1 = Derived('Saad', 41, 'IITM', 'NAOE', 'MH', 'Pune')"
   ]
  },
  {
   "cell_type": "code",
   "execution_count": 29,
   "id": "1c3f42bb",
   "metadata": {},
   "outputs": [
    {
     "name": "stdout",
     "output_type": "stream",
     "text": [
      "IITM NAOE Pune Saad 41\n"
     ]
    }
   ],
   "source": [
    "d1.printderived()"
   ]
  },
  {
   "cell_type": "code",
   "execution_count": 31,
   "id": "0ac4c956",
   "metadata": {},
   "outputs": [
    {
     "name": "stdout",
     "output_type": "stream",
     "text": [
      "IITM NAOE\n",
      "MH Pune\n"
     ]
    },
    {
     "data": {
      "text/plain": [
       "(None, None)"
      ]
     },
     "execution_count": 31,
     "metadata": {},
     "output_type": "execute_result"
    }
   ],
   "source": [
    "d1.printbase1(), d1.printbase2()"
   ]
  },
  {
   "cell_type": "code",
   "execution_count": null,
   "id": "2ebefc50",
   "metadata": {},
   "outputs": [],
   "source": [
    "b2 = Base2('TN', 'Chennai')\n"
   ]
  }
 ],
 "metadata": {
  "kernelspec": {
   "display_name": "Python 3 (ipykernel)",
   "language": "python",
   "name": "python3"
  },
  "language_info": {
   "codemirror_mode": {
    "name": "ipython",
    "version": 3
   },
   "file_extension": ".py",
   "mimetype": "text/x-python",
   "name": "python",
   "nbconvert_exporter": "python",
   "pygments_lexer": "ipython3",
   "version": "3.9.13"
  }
 },
 "nbformat": 4,
 "nbformat_minor": 5
}
