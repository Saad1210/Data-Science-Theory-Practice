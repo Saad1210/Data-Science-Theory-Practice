{
 "cells": [
  {
   "cell_type": "markdown",
   "id": "d8630b33",
   "metadata": {},
   "source": [
    "AlexNet: A dataset of images used in the ImageNet Large Scale Visual Recognition Challenge in 2012. AlexNet is a deep convolutional neural network that was trained on this dataset, which consists of over 1.2 million images from 1,000 categories.\n",
    "\n",
    "ImageNet: A dataset of over 14 million labeled images organized according to the WordNet hierarchy. This dataset has been used to train many state-of-the-art deep learning models, including AlexNet.\n",
    "\n",
    "ShapeNet: A dataset of 3D models that covers a wide range of object categories, including chairs, tables, and cars. ShapeNet consists of over 50,000 3D models, each with multiple views and object parts labeled.\n",
    "\n",
    "ModelNet: A subset of ShapeNet, consisting of 3D models of 40 object categories. ModelNet has been widely used for 3D object recognition and retrieval tasks.\n",
    "\n",
    "CADNet: A dataset of 2D and 3D CAD models, consisting of over 4,000 models from 10 different categories. This dataset has been used for 3D shape retrieval and classification tasks.\n",
    "\n",
    "CADSketchNet: A dataset of 2D sketches of 3D CAD models. CADSketchNet consists of over 4,000 sketches from 10 different categories, and has been used for sketch-based 3D shape retrieval and classification tasks."
   ]
  },
  {
   "cell_type": "code",
   "execution_count": null,
   "id": "8b2b5622",
   "metadata": {},
   "outputs": [],
   "source": []
  }
 ],
 "metadata": {
  "kernelspec": {
   "display_name": "Python 3 (ipykernel)",
   "language": "python",
   "name": "python3"
  },
  "language_info": {
   "codemirror_mode": {
    "name": "ipython",
    "version": 3
   },
   "file_extension": ".py",
   "mimetype": "text/x-python",
   "name": "python",
   "nbconvert_exporter": "python",
   "pygments_lexer": "ipython3",
   "version": "3.9.13"
  }
 },
 "nbformat": 4,
 "nbformat_minor": 5
}
