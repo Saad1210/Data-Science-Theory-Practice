{
 "cells": [
  {
   "cell_type": "markdown",
   "id": "911dc8ff",
   "metadata": {},
   "source": [
    "1)    Find out the applicable methods for the list but not tuples. List them out."
   ]
  },
  {
   "cell_type": "code",
   "execution_count": 1,
   "id": "457680e2",
   "metadata": {
    "scrolled": true
   },
   "outputs": [
    {
     "name": "stdout",
     "output_type": "stream",
     "text": [
      "Help on class list in module builtins:\n",
      "\n",
      "class list(object)\n",
      " |  list(iterable=(), /)\n",
      " |  \n",
      " |  Built-in mutable sequence.\n",
      " |  \n",
      " |  If no argument is given, the constructor creates a new empty list.\n",
      " |  The argument must be an iterable if specified.\n",
      " |  \n",
      " |  Methods defined here:\n",
      " |  \n",
      " |  __add__(self, value, /)\n",
      " |      Return self+value.\n",
      " |  \n",
      " |  __contains__(self, key, /)\n",
      " |      Return key in self.\n",
      " |  \n",
      " |  __delitem__(self, key, /)\n",
      " |      Delete self[key].\n",
      " |  \n",
      " |  __eq__(self, value, /)\n",
      " |      Return self==value.\n",
      " |  \n",
      " |  __ge__(self, value, /)\n",
      " |      Return self>=value.\n",
      " |  \n",
      " |  __getattribute__(self, name, /)\n",
      " |      Return getattr(self, name).\n",
      " |  \n",
      " |  __getitem__(...)\n",
      " |      x.__getitem__(y) <==> x[y]\n",
      " |  \n",
      " |  __gt__(self, value, /)\n",
      " |      Return self>value.\n",
      " |  \n",
      " |  __iadd__(self, value, /)\n",
      " |      Implement self+=value.\n",
      " |  \n",
      " |  __imul__(self, value, /)\n",
      " |      Implement self*=value.\n",
      " |  \n",
      " |  __init__(self, /, *args, **kwargs)\n",
      " |      Initialize self.  See help(type(self)) for accurate signature.\n",
      " |  \n",
      " |  __iter__(self, /)\n",
      " |      Implement iter(self).\n",
      " |  \n",
      " |  __le__(self, value, /)\n",
      " |      Return self<=value.\n",
      " |  \n",
      " |  __len__(self, /)\n",
      " |      Return len(self).\n",
      " |  \n",
      " |  __lt__(self, value, /)\n",
      " |      Return self<value.\n",
      " |  \n",
      " |  __mul__(self, value, /)\n",
      " |      Return self*value.\n",
      " |  \n",
      " |  __ne__(self, value, /)\n",
      " |      Return self!=value.\n",
      " |  \n",
      " |  __repr__(self, /)\n",
      " |      Return repr(self).\n",
      " |  \n",
      " |  __reversed__(self, /)\n",
      " |      Return a reverse iterator over the list.\n",
      " |  \n",
      " |  __rmul__(self, value, /)\n",
      " |      Return value*self.\n",
      " |  \n",
      " |  __setitem__(self, key, value, /)\n",
      " |      Set self[key] to value.\n",
      " |  \n",
      " |  __sizeof__(self, /)\n",
      " |      Return the size of the list in memory, in bytes.\n",
      " |  \n",
      " |  append(self, object, /)\n",
      " |      Append object to the end of the list.\n",
      " |  \n",
      " |  clear(self, /)\n",
      " |      Remove all items from list.\n",
      " |  \n",
      " |  copy(self, /)\n",
      " |      Return a shallow copy of the list.\n",
      " |  \n",
      " |  count(self, value, /)\n",
      " |      Return number of occurrences of value.\n",
      " |  \n",
      " |  extend(self, iterable, /)\n",
      " |      Extend list by appending elements from the iterable.\n",
      " |  \n",
      " |  index(self, value, start=0, stop=9223372036854775807, /)\n",
      " |      Return first index of value.\n",
      " |      \n",
      " |      Raises ValueError if the value is not present.\n",
      " |  \n",
      " |  insert(self, index, object, /)\n",
      " |      Insert object before index.\n",
      " |  \n",
      " |  pop(self, index=-1, /)\n",
      " |      Remove and return item at index (default last).\n",
      " |      \n",
      " |      Raises IndexError if list is empty or index is out of range.\n",
      " |  \n",
      " |  remove(self, value, /)\n",
      " |      Remove first occurrence of value.\n",
      " |      \n",
      " |      Raises ValueError if the value is not present.\n",
      " |  \n",
      " |  reverse(self, /)\n",
      " |      Reverse *IN PLACE*.\n",
      " |  \n",
      " |  sort(self, /, *, key=None, reverse=False)\n",
      " |      Sort the list in ascending order and return None.\n",
      " |      \n",
      " |      The sort is in-place (i.e. the list itself is modified) and stable (i.e. the\n",
      " |      order of two equal elements is maintained).\n",
      " |      \n",
      " |      If a key function is given, apply it once to each list item and sort them,\n",
      " |      ascending or descending, according to their function values.\n",
      " |      \n",
      " |      The reverse flag can be set to sort in descending order.\n",
      " |  \n",
      " |  ----------------------------------------------------------------------\n",
      " |  Class methods defined here:\n",
      " |  \n",
      " |  __class_getitem__(...) from builtins.type\n",
      " |      See PEP 585\n",
      " |  \n",
      " |  ----------------------------------------------------------------------\n",
      " |  Static methods defined here:\n",
      " |  \n",
      " |  __new__(*args, **kwargs) from builtins.type\n",
      " |      Create and return a new object.  See help(type) for accurate signature.\n",
      " |  \n",
      " |  ----------------------------------------------------------------------\n",
      " |  Data and other attributes defined here:\n",
      " |  \n",
      " |  __hash__ = None\n",
      "\n"
     ]
    }
   ],
   "source": [
    "help(list)"
   ]
  },
  {
   "cell_type": "code",
   "execution_count": 2,
   "id": "359c797a",
   "metadata": {
    "scrolled": true
   },
   "outputs": [
    {
     "name": "stdout",
     "output_type": "stream",
     "text": [
      "Help on class tuple in module builtins:\n",
      "\n",
      "class tuple(object)\n",
      " |  tuple(iterable=(), /)\n",
      " |  \n",
      " |  Built-in immutable sequence.\n",
      " |  \n",
      " |  If no argument is given, the constructor returns an empty tuple.\n",
      " |  If iterable is specified the tuple is initialized from iterable's items.\n",
      " |  \n",
      " |  If the argument is a tuple, the return value is the same object.\n",
      " |  \n",
      " |  Built-in subclasses:\n",
      " |      asyncgen_hooks\n",
      " |      UnraisableHookArgs\n",
      " |  \n",
      " |  Methods defined here:\n",
      " |  \n",
      " |  __add__(self, value, /)\n",
      " |      Return self+value.\n",
      " |  \n",
      " |  __contains__(self, key, /)\n",
      " |      Return key in self.\n",
      " |  \n",
      " |  __eq__(self, value, /)\n",
      " |      Return self==value.\n",
      " |  \n",
      " |  __ge__(self, value, /)\n",
      " |      Return self>=value.\n",
      " |  \n",
      " |  __getattribute__(self, name, /)\n",
      " |      Return getattr(self, name).\n",
      " |  \n",
      " |  __getitem__(self, key, /)\n",
      " |      Return self[key].\n",
      " |  \n",
      " |  __getnewargs__(self, /)\n",
      " |  \n",
      " |  __gt__(self, value, /)\n",
      " |      Return self>value.\n",
      " |  \n",
      " |  __hash__(self, /)\n",
      " |      Return hash(self).\n",
      " |  \n",
      " |  __iter__(self, /)\n",
      " |      Implement iter(self).\n",
      " |  \n",
      " |  __le__(self, value, /)\n",
      " |      Return self<=value.\n",
      " |  \n",
      " |  __len__(self, /)\n",
      " |      Return len(self).\n",
      " |  \n",
      " |  __lt__(self, value, /)\n",
      " |      Return self<value.\n",
      " |  \n",
      " |  __mul__(self, value, /)\n",
      " |      Return self*value.\n",
      " |  \n",
      " |  __ne__(self, value, /)\n",
      " |      Return self!=value.\n",
      " |  \n",
      " |  __repr__(self, /)\n",
      " |      Return repr(self).\n",
      " |  \n",
      " |  __rmul__(self, value, /)\n",
      " |      Return value*self.\n",
      " |  \n",
      " |  count(self, value, /)\n",
      " |      Return number of occurrences of value.\n",
      " |  \n",
      " |  index(self, value, start=0, stop=9223372036854775807, /)\n",
      " |      Return first index of value.\n",
      " |      \n",
      " |      Raises ValueError if the value is not present.\n",
      " |  \n",
      " |  ----------------------------------------------------------------------\n",
      " |  Class methods defined here:\n",
      " |  \n",
      " |  __class_getitem__(...) from builtins.type\n",
      " |      See PEP 585\n",
      " |  \n",
      " |  ----------------------------------------------------------------------\n",
      " |  Static methods defined here:\n",
      " |  \n",
      " |  __new__(*args, **kwargs) from builtins.type\n",
      " |      Create and return a new object.  See help(type) for accurate signature.\n",
      "\n"
     ]
    }
   ],
   "source": [
    "help(tuple)"
   ]
  },
  {
   "cell_type": "markdown",
   "id": "eaa2f421",
   "metadata": {},
   "source": [
    "We can see from above \n",
    "- list has append(), clear(), copy(), extend(), insert(), pop(), remove(), reverse(), sort() member functions which are not there for a tuple"
   ]
  },
  {
   "cell_type": "markdown",
   "id": "939d8b20",
   "metadata": {},
   "source": [
    "2)  Write a code snippet in Python that takes a string as input and returns a tuple of tuples. Each inner tuple should contain a character from the input string and its corresponding ASCII value."
   ]
  },
  {
   "cell_type": "code",
   "execution_count": 25,
   "id": "4689d2fc",
   "metadata": {},
   "outputs": [
    {
     "name": "stdout",
     "output_type": "stream",
     "text": [
      "pls enter a string: Hello\n",
      "(('H', 72), ('e', 101), ('l', 108), ('l', 108), ('o', 111))\n"
     ]
    }
   ],
   "source": [
    "string = input('pls enter a string: ')\n",
    "tuptup = tuple((x, ord(x)) for x in string)\n",
    "print(tuptup)"
   ]
  },
  {
   "cell_type": "markdown",
   "id": "2a9c50f3",
   "metadata": {},
   "source": [
    "3)    Create a program that takes a list of tuples containing student name and roll number and returns a new list of tuples containing only those tuples whose first element is a vowel (a, e, i, o, u, A, E, I, O, U)."
   ]
  },
  {
   "cell_type": "code",
   "execution_count": 27,
   "id": "f1537ca0",
   "metadata": {},
   "outputs": [
    {
     "name": "stdout",
     "output_type": "stream",
     "text": [
      "Enter the number of students in the list: 3\n",
      "Entre student name and roll number: Ajun 1\n",
      "Entre student name and roll number: David 4\n",
      "Entre student name and roll number: elon 9\n",
      "Given list of tuple is:  [('Ajun', '1'), ('David', '4'), ('elon', '9')]\n",
      "New list of tuple is:  [('Ajun', '1'), ('elon', '9')]\n"
     ]
    }
   ],
   "source": [
    "# try lsit compri\n",
    "listup = []\n",
    "n = int(input('Enter the number of students in the list: '))\n",
    "for i in range(n):\n",
    "    listup.append(tuple(input('Entre student name and roll number: ').split()))\n",
    "\n",
    "print('Given list of tuple is: ',listup)\n",
    "\n",
    "vow = ['a', 'e', 'i', 'o', 'u', 'A', 'E', 'I', 'O', 'U']\n",
    "\n",
    "newlist = [x for x in listup if x[0][0] in vow]\n",
    "\n",
    "print('New list of tuple is: ', newlist)"
   ]
  },
  {
   "cell_type": "markdown",
   "id": "60fccec6",
   "metadata": {},
   "source": [
    "4)     WAP with both ways:  \n",
    "\n",
    "       (i) Without using Zip but use list comprehension\n",
    "\n",
    "     a) For two matrices of size 4X4 each, perform matrix addition, subtraction, trace, transpose and scalar multiplication. \n",
    "\n",
    "     b) For a given matrix, perform row-wise operations such as row addition and column addition"
   ]
  },
  {
   "cell_type": "code",
   "execution_count": 1,
   "id": "1af15779",
   "metadata": {},
   "outputs": [
    {
     "name": "stdout",
     "output_type": "stream",
     "text": [
      "Addition of given 2 matrix is \n",
      " [[14, 6, 10, 15], [8, 8, 15, 18], [3, 4, 10, 0], [9, 9, 2, 9]]\n",
      "Substraction of given 2 matrix is \n",
      " [[-4, -2, -2, 3], [6, 8, -3, 0], [-1, -2, 6, 0], [-1, -1, 2, 7]]\n",
      "trace of matrix A is  29\n",
      "trace of matrix B is  12\n",
      "trans of matrix A is \n",
      " [[5, 7, 1, 4], [2, 8, 1, 4], [4, 6, 8, 2], [9, 9, 0, 8]]\n",
      "trans of matrix B is \n",
      " [[9, 1, 2, 5], [4, 0, 3, 5], [6, 9, 2, 0], [6, 9, 0, 1]]\n",
      "Scalar Multiplication of given 2 matrix is \n",
      " [[45, 8, 24, 54], [7, 0, 54, 81], [2, 3, 16, 0], [20, 20, 0, 8]]\n"
     ]
    }
   ],
   "source": [
    "# a\n",
    "matA = [[5, 2, 4, 9],\n",
    "        [7, 8, 6, 9],\n",
    "        [1, 1, 8, 0],\n",
    "        [4, 4, 2, 8]]\n",
    "\n",
    "matB = [[9, 4, 6, 6],\n",
    "        [1, 0, 9, 9],\n",
    "        [2, 3, 2, 0],\n",
    "        [5, 5, 0, 1]]\n",
    "\n",
    "addmat = [[matA[i][j] + matB[i][j] for j in range(4)] for i in range(4)]\n",
    "\n",
    "submat = [[matA[i][j] - matB[i][j] for j in range(4)] for i in range(4)]\n",
    "\n",
    "tracematA = sum([matA[i][i] for i in range(4)])\n",
    "\n",
    "tracematB = sum([matB[i][i] for i in range(4)])\n",
    "\n",
    "transmatA = [[matA[i][j] for i in range(4)] for j in range(4)]\n",
    "\n",
    "transmatB = [[matB[i][j] for i in range(4)] for j in range(4)]\n",
    "\n",
    "mulmat = [[matA[i][j] * matB[i][j] for j in range(4)] for i in range(4)]\n",
    "\n",
    "print('Addition of given 2 matrix is \\n', addmat)\n",
    "print('Substraction of given 2 matrix is \\n', submat)\n",
    "print('trace of matrix A is ', tracematA)\n",
    "print('trace of matrix B is ', tracematB)\n",
    "print('trans of matrix A is \\n', transmatA)\n",
    "print('trans of matrix B is \\n', transmatB)\n",
    "print('Scalar Multiplication of given 2 matrix is \\n', mulmat)"
   ]
  },
  {
   "cell_type": "code",
   "execution_count": 2,
   "id": "eea89417",
   "metadata": {},
   "outputs": [
    {
     "name": "stdout",
     "output_type": "stream",
     "text": [
      "Row wise addition for mat A is \n",
      " [20, 30, 10, 18]\n",
      "Column wise addition for mat A is \n",
      " [17, 15, 20, 26]\n",
      "Row wise addition for mat B is \n",
      " [25, 19, 7, 11]\n",
      "Column wise addition for mat B is \n",
      " [17, 12, 17, 16]\n"
     ]
    }
   ],
   "source": [
    "# b\n",
    "row_add_matA = [sum(matA[i]) for i in range(4)]\n",
    "\n",
    "col_add_matA = [sum(transmatA[i]) for i in range(4)]\n",
    "\n",
    "row_add_matB = [sum(matB[i]) for i in range(4)]\n",
    "\n",
    "col_add_matB = [sum(transmatB[i]) for i in range(4)]\n",
    "\n",
    "print('Row wise addition for mat A is \\n', row_add_matA)\n",
    "print('Column wise addition for mat A is \\n', col_add_matA)\n",
    "print('Row wise addition for mat B is \\n', row_add_matB)\n",
    "print('Column wise addition for mat B is \\n', col_add_matB)"
   ]
  },
  {
   "cell_type": "markdown",
   "id": "a4085869",
   "metadata": {},
   "source": [
    "(ii) Using Zip ()\n",
    "\n",
    "    a)  For two matrices of size 4X4 each, perform matrix addition, subtraction, trace, transpose and scalar multiplication. "
   ]
  },
  {
   "cell_type": "code",
   "execution_count": 7,
   "id": "c3047799",
   "metadata": {},
   "outputs": [
    {
     "name": "stdout",
     "output_type": "stream",
     "text": [
      "Addition of given 2 matrix is \n",
      " [[14, 6, 10, 15], [8, 8, 15, 18], [3, 4, 10, 0], [9, 9, 2, 9]]\n",
      "Substraction of given 2 matrix is \n",
      " [[-4, -2, -2, 3], [6, 8, -3, 0], [-1, -2, 6, 0], [-1, -1, 2, 7]]\n",
      "trace of matrix A is  29\n",
      "trace of matrix B is  12\n",
      "trans of matrix A is \n",
      " [[5, 7, 1, 4], [2, 8, 1, 4], [4, 6, 8, 2], [9, 9, 0, 8]]\n",
      "trans of matrix B is \n",
      " [[9, 1, 2, 5], [4, 0, 3, 5], [6, 9, 2, 0], [6, 9, 0, 1]]\n",
      "Scalar Multiplication of given 2 matrix is \n",
      " [[45, 8, 24, 54], [7, 0, 54, 81], [2, 3, 16, 0], [20, 20, 0, 8]]\n"
     ]
    }
   ],
   "source": [
    "addmat = [[sum(x) for x in zip(matA[i], matB[i])] for i in range(4)]\n",
    "\n",
    "# submat = [[sum(x) for x in zip(matA[i], -1*matB[i])] for i in range(4)] \n",
    "submat = [[(x[0] - x[1]) for x in zip(matA[i], matB[i])] for i in range(4)]\n",
    "\n",
    "from math import prod\n",
    "mulmat = [[prod(x) for x in zip(matA[i], matB[i])] for i in range(4)]\n",
    "\n",
    "transmatA = [list(ite) for ite in zip(*matA)]\n",
    "\n",
    "transmatB = [list(ite) for ite in zip(*matB)]\n",
    "\n",
    "tracematA = sum([matA[i][i] for i in range(4)]) # zip cannt be used to calculate trace \n",
    "\n",
    "tracematB = sum([matB[i][i] for i in range(4)])\n",
    "\n",
    "\n",
    "print('Addition of given 2 matrix is \\n', addmat)\n",
    "print('Substraction of given 2 matrix is \\n', submat)\n",
    "print('trace of matrix A is ', tracematA)\n",
    "print('trace of matrix B is ', tracematB)\n",
    "print('trans of matrix A is \\n', transmatA)\n",
    "print('trans of matrix B is \\n', transmatB)\n",
    "print('Scalar Multiplication of given 2 matrix is \\n', mulmat)"
   ]
  },
  {
   "cell_type": "code",
   "execution_count": 14,
   "id": "bd3b9441",
   "metadata": {},
   "outputs": [
    {
     "name": "stdout",
     "output_type": "stream",
     "text": [
      "(5, 7, 1, 4) (2, 8, 1, 4) (4, 6, 8, 2) (9, 9, 0, 8)\n"
     ]
    }
   ],
   "source": [
    "print(*zip(*matA))"
   ]
  },
  {
   "cell_type": "markdown",
   "id": "065fd673",
   "metadata": {},
   "source": [
    "5)    Given a list of numbers, write a Python program to create a set `S` from the list and perform the following operations on the set:\n",
    "\n",
    "a)    Add an element to the set `S`\n",
    "\n",
    "b)    Remove an element from the set `S`\n",
    "\n",
    "c)     Discard an element from the set `S`\n",
    "\n",
    "d)    Clear all elements from the set `S`"
   ]
  },
  {
   "cell_type": "code",
   "execution_count": 35,
   "id": "bf4e40ae",
   "metadata": {},
   "outputs": [
    {
     "name": "stdout",
     "output_type": "stream",
     "text": [
      "{2, 3, 5, 8, 10}\n",
      "{0, 2, 3, 5, 8, 10}\n",
      "{0, 2, 3, 5, 8}\n",
      "{0, 2, 3, 5, 8}\n",
      "set()\n"
     ]
    }
   ],
   "source": [
    "lis = [2, 5, 3, 2, 8, 10, 3, 3]\n",
    "s = set(lis)\n",
    "print(s)\n",
    "# a\n",
    "s.add(0)\n",
    "print(s)\n",
    "\n",
    "# b\n",
    "s.remove(10)\n",
    "print(s)\n",
    "\n",
    "# c \n",
    "s.discard(9)\n",
    "print(s)\n",
    "\n",
    "# d\n",
    "s.clear()\n",
    "print(s)"
   ]
  },
  {
   "cell_type": "markdown",
   "id": "0b962c67",
   "metadata": {},
   "source": [
    "6)    What is a frozenset()? Give examples.\n",
    "\n",
    "- Python frozenset() Method creates an immutable Set object from an iterable. It is a built-in Python function. As it is a set object therefore we cannot have duplicate values in the frozenset.\n"
   ]
  },
  {
   "cell_type": "code",
   "execution_count": 39,
   "id": "555b1ad8",
   "metadata": {},
   "outputs": [
    {
     "name": "stdout",
     "output_type": "stream",
     "text": [
      "frozenset()\n",
      "frozenset({'this', 'list', 'is', 'of'})\n",
      "frozenset({'name', 'sex', 'college', 'age'})\n"
     ]
    }
   ],
   "source": [
    "# examples\n",
    "\n",
    "n = ()\n",
    "fs = frozenset(n)\n",
    "print(fs)\n",
    "\n",
    "l = ['this', 'is', 'list', 'of', 'list']\n",
    "lfs = frozenset(l)\n",
    "print(lfs)\n",
    "\n",
    "Student = {\"name\": \"Saad\", \"age\": 21, \"sex\": \"Male\", \"college\": \"IIT Madras\"}\n",
    " \n",
    "# making keys of dictionary as frozenset\n",
    "key = frozenset(Student)\n",
    " \n",
    "# printing dict keys as frozenset\n",
    "print(key)"
   ]
  },
  {
   "cell_type": "markdown",
   "id": "62b60c51",
   "metadata": {},
   "source": [
    "7)    Set comprehension: Create a set of all the even numbers between 1 and 10 using set comprehensions."
   ]
  },
  {
   "cell_type": "code",
   "execution_count": 41,
   "id": "f1b856ca",
   "metadata": {},
   "outputs": [
    {
     "data": {
      "text/plain": [
       "{2, 4, 6, 8, 10}"
      ]
     },
     "execution_count": 41,
     "metadata": {},
     "output_type": "execute_result"
    }
   ],
   "source": [
    "setcompri = set(x*2 for x in range(1, 6))\n",
    "\n",
    "setcompri"
   ]
  }
 ],
 "metadata": {
  "kernelspec": {
   "display_name": "Python 3 (ipykernel)",
   "language": "python",
   "name": "python3"
  },
  "language_info": {
   "codemirror_mode": {
    "name": "ipython",
    "version": 3
   },
   "file_extension": ".py",
   "mimetype": "text/x-python",
   "name": "python",
   "nbconvert_exporter": "python",
   "pygments_lexer": "ipython3",
   "version": "3.9.13"
  }
 },
 "nbformat": 4,
 "nbformat_minor": 5
}
