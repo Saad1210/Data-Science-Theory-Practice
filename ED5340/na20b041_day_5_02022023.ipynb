{
 "cells": [
  {
   "cell_type": "markdown",
   "id": "dbd1d009",
   "metadata": {},
   "source": [
    "# HomeWork \n",
    "\n",
    "1. check Stl Library \n",
    "2. Find out the built-in functions that can be oparated on container class list\n",
    "3. how to create linkedlist \n",
    "4. count the number of occurance of each element in the list (done)\n",
    "5. Start from empty list add few elements, sort the list in reverse order. delete the element one by one till list becomes empty (done)"
   ]
  },
  {
   "cell_type": "markdown",
   "id": "34d57448",
   "metadata": {},
   "source": [
    "# Answers\n",
    "\n",
    "1. The Standard Template Library (STL) is a set of C++ template classes to provide common programming data structures and functions such as lists, stacks, arrays, etc. It is a library of container classes, algorithms, and iterator"
   ]
  },
  {
   "cell_type": "markdown",
   "id": "ef62b8c8",
   "metadata": {},
   "source": [
    "- Range()\n",
    "    - ....\n",
    "- List container \n",
    "    - slef refrential structure \n",
    "    - pop we use for specific type of list\n",
    "    - List will always has [ ]\n",
    "    - List can be index / sliced\n",
    "    - List are mutable , can be concatinated, searching and sorting, deleting\n",
    "    - shallow copy , deep copy, difference\n",
    "    - Lists comparison\n",
    "    - List Member Functions\n",
    "        - append, remove, pop, insert, reverse, sort, count, index"
   ]
  },
  {
   "cell_type": "markdown",
   "id": "a64fe6ee",
   "metadata": {},
   "source": [
    "# Misslinueous\n",
    "\n",
    "- even some func are in_built but we should know the working behind that\n",
    "- sorted() is in-built function not a member function (member function are oparated by using '.')\n",
    "- if we want to insert the element in the begining we can use concatination, insert, or reverse then append then reverse again\n",
    "- we cant sort the list containing different dtypes\n",
    "- **The major difference between the pop() method and the remove() method is that the pop() method uses the index of an element to delete it while the remove() method takes the value of the element as an input argument to delete the element**"
   ]
  },
  {
   "cell_type": "code",
   "execution_count": 1,
   "id": "00b8311a",
   "metadata": {},
   "outputs": [
    {
     "data": {
      "text/plain": [
       "[1, 2, 3, 4]"
      ]
     },
     "execution_count": 1,
     "metadata": {},
     "output_type": "execute_result"
    }
   ],
   "source": [
    "l = list(range(1,5))\n",
    "l"
   ]
  },
  {
   "cell_type": "code",
   "execution_count": 2,
   "id": "69aa7968",
   "metadata": {},
   "outputs": [
    {
     "data": {
      "text/plain": [
       "[5, 2, 3, 4]"
      ]
     },
     "execution_count": 2,
     "metadata": {},
     "output_type": "execute_result"
    }
   ],
   "source": [
    "l[0] = 5\n",
    "l"
   ]
  },
  {
   "cell_type": "code",
   "execution_count": 3,
   "id": "0e5a6bf4",
   "metadata": {},
   "outputs": [
    {
     "data": {
      "text/plain": [
       "[5, 2, 3, 4, 'bruhh!!']"
      ]
     },
     "execution_count": 3,
     "metadata": {},
     "output_type": "execute_result"
    }
   ],
   "source": [
    "m = ['bruhh!!']\n",
    "l + m"
   ]
  },
  {
   "cell_type": "code",
   "execution_count": 4,
   "id": "f549469f",
   "metadata": {},
   "outputs": [
    {
     "data": {
      "text/plain": [
       "[]"
      ]
     },
     "execution_count": 4,
     "metadata": {},
     "output_type": "execute_result"
    }
   ],
   "source": [
    "# for delting all elements from a list\n",
    "l[:] = []\n",
    "l"
   ]
  },
  {
   "cell_type": "code",
   "execution_count": 6,
   "id": "f7d084a2",
   "metadata": {},
   "outputs": [
    {
     "data": {
      "text/plain": [
       "['a', 'e', 'i', 'o']"
      ]
     },
     "execution_count": 6,
     "metadata": {},
     "output_type": "execute_result"
    }
   ],
   "source": [
    "vow_lst = ['o', 'a', 'i', 'e']\n",
    "sorted(vow_lst)"
   ]
  },
  {
   "cell_type": "code",
   "execution_count": 7,
   "id": "6daa65a6",
   "metadata": {},
   "outputs": [
    {
     "name": "stdout",
     "output_type": "stream",
     "text": [
      "op\n"
     ]
    }
   ],
   "source": [
    "\n",
    "lst = []\n",
    "if not lst:\n",
    "    print('op')"
   ]
  },
  {
   "cell_type": "code",
   "execution_count": 8,
   "id": "e50b0610",
   "metadata": {},
   "outputs": [],
   "source": [
    "vow_lst.sort()"
   ]
  },
  {
   "cell_type": "code",
   "execution_count": 9,
   "id": "bdfdea7b",
   "metadata": {},
   "outputs": [
    {
     "data": {
      "text/plain": [
       "['a', 'e', 'i', 'o']"
      ]
     },
     "execution_count": 9,
     "metadata": {},
     "output_type": "execute_result"
    }
   ],
   "source": [
    "vow_lst"
   ]
  },
  {
   "cell_type": "markdown",
   "id": "4146a1a1",
   "metadata": {},
   "source": [
    "# Class work"
   ]
  },
  {
   "cell_type": "code",
   "execution_count": 37,
   "id": "08df115a",
   "metadata": {},
   "outputs": [
    {
     "data": {
      "text/plain": [
       "[2, 5, 0, 4]"
      ]
     },
     "execution_count": 37,
     "metadata": {},
     "output_type": "execute_result"
    }
   ],
   "source": [
    "empty = []\n",
    "# Adding elements\n",
    "empty.append(2)\n",
    "empty.append(5)\n",
    "empty.append(0)\n",
    "empty.append(4)\n",
    "empty"
   ]
  },
  {
   "cell_type": "code",
   "execution_count": 38,
   "id": "a380b74d",
   "metadata": {},
   "outputs": [
    {
     "data": {
      "text/plain": [
       "[5, 4, 2, 0]"
      ]
     },
     "execution_count": 38,
     "metadata": {},
     "output_type": "execute_result"
    }
   ],
   "source": [
    "# sorting in reverse order\n",
    "empty.sort(reverse=True)\n",
    "empty"
   ]
  },
  {
   "cell_type": "code",
   "execution_count": 40,
   "id": "5a9e49f4",
   "metadata": {},
   "outputs": [
    {
     "data": {
      "text/plain": [
       "[]"
      ]
     },
     "execution_count": 40,
     "metadata": {},
     "output_type": "execute_result"
    }
   ],
   "source": [
    "# empting the list\n",
    "for i in range(len(empty)):\n",
    "    empty.pop()\n",
    "empty"
   ]
  },
  {
   "cell_type": "code",
   "execution_count": 4,
   "id": "81339cca",
   "metadata": {},
   "outputs": [
    {
     "name": "stdout",
     "output_type": "stream",
     "text": [
      "the count of number 0 in list l is 1\n",
      "the count of number 2 in list l is 3\n",
      "the count of number 4 in list l is 1\n",
      "the count of number 5 in list l is 2\n"
     ]
    }
   ],
   "source": [
    "l = [2, 5, 0, 4, 5, 2, 2]\n",
    "s = set(l)\n",
    "for num in s:\n",
    "    print('the count of number {n} in list l is {c}'.format(n = num, c = l.count(num)))"
   ]
  },
  {
   "cell_type": "code",
   "execution_count": 13,
   "id": "39d54278",
   "metadata": {},
   "outputs": [],
   "source": [
    "class Node:\n",
    "    def __init__(self, data):\n",
    "        self.data = data\n",
    "        self.next = None\n",
    "\n",
    "class LinkedList:\n",
    "    def __init__(self):\n",
    "        self.head = None\n",
    "    \n",
    "    def Print_list(self):\n",
    "        temp = self.head\n",
    "        while(temp):\n",
    "            print(temp.data)\n",
    "            temp = temp.next"
   ]
  },
  {
   "cell_type": "code",
   "execution_count": 14,
   "id": "ce503bc9",
   "metadata": {},
   "outputs": [],
   "source": [
    "llist = LinkedList()\n",
    "llist.head = Node(1)\n",
    "second = Node(2)\n",
    "third = Node(3)"
   ]
  },
  {
   "cell_type": "code",
   "execution_count": 15,
   "id": "48fa8329",
   "metadata": {},
   "outputs": [
    {
     "name": "stdout",
     "output_type": "stream",
     "text": [
      "1\n",
      "2\n",
      "3\n"
     ]
    }
   ],
   "source": [
    "llist.head.next = second\n",
    "second.next = third\n",
    "LinkedList.Print_list(llist)"
   ]
  },
  {
   "cell_type": "code",
   "execution_count": null,
   "id": "2ef6effb",
   "metadata": {},
   "outputs": [],
   "source": []
  }
 ],
 "metadata": {
  "kernelspec": {
   "display_name": "Python 3 (ipykernel)",
   "language": "python",
   "name": "python3"
  },
  "language_info": {
   "codemirror_mode": {
    "name": "ipython",
    "version": 3
   },
   "file_extension": ".py",
   "mimetype": "text/x-python",
   "name": "python",
   "nbconvert_exporter": "python",
   "pygments_lexer": "ipython3",
   "version": "3.9.13"
  }
 },
 "nbformat": 4,
 "nbformat_minor": 5
}
