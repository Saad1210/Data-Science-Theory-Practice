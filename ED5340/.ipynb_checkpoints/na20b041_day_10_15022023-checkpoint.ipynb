{
 "cells": [
  {
   "cell_type": "markdown",
   "id": "8ff4b44c",
   "metadata": {},
   "source": [
    "# Home Work\n"
   ]
  },
  {
   "cell_type": "markdown",
   "id": "7c1ad8a9",
   "metadata": {},
   "source": [
    "# Miscelenious\n"
   ]
  },
  {
   "cell_type": "markdown",
   "id": "3575f8ef",
   "metadata": {},
   "source": [
    "Dictionaries\n",
    "- collection of key-val pair\n",
    "- enclosed in curly brackets {}\n",
    "- Indexed only by keys\n",
    "- Different keys may have same values\n",
    "\n",
    "Accessing dictionary elements\n",
    "- using its key, and the corrosponding values can be accessed\n",
    "\n",
    "Dic oprations\n",
    "- Dic are mutable (add, delete or modify)\n",
    "- "
   ]
  },
  {
   "cell_type": "code",
   "execution_count": 3,
   "id": "df0b7578",
   "metadata": {},
   "outputs": [],
   "source": [
    "d = {3:30, 'k':'v', 'l':[1,2,3]}"
   ]
  },
  {
   "cell_type": "code",
   "execution_count": 6,
   "id": "cd7b4576",
   "metadata": {},
   "outputs": [
    {
     "name": "stdout",
     "output_type": "stream",
     "text": [
      "3 30\n",
      "k v\n",
      "l [1, 2, 3]\n"
     ]
    }
   ],
   "source": [
    "for i in d:\n",
    "    print(i,d[i])"
   ]
  },
  {
   "cell_type": "code",
   "execution_count": 8,
   "id": "8acb3a15",
   "metadata": {},
   "outputs": [],
   "source": [
    "d['k'] = 'val'"
   ]
  },
  {
   "cell_type": "code",
   "execution_count": 10,
   "id": "df100402",
   "metadata": {},
   "outputs": [
    {
     "data": {
      "text/plain": [
       "dict_items([(3, 30), ('k', 'val'), ('l', [1, 2, 3])])"
      ]
     },
     "execution_count": 10,
     "metadata": {},
     "output_type": "execute_result"
    }
   ],
   "source": [
    "d.items()"
   ]
  },
  {
   "cell_type": "code",
   "execution_count": 11,
   "id": "68353015",
   "metadata": {},
   "outputs": [
    {
     "data": {
      "text/plain": [
       "dict_keys([3, 'k', 'l'])"
      ]
     },
     "execution_count": 11,
     "metadata": {},
     "output_type": "execute_result"
    }
   ],
   "source": [
    "d.keys()"
   ]
  },
  {
   "cell_type": "code",
   "execution_count": 12,
   "id": "00b66278",
   "metadata": {},
   "outputs": [
    {
     "data": {
      "text/plain": [
       "dict_values([30, 'val', [1, 2, 3]])"
      ]
     },
     "execution_count": 12,
     "metadata": {},
     "output_type": "execute_result"
    }
   ],
   "source": [
    "d.values()"
   ]
  },
  {
   "cell_type": "code",
   "execution_count": 14,
   "id": "1340165a",
   "metadata": {},
   "outputs": [],
   "source": [
    "s1 = {1,2}\n",
    "s2 = {1,3}"
   ]
  },
  {
   "cell_type": "code",
   "execution_count": 16,
   "id": "c4e75998",
   "metadata": {},
   "outputs": [],
   "source": [
    "s1.update(s2)"
   ]
  },
  {
   "cell_type": "code",
   "execution_count": null,
   "id": "d92ab959",
   "metadata": {},
   "outputs": [],
   "source": []
  }
 ],
 "metadata": {
  "kernelspec": {
   "display_name": "Python 3 (ipykernel)",
   "language": "python",
   "name": "python3"
  },
  "language_info": {
   "codemirror_mode": {
    "name": "ipython",
    "version": 3
   },
   "file_extension": ".py",
   "mimetype": "text/x-python",
   "name": "python",
   "nbconvert_exporter": "python",
   "pygments_lexer": "ipython3",
   "version": "3.9.13"
  }
 },
 "nbformat": 4,
 "nbformat_minor": 5
}
