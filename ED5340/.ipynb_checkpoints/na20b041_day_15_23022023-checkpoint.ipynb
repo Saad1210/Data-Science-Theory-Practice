{
 "cells": [
  {
   "cell_type": "markdown",
   "id": "941ee29e",
   "metadata": {},
   "source": [
    "Inheritance \n",
    "- Simple inheritace 1 base class 1 derived class"
   ]
  },
  {
   "cell_type": "code",
   "execution_count": 10,
   "id": "20a19c7f",
   "metadata": {},
   "outputs": [],
   "source": [
    "class Base:\n",
    "    def __init__(self, name):\n",
    "        self._name = name\n",
    "        print('Inside Base Class')\n",
    "        \n",
    "    def printbase(self):\n",
    "        print(self._name)\n",
    "    \n",
    "class Derived(Base):\n",
    "    def __init__(self, roll, name):\n",
    "        self.roll = roll\n",
    "        print('Inside derived class')\n",
    "        super().__init__(name)\n",
    "        \n",
    "    def printderived(self):\n",
    "        print(self.roll, self._name)\n",
    "\n"
   ]
  },
  {
   "cell_type": "code",
   "execution_count": 11,
   "id": "c8343eb8",
   "metadata": {},
   "outputs": [
    {
     "name": "stdout",
     "output_type": "stream",
     "text": [
      "Inside derived class\n",
      "Inside Base Class\n",
      "41 Saad\n",
      "Saad\n"
     ]
    },
    {
     "data": {
      "text/plain": [
       "(None, None)"
      ]
     },
     "execution_count": 11,
     "metadata": {},
     "output_type": "execute_result"
    }
   ],
   "source": [
    "d1 = Derived(41, 'Saad')\n",
    "d1.printderived(), d1.printbase()"
   ]
  },
  {
   "cell_type": "markdown",
   "id": "ef912e75",
   "metadata": {},
   "source": [
    "Multi level inheritance\n",
    "- class Derived1(Base), class Derived2(Derived1)\n",
    "\n",
    "Multiple inheritance\n",
    "- class Derived(Base1, Base2)\n",
    "- Order of Base1 and Base2 matters\n",
    "- super should not be used as it wont call both Base classes\n",
    "- Base1.__ init __ (self,...)\n",
    "- Base2.__ init __ (self,...)\n",
    "- use like this"
   ]
  },
  {
   "cell_type": "code",
   "execution_count": null,
   "id": "e6bea99f",
   "metadata": {},
   "outputs": [],
   "source": []
  },
  {
   "cell_type": "code",
   "execution_count": null,
   "id": "7e84367d",
   "metadata": {},
   "outputs": [],
   "source": [
    "class Base1:\n",
    "    def __init__(self, cname, dept):\n",
    "        self.collage = cname\n",
    "        self.dept = dept\n",
    "    \n",
    "    def printbase1(self):\n",
    "        print(self.collage, self.dept)\n",
    "        \n"
   ]
  }
 ],
 "metadata": {
  "kernelspec": {
   "display_name": "Python 3 (ipykernel)",
   "language": "python",
   "name": "python3"
  },
  "language_info": {
   "codemirror_mode": {
    "name": "ipython",
    "version": 3
   },
   "file_extension": ".py",
   "mimetype": "text/x-python",
   "name": "python",
   "nbconvert_exporter": "python",
   "pygments_lexer": "ipython3",
   "version": "3.9.13"
  }
 },
 "nbformat": 4,
 "nbformat_minor": 5
}
