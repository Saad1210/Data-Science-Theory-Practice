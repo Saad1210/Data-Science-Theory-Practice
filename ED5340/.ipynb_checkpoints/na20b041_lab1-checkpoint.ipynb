{
 "cells": [
  {
   "cell_type": "markdown",
   "id": "c5f4eaea",
   "metadata": {},
   "source": [
    "## Lab 1\n"
   ]
  },
  {
   "cell_type": "code",
   "execution_count": 7,
   "id": "75e62b2e",
   "metadata": {},
   "outputs": [],
   "source": [
    "import math "
   ]
  },
  {
   "cell_type": "markdown",
   "id": "19ff94e8",
   "metadata": {},
   "source": [
    "**1.**\tWAP to find the value of the following:\n",
    "\n",
    "a)\t7(ln(5)+ln(e3))\n",
    "\n",
    "b)\t1/sin(π/3) + 1/cos(3π/2)\n"
   ]
  },
  {
   "cell_type": "code",
   "execution_count": 8,
   "id": "f005b838",
   "metadata": {},
   "outputs": [
    {
     "data": {
      "text/plain": [
       "32.2660653870387"
      ]
     },
     "execution_count": 8,
     "metadata": {},
     "output_type": "execute_result"
    }
   ],
   "source": [
    "7*(math.log(5)+math.log(math.e**3))"
   ]
  },
  {
   "cell_type": "markdown",
   "id": "8101f5de",
   "metadata": {},
   "source": [
    "**Q1 (b)**"
   ]
  },
  {
   "cell_type": "code",
   "execution_count": 10,
   "id": "eba7dc36",
   "metadata": {},
   "outputs": [
    {
     "data": {
      "text/plain": [
       "0.15470053837925168"
      ]
     },
     "execution_count": 10,
     "metadata": {},
     "output_type": "execute_result"
    }
   ],
   "source": [
    "1/math.sin(math.pi/3) + 1/math.cos(3*math.pi)"
   ]
  },
  {
   "cell_type": "markdown",
   "id": "6190f0f4",
   "metadata": {},
   "source": [
    "**2.**    WAP to return the count of odd numbers between 5 and 50 (both inclusive) using arithmetic operators (without using loops). "
   ]
  },
  {
   "cell_type": "code",
   "execution_count": 16,
   "id": "121940ef",
   "metadata": {},
   "outputs": [
    {
     "name": "stdout",
     "output_type": "stream",
     "text": [
      "number of odd numbers between 5 and 50 are 23\n"
     ]
    }
   ],
   "source": [
    "# tn = a + (n-1)*d \n",
    "# using above formula\n",
    "t = 49\n",
    "a = 5\n",
    "d = 2\n",
    "n = (t - a)/d + 1\n",
    "print(\"number of odd numbers between 5 and 50 are\", int(n))"
   ]
  },
  {
   "cell_type": "markdown",
   "id": "7208c956",
   "metadata": {},
   "source": [
    "**3.**\tWAP to demonstrate the use of  trunc( ), floor( ), ceil( ) and round( ) on the following numbers 100.496, 100.59,-100.496, -6.5, 4.25, 8.5 and 9"
   ]
  },
  {
   "cell_type": "code",
   "execution_count": 23,
   "id": "06cb3a26",
   "metadata": {},
   "outputs": [
    {
     "name": "stdout",
     "output_type": "stream",
     "text": [
      "trunc of 100.496 is 100\n",
      "trunc of 100.59 is 100\n",
      "trunc of -100.496 is -100\n",
      "trunc of -6.5 is -6\n",
      "trunc of 4.25 is 4\n",
      "trunc of 8.5 is 8\n",
      "trunc of 9 is 9\n"
     ]
    }
   ],
   "source": [
    "# use of trunc() func\n",
    "l = [100.496, 100.59,-100.496, -6.5, 4.25, 8.5, 9]\n",
    "for number in l:\n",
    "    print(\"trunc of {} is {}\".format(number,math.trunc(number)))"
   ]
  },
  {
   "cell_type": "code",
   "execution_count": 24,
   "id": "91a5bc2e",
   "metadata": {},
   "outputs": [
    {
     "name": "stdout",
     "output_type": "stream",
     "text": [
      "floor of 100.496 is 100\n",
      "floor of 100.59 is 100\n",
      "floor of -100.496 is -101\n",
      "floor of -6.5 is -7\n",
      "floor of 4.25 is 4\n",
      "floor of 8.5 is 8\n",
      "floor of 9 is 9\n"
     ]
    }
   ],
   "source": [
    "# use of floor()\n",
    "for number in l:\n",
    "    print(\"floor of {} is {}\".format(number,math.floor(number)))"
   ]
  },
  {
   "cell_type": "code",
   "execution_count": 25,
   "id": "c1fa10f6",
   "metadata": {},
   "outputs": [
    {
     "name": "stdout",
     "output_type": "stream",
     "text": [
      "ceil of 100.496 is 101\n",
      "ceil of 100.59 is 101\n",
      "ceil of -100.496 is -100\n",
      "ceil of -6.5 is -6\n",
      "ceil of 4.25 is 5\n",
      "ceil of 8.5 is 9\n",
      "ceil of 9 is 9\n"
     ]
    }
   ],
   "source": [
    "# use of ceil()\n",
    "for number in l:\n",
    "    print(\"ceil of {} is {}\".format(number,math.ceil(number)))"
   ]
  },
  {
   "cell_type": "code",
   "execution_count": 26,
   "id": "f82236c0",
   "metadata": {},
   "outputs": [
    {
     "name": "stdout",
     "output_type": "stream",
     "text": [
      "rounding of 100.496 is 100\n",
      "rounding of 100.59 is 101\n",
      "rounding of -100.496 is -100\n",
      "rounding of -6.5 is -6\n",
      "rounding of 4.25 is 4\n",
      "rounding of 8.5 is 8\n",
      "rounding of 9 is 9\n"
     ]
    }
   ],
   "source": [
    "# use of round()\n",
    "for number in l:\n",
    "    print(\"rounding of {} is {}\".format(number,round(number)))"
   ]
  },
  {
   "cell_type": "markdown",
   "id": "2dafac50",
   "metadata": {},
   "source": [
    "**4.** WAP \n",
    "\n",
    "a)\tThat generates the random numbers in the range 5 to 55. Take the seed value \n",
    "as user input. (import random module)\n",
    "\n",
    "b)\tFind the average of those numbers.\n",
    "\n"
   ]
  },
  {
   "cell_type": "code",
   "execution_count": 1,
   "id": "c7dd19a5",
   "metadata": {},
   "outputs": [
    {
     "name": "stdout",
     "output_type": "stream",
     "text": [
      "42\n"
     ]
    },
    {
     "data": {
      "text/plain": [
       "[45, 12, 6, 22, 20]"
      ]
     },
     "execution_count": 1,
     "metadata": {},
     "output_type": "execute_result"
    }
   ],
   "source": [
    "# Q4 (a) \n",
    "import random\n",
    "random.seed(int(input()))\n",
    "nums = []\n",
    "for i in range(5):\n",
    "    nums.append(random.randint(5,50))\n",
    "nums"
   ]
  },
  {
   "cell_type": "code",
   "execution_count": 2,
   "id": "64e21368",
   "metadata": {},
   "outputs": [
    {
     "name": "stdout",
     "output_type": "stream",
     "text": [
      "Avrage of randomly generated 5 numbers is 21.0\n"
     ]
    }
   ],
   "source": [
    "# Q4 (b)\n",
    "print('Avrage of randomly generated 5 numbers is',sum(nums)/5)"
   ]
  },
  {
   "cell_type": "markdown",
   "id": "fcb444d3",
   "metadata": {},
   "source": [
    "**5.** WAP to solve the quadratic equation of the form ax2+bx+c=0, where a, b and c are real numbers and a ≠ 0 (Take a, b and c as user input)."
   ]
  },
  {
   "cell_type": "code",
   "execution_count": null,
   "id": "09fecda5",
   "metadata": {},
   "outputs": [],
   "source": [
    "# ax2+bx+c=0\n",
    "# the solution of above quad eq can be calculated by using formula\n",
    "# roots = (-b +- sqrt(b^2-4ac))/2a\n",
    "a,b,c = map(int,input(\"Enter the values of a, b, c separated by space \").split())\n",
    "root1 = (-b + math.sqrt(b**2-4*a*c))/2*a\n",
    "root2 = (-b - math.sqrt(b**2-4*a*c))/2*a\n",
    "print(\"The roots of given quadratic equation are\", root1, root2)"
   ]
  },
  {
   "cell_type": "markdown",
   "id": "38e32ac7",
   "metadata": {},
   "source": [
    "**6.** From the word “PYTHON”\n",
    "\n",
    "a)\tprint the letter \"H\".\n",
    "\n",
    "b)  print the first three letters.\n",
    "\n",
    "c)  print last letter.\n",
    "\n",
    "d)  reverse the string\n",
    "\n"
   ]
  },
  {
   "cell_type": "code",
   "execution_count": 44,
   "id": "3c89567d",
   "metadata": {},
   "outputs": [
    {
     "name": "stdout",
     "output_type": "stream",
     "text": [
      "H\n",
      "The first three letters are PYT\n",
      "last letter N\n",
      "reverse of str NOHTYP\n"
     ]
    }
   ],
   "source": [
    "word = \"PYTHON\"\n",
    "# Q6 (a)\n",
    "print(word[3])\n",
    "\n",
    "# Q6 (b)\n",
    "print(\"The first three letters are\", word[:3])\n",
    "\n",
    "# Q6 (c)\n",
    "print(\"last letter\", word[-1])\n",
    "\n",
    "# Q6 (d)\n",
    "print(\"reverse of str\", word[::-1])"
   ]
  },
  {
   "cell_type": "markdown",
   "id": "37909ffa",
   "metadata": {},
   "source": [
    "**7.** Given the words Learning, python, is, fun, WAP to print the following:\n",
    "\n",
    "a)\tLearning python is fun\n",
    "\n",
    "b)\tLEARNING PYTHON IS FUN\n",
    "\n",
    "c)\tFun is python learning\n",
    "\n",
    "d)\tnuf si nohtyp gninrael\n"
   ]
  },
  {
   "cell_type": "code",
   "execution_count": 103,
   "id": "3fa4b709",
   "metadata": {},
   "outputs": [
    {
     "name": "stdout",
     "output_type": "stream",
     "text": [
      "Learning python is fun\n",
      "LEARNING PYTHON IS FUN\n",
      "Fun is python learning\n",
      "nuf si nohtyp gninrael\n"
     ]
    }
   ],
   "source": [
    "words = ['Learning', 'python', 'is', 'fun']\n",
    "# Q7 (a)\n",
    "print(' '.join(words))\n",
    "\n",
    "# Q7 (b)\n",
    "print(' '.join(words).upper())\n",
    "\n",
    "# Q7 (c)\n",
    "print(' '.join(words[::-1]).capitalize())\n",
    "\n",
    "# Q7 (d)\n",
    "print(' '.join(words)[::-1].lower())"
   ]
  },
  {
   "cell_type": "markdown",
   "id": "e186e82b",
   "metadata": {},
   "source": [
    "**8.** WAP to demonstrate the standard data types in Python and print the size and type of each of them and print them in ascending order."
   ]
  },
  {
   "cell_type": "code",
   "execution_count": 85,
   "id": "9e0700ed",
   "metadata": {},
   "outputs": [
    {
     "name": "stdout",
     "output_type": "stream",
     "text": [
      "<class 'int'> 28\n",
      "<class 'str'> 53\n",
      "<class 'list'> 152\n",
      "<class 'set'> 216\n",
      "<class 'bool'> 28\n"
     ]
    }
   ],
   "source": [
    "import sys\n",
    "# some of the standard data types in python are \n",
    "# numbers, string, list, tuple, set, bool\n",
    "a = 5\n",
    "print(type(a), sys.getsizeof(a))\n",
    "\n",
    "s = 'Saad'\n",
    "print(type(s), sys.getsizeof(s))\n",
    "\n",
    "l = [1,2,3,3,2,1]\n",
    "print(type(l), sys.getsizeof(l))\n",
    "\n",
    "S = set(l)\n",
    "print(type(S), sys.getsizeof(S))\n",
    "\n",
    "b = 3>2\n",
    "print(type(b), sys.getsizeof(b))"
   ]
  },
  {
   "cell_type": "markdown",
   "id": "488fdf71",
   "metadata": {},
   "source": [
    "**9.** WAP for demonstrating the arithmetic operations by taking two input values from the keyboard simultaneously"
   ]
  },
  {
   "cell_type": "code",
   "execution_count": 75,
   "id": "7eb20ee7",
   "metadata": {},
   "outputs": [
    {
     "name": "stdout",
     "output_type": "stream",
     "text": [
      "2 3\n",
      "5\n"
     ]
    }
   ],
   "source": [
    "a,b = map(int,input().split())\n",
    "print(a+b)"
   ]
  },
  {
   "cell_type": "markdown",
   "id": "122b8f21",
   "metadata": {},
   "source": [
    "**10.**\tFind out five built in functions and write a description of the same."
   ]
  },
  {
   "cell_type": "markdown",
   "id": "fb20ed68",
   "metadata": {},
   "source": [
    "- int(), str(), float() - to convert to specific data type\n",
    "- print() - to print something\n",
    "- input() - to take user input\n",
    "- map() - to map some function to all elements of an itrator\n",
    "- list()/ tuple() - to convert into list/tuple\n",
    "- min(), max() - to get minimum and maximum values \n",
    "- sum() - to get sum of all elements in an itretor"
   ]
  },
  {
   "cell_type": "markdown",
   "id": "2f122304",
   "metadata": {},
   "source": [
    "**11.**\tFind out difference between pointers and referencing and write a description\n",
    "- Pointers and references are both ways to indirectly access the value stored in a memory location\n",
    "\n",
    "- Pointer stores mmory address of another variable.\n",
    "    - for example lets take x = 5 and p stores the address of x (p= &x), we can access the value of x like this: *p = 5\n",
    "\n",
    "- A refrance is another name of a variable. when we create a refrance, we are creating an alias for an existing variable, rather than creating a new variable with a separate memory address.\n",
    "    - For example, lets take x = 5, and a reference variable called \"r\" that refers to \"x\" (r = x). we can access the value of variable x like this: r.\n",
    "\n"
   ]
  },
  {
   "cell_type": "code",
   "execution_count": null,
   "id": "4f58de28",
   "metadata": {},
   "outputs": [],
   "source": []
  }
 ],
 "metadata": {
  "kernelspec": {
   "display_name": "Python 3 (ipykernel)",
   "language": "python",
   "name": "python3"
  },
  "language_info": {
   "codemirror_mode": {
    "name": "ipython",
    "version": 3
   },
   "file_extension": ".py",
   "mimetype": "text/x-python",
   "name": "python",
   "nbconvert_exporter": "python",
   "pygments_lexer": "ipython3",
   "version": "3.9.13"
  }
 },
 "nbformat": 4,
 "nbformat_minor": 5
}
