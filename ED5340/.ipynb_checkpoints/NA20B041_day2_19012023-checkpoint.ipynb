{
 "cells": [
  {
   "cell_type": "markdown",
   "id": "a15db5d1",
   "metadata": {},
   "source": [
    "## H. W. Ques\n",
    "\n",
    "1. What is Ternary Oprator?\n",
    "2. What is meaning of PEMDAS \n",
    "3. Find out what all built-in funtion available in pyhton.\n",
    "4. What are the round functions \n",
    "5. What all libraries available\n",
    "6. Find out the regular math function (not in module)\n",
    "7. Find out the trignometric func\n",
    "8. vaious ways of  commenting \n",
    "9. How do we write 'Multi-line' statment"
   ]
  },
  {
   "cell_type": "markdown",
   "id": "49c2d975",
   "metadata": {},
   "source": [
    "## Answers\n",
    "1. - Ternary oprator is an comprerssed way to write **if-else** statement.  "
   ]
  },
  {
   "cell_type": "markdown",
   "id": "734a64f6",
   "metadata": {},
   "source": [
    "- Pyhton variables are called identifiers\n",
    "\n",
    "rules for identifires \n",
    "* ... \n",
    "* ... \n"
   ]
  },
  {
   "cell_type": "markdown",
   "id": "1334cc9e",
   "metadata": {},
   "source": [
    "**Data types in python**\n",
    "\n",
    "...\n"
   ]
  },
  {
   "cell_type": "markdown",
   "id": "5ffc9f5f",
   "metadata": {},
   "source": [
    "- What ever you do in python is an object\n",
    "- we dont have any character in py everything is string\n",
    "- "
   ]
  },
  {
   "cell_type": "markdown",
   "id": "9fabfdb6",
   "metadata": {},
   "source": [
    "**Some difference with C lang**\n",
    "\n",
    "..."
   ]
  },
  {
   "cell_type": "markdown",
   "id": "9e054a46",
   "metadata": {},
   "source": [
    "- Containers (something relatepyhton )\n",
    "- we use type function to identify the type of an object\n",
    "- assignment is always right to left\n",
    "\n",
    "- multiple ways to assign \n",
    "    - a = b = 3\n",
    "    - a = 3, b = 5\n",
    "    - a, b = 3, \n",
    "\n",
    "- Arithmatic oprators \n",
    "    - Unary oprators (+, -, ???)\n",
    "    - Binary oprators (+, -, *, /, //, **, %)\n",
    "    - Ternary oprator (remember the ?:)\n",
    "\n",
    "- Typecasting \n",
    "    - ex. float(b)\n",
    "\n",
    "- Oprator Precedence : PEMDAS \n",
    "\n",
    "- Assignment Expression : +=, -=, *=, /=, //=, ...\n",
    "\n"
   ]
  },
  {
   "cell_type": "code",
   "execution_count": 1,
   "id": "fbeac0f4",
   "metadata": {},
   "outputs": [
    {
     "ename": "SyntaxError",
     "evalue": "invalid syntax (4030694717.py, line 2)",
     "output_type": "error",
     "traceback": [
      "\u001b[1;36m  File \u001b[1;32m\"C:\\Users\\DELL\\AppData\\Local\\Temp\\ipykernel_3664\\4030694717.py\"\u001b[1;36m, line \u001b[1;32m2\u001b[0m\n\u001b[1;33m    a++\u001b[0m\n\u001b[1;37m       ^\u001b[0m\n\u001b[1;31mSyntaxError\u001b[0m\u001b[1;31m:\u001b[0m invalid syntax\n"
     ]
    }
   ],
   "source": [
    "a = 5\n",
    "a++"
   ]
  },
  {
   "cell_type": "code",
   "execution_count": 6,
   "id": "86baed92",
   "metadata": {},
   "outputs": [
    {
     "data": {
      "text/plain": [
       "(0.5, 0)"
      ]
     },
     "execution_count": 6,
     "metadata": {},
     "output_type": "execute_result"
    }
   ],
   "source": [
    "2/4, 2//4"
   ]
  },
  {
   "cell_type": "code",
   "execution_count": 5,
   "id": "6163cb7b",
   "metadata": {},
   "outputs": [
    {
     "data": {
      "text/plain": [
       "(-4, 3)"
      ]
     },
     "execution_count": 5,
     "metadata": {},
     "output_type": "execute_result"
    }
   ],
   "source": [
    "# Take a look bro\n",
    "-10//3, 10//3"
   ]
  },
  {
   "cell_type": "code",
   "execution_count": 8,
   "id": "16c2221c",
   "metadata": {},
   "outputs": [
    {
     "data": {
      "text/plain": [
       "(0.5999999999999999, 4.12038048155599)"
      ]
     },
     "execution_count": 8,
     "metadata": {},
     "output_type": "execute_result"
    }
   ],
   "source": [
    "2.3 % 1.7 , 2.3**1.7 # wokrs"
   ]
  },
  {
   "cell_type": "markdown",
   "id": "819ed898",
   "metadata": {},
   "source": [
    "**Some pyhton stuff**\n",
    "- Builtin Functions \n",
    "    - ex. abs(x), pow(x,y)\n",
    "- Library Function\n",
    "    - math lib\n",
    "- Member Function\n",
    "    - member function are associated with the data <br>\n",
    "    ex. a = 1+2j <br>\n",
    "        print(a.real), print(a.imag), print(a.conjugate())\n",
    "- Every module will have data and member function\n"
   ]
  },
  {
   "cell_type": "code",
   "execution_count": 9,
   "id": "e627a7c3",
   "metadata": {},
   "outputs": [],
   "source": [
    "import math "
   ]
  },
  {
   "cell_type": "code",
   "execution_count": 10,
   "id": "26c30bcb",
   "metadata": {
    "scrolled": true
   },
   "outputs": [
    {
     "name": "stdout",
     "output_type": "stream",
     "text": [
      "Help on class complex in module builtins:\n",
      "\n",
      "class complex(object)\n",
      " |  complex(real=0, imag=0)\n",
      " |  \n",
      " |  Create a complex number from a real part and an optional imaginary part.\n",
      " |  \n",
      " |  This is equivalent to (real + imag*1j) where imag defaults to 0.\n",
      " |  \n",
      " |  Methods defined here:\n",
      " |  \n",
      " |  __abs__(self, /)\n",
      " |      abs(self)\n",
      " |  \n",
      " |  __add__(self, value, /)\n",
      " |      Return self+value.\n",
      " |  \n",
      " |  __bool__(self, /)\n",
      " |      True if self else False\n",
      " |  \n",
      " |  __divmod__(self, value, /)\n",
      " |      Return divmod(self, value).\n",
      " |  \n",
      " |  __eq__(self, value, /)\n",
      " |      Return self==value.\n",
      " |  \n",
      " |  __float__(self, /)\n",
      " |      float(self)\n",
      " |  \n",
      " |  __floordiv__(self, value, /)\n",
      " |      Return self//value.\n",
      " |  \n",
      " |  __format__(...)\n",
      " |      complex.__format__() -> str\n",
      " |      \n",
      " |      Convert to a string according to format_spec.\n",
      " |  \n",
      " |  __ge__(self, value, /)\n",
      " |      Return self>=value.\n",
      " |  \n",
      " |  __getattribute__(self, name, /)\n",
      " |      Return getattr(self, name).\n",
      " |  \n",
      " |  __getnewargs__(...)\n",
      " |  \n",
      " |  __gt__(self, value, /)\n",
      " |      Return self>value.\n",
      " |  \n",
      " |  __hash__(self, /)\n",
      " |      Return hash(self).\n",
      " |  \n",
      " |  __int__(self, /)\n",
      " |      int(self)\n",
      " |  \n",
      " |  __le__(self, value, /)\n",
      " |      Return self<=value.\n",
      " |  \n",
      " |  __lt__(self, value, /)\n",
      " |      Return self<value.\n",
      " |  \n",
      " |  __mod__(self, value, /)\n",
      " |      Return self%value.\n",
      " |  \n",
      " |  __mul__(self, value, /)\n",
      " |      Return self*value.\n",
      " |  \n",
      " |  __ne__(self, value, /)\n",
      " |      Return self!=value.\n",
      " |  \n",
      " |  __neg__(self, /)\n",
      " |      -self\n",
      " |  \n",
      " |  __pos__(self, /)\n",
      " |      +self\n",
      " |  \n",
      " |  __pow__(self, value, mod=None, /)\n",
      " |      Return pow(self, value, mod).\n",
      " |  \n",
      " |  __radd__(self, value, /)\n",
      " |      Return value+self.\n",
      " |  \n",
      " |  __rdivmod__(self, value, /)\n",
      " |      Return divmod(value, self).\n",
      " |  \n",
      " |  __repr__(self, /)\n",
      " |      Return repr(self).\n",
      " |  \n",
      " |  __rfloordiv__(self, value, /)\n",
      " |      Return value//self.\n",
      " |  \n",
      " |  __rmod__(self, value, /)\n",
      " |      Return value%self.\n",
      " |  \n",
      " |  __rmul__(self, value, /)\n",
      " |      Return value*self.\n",
      " |  \n",
      " |  __rpow__(self, value, mod=None, /)\n",
      " |      Return pow(value, self, mod).\n",
      " |  \n",
      " |  __rsub__(self, value, /)\n",
      " |      Return value-self.\n",
      " |  \n",
      " |  __rtruediv__(self, value, /)\n",
      " |      Return value/self.\n",
      " |  \n",
      " |  __sub__(self, value, /)\n",
      " |      Return self-value.\n",
      " |  \n",
      " |  __truediv__(self, value, /)\n",
      " |      Return self/value.\n",
      " |  \n",
      " |  conjugate(...)\n",
      " |      complex.conjugate() -> complex\n",
      " |      \n",
      " |      Return the complex conjugate of its argument. (3-4j).conjugate() == 3+4j.\n",
      " |  \n",
      " |  ----------------------------------------------------------------------\n",
      " |  Static methods defined here:\n",
      " |  \n",
      " |  __new__(*args, **kwargs) from builtins.type\n",
      " |      Create and return a new object.  See help(type) for accurate signature.\n",
      " |  \n",
      " |  ----------------------------------------------------------------------\n",
      " |  Data descriptors defined here:\n",
      " |  \n",
      " |  imag\n",
      " |      the imaginary part of a complex number\n",
      " |  \n",
      " |  real\n",
      " |      the real part of a complex number\n",
      "\n"
     ]
    }
   ],
   "source": [
    "help(complex)"
   ]
  },
  {
   "cell_type": "markdown",
   "id": "1f018c1e",
   "metadata": {},
   "source": [
    "### Strings\n",
    "- its a set of unicode char\n",
    "- str representation\n",
    "    - single, double, triple quotes can be used\n",
    "    - "
   ]
  },
  {
   "cell_type": "code",
   "execution_count": 13,
   "id": "c3d2aa70",
   "metadata": {},
   "outputs": [
    {
     "name": "stdout",
     "output_type": "stream",
     "text": [
      "what's up!\n"
     ]
    }
   ],
   "source": [
    "print(\"what's up!\")"
   ]
  },
  {
   "cell_type": "code",
   "execution_count": null,
   "id": "f96482d9",
   "metadata": {},
   "outputs": [],
   "source": []
  }
 ],
 "metadata": {
  "kernelspec": {
   "display_name": "Python 3 (ipykernel)",
   "language": "python",
   "name": "python3"
  },
  "language_info": {
   "codemirror_mode": {
    "name": "ipython",
    "version": 3
   },
   "file_extension": ".py",
   "mimetype": "text/x-python",
   "name": "python",
   "nbconvert_exporter": "python",
   "pygments_lexer": "ipython3",
   "version": "3.9.13"
  }
 },
 "nbformat": 4,
 "nbformat_minor": 5
}
