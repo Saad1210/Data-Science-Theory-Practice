{
 "cells": [
  {
   "cell_type": "markdown",
   "id": "2dc9f9df",
   "metadata": {},
   "source": [
    "Oparator overloading\n",
    "- __ add __ , __ mul __ , are overloading oprators\n",
    "\n",
    "\n",
    "Class methods and variables\n",
    "- ...\n"
   ]
  },
  {
   "cell_type": "code",
   "execution_count": 12,
   "id": "1490972e",
   "metadata": {},
   "outputs": [],
   "source": [
    "class Complex():\n",
    "    def __init__(self, i = 0, j = 0):\n",
    "        self.real = i\n",
    "        self.imaginary = j\n",
    "        \n",
    "    def addcomplex(self, other):\n",
    "        C = Complex()\n",
    "        C.real = self.real + other.real\n",
    "        C.imaginary = self.imaginary + other.imaginary\n",
    "        return C\n",
    "    \n",
    "    def __add__ (self, other):\n",
    "        C = Complex()\n",
    "        C.real = self.real + other.real\n",
    "        C.imaginary = self.imaginary + other.imaginary\n",
    "        return C\n",
    "    \n",
    "    def __mul__ (self, other):\n",
    "        C = Complex()\n",
    "        C.real = self.real * other.real - self.imaginary * other.imaginary\n",
    "        C.imaginary = self.imaginary * other.real + self.real * other.imaginary\n",
    "        return C\n",
    "    \n",
    "    def Printcomplex(self):\n",
    "        print(f'{self.real} + {self.imaginary}j')"
   ]
  },
  {
   "cell_type": "code",
   "execution_count": 13,
   "id": "dc528fc5",
   "metadata": {},
   "outputs": [
    {
     "name": "stdout",
     "output_type": "stream",
     "text": [
      "3 + 5j\n",
      "3 + 5j\n",
      "-4 + 7j\n"
     ]
    }
   ],
   "source": [
    "a = Complex(2,3)\n",
    "b = Complex(1,2)\n",
    "c = a.addcomplex(b)\n",
    "c.Printcomplex()\n",
    "\n",
    "d = a + b\n",
    "d.Printcomplex()\n",
    "\n",
    "e = a * b\n",
    "e.Printcomplex()"
   ]
  },
  {
   "cell_type": "code",
   "execution_count": 18,
   "id": "74c59f38",
   "metadata": {},
   "outputs": [
    {
     "name": "stdout",
     "output_type": "stream",
     "text": [
      "3\n"
     ]
    }
   ],
   "source": [
    "class CMV:\n",
    "    count = 0\n",
    "    def __init__ (self, n = '', s = 0, c = 0):\n",
    "        self.name = n\n",
    "        self.sem = s\n",
    "        self.col = c\n",
    "        CMV.count += 1\n",
    "    \n",
    "    def display():\n",
    "        print(CMV.count)\n",
    "        \n",
    "c1 = CMV('Saad', 6, 4)\n",
    "c1 = CMV('daga', 12, 3)\n",
    "c1 = CMV('erw', 21, 2)\n",
    "\n",
    "CMV.display()"
   ]
  },
  {
   "cell_type": "code",
   "execution_count": 31,
   "id": "6642e6ca",
   "metadata": {},
   "outputs": [],
   "source": [
    "class Department:\n",
    "    def __init__ (self, dname = 'Ocean Engineering'):\n",
    "        self._dept = dname\n",
    "    \n",
    "    def print_dept(self):\n",
    "        print(self._dept)\n",
    "        \n",
    "class Faculty:\n",
    "    def __init__(self, dname, fname = '', fid = 0):\n",
    "        self._faculty_name = fname\n",
    "        self._faculty_id = fid\n",
    "        self._faculty_dept = Department(dname)\n",
    "    \n",
    "    def print_fac(self):\n",
    "        print(self._faculty_name, self._faculty_id)\n",
    "        self._faculty_dept.print_dept()"
   ]
  },
  {
   "cell_type": "code",
   "execution_count": 32,
   "id": "a66995cb",
   "metadata": {},
   "outputs": [
    {
     "name": "stdout",
     "output_type": "stream",
     "text": [
      "Saad 121002\n",
      "Ocean Engineering\n"
     ]
    }
   ],
   "source": [
    "F = Faculty('Ocean Engineering', 'Saad', 121002)\n",
    "F.print_fac()"
   ]
  },
  {
   "cell_type": "code",
   "execution_count": null,
   "id": "013967c2",
   "metadata": {},
   "outputs": [],
   "source": []
  }
 ],
 "metadata": {
  "kernelspec": {
   "display_name": "Python 3 (ipykernel)",
   "language": "python",
   "name": "python3"
  },
  "language_info": {
   "codemirror_mode": {
    "name": "ipython",
    "version": 3
   },
   "file_extension": ".py",
   "mimetype": "text/x-python",
   "name": "python",
   "nbconvert_exporter": "python",
   "pygments_lexer": "ipython3",
   "version": "3.9.13"
  }
 },
 "nbformat": 4,
 "nbformat_minor": 5
}
