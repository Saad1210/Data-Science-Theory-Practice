{
 "cells": [
  {
   "cell_type": "code",
   "execution_count": 11,
   "id": "1a27078f",
   "metadata": {},
   "outputs": [],
   "source": [
    "import numpy as np"
   ]
  },
  {
   "cell_type": "code",
   "execution_count": 14,
   "id": "13c4e185",
   "metadata": {},
   "outputs": [
    {
     "data": {
      "text/plain": [
       "1"
      ]
     },
     "execution_count": 14,
     "metadata": {},
     "output_type": "execute_result"
    }
   ],
   "source": [
    "w = np.array([[1, 2, 3]])\n",
    "w[0,0]"
   ]
  },
  {
   "cell_type": "code",
   "execution_count": 4,
   "id": "29b2cc42",
   "metadata": {},
   "outputs": [
    {
     "data": {
      "text/plain": [
       "-1"
      ]
     },
     "execution_count": 4,
     "metadata": {},
     "output_type": "execute_result"
    }
   ],
   "source": [
    "-3//4"
   ]
  },
  {
   "cell_type": "code",
   "execution_count": 6,
   "id": "4e9dd466",
   "metadata": {},
   "outputs": [
    {
     "data": {
      "text/plain": [
       "-1"
      ]
     },
     "execution_count": 6,
     "metadata": {},
     "output_type": "execute_result"
    }
   ],
   "source": [
    "-4//4"
   ]
  },
  {
   "cell_type": "code",
   "execution_count": 8,
   "id": "98fe2d15",
   "metadata": {},
   "outputs": [
    {
     "name": "stdout",
     "output_type": "stream",
     "text": [
      "2\n"
     ]
    }
   ],
   "source": [
    "class Mat:\n",
    "    def printout(self):\n",
    "        print(self.i)\n",
    "    def __init__(obj):\n",
    "        obj.i = 2\n",
    "\n",
    "obj = Mat()\n",
    "obj.printout()"
   ]
  },
  {
   "cell_type": "code",
   "execution_count": 9,
   "id": "444e9cc1",
   "metadata": {},
   "outputs": [
    {
     "data": {
      "text/plain": [
       "0"
      ]
     },
     "execution_count": 9,
     "metadata": {},
     "output_type": "execute_result"
    }
   ],
   "source": [
    "5//2**2//4"
   ]
  },
  {
   "cell_type": "code",
   "execution_count": 11,
   "id": "aaf6b30d",
   "metadata": {},
   "outputs": [
    {
     "data": {
      "text/plain": [
       "1"
      ]
     },
     "execution_count": 11,
     "metadata": {},
     "output_type": "execute_result"
    }
   ],
   "source": []
  },
  {
   "cell_type": "code",
   "execution_count": 23,
   "id": "7ac7dd20",
   "metadata": {},
   "outputs": [
    {
     "name": "stdout",
     "output_type": "stream",
     "text": [
      "Shyam 23 34\n",
      "name = saad\n",
      "Shyam 42 34\n"
     ]
    }
   ],
   "source": [
    "class StudentDetail:\n",
    "    def datainput1(self, n, r, s): \n",
    "        self.__name = n \n",
    "        self._rollno = r \n",
    "        self._sem = s\n",
    "    def printout(self): \n",
    "        print(self.__name, self._rollno, self._sem)\n",
    "        \n",
    "s2 = StudentDetail( ) #Object instantiation \n",
    "s2.datainput1('Shyam', 23, 34) \n",
    "s2.printout( )\n",
    "s2.__name = 'saad'\n",
    "s2._rollno = 42\n",
    "print('name =', s2.__name)\n",
    "s2.printout( )\n"
   ]
  },
  {
   "cell_type": "code",
   "execution_count": 9,
   "id": "f0445e80",
   "metadata": {},
   "outputs": [
    {
     "data": {
      "text/plain": [
       "4"
      ]
     },
     "execution_count": 9,
     "metadata": {},
     "output_type": "execute_result"
    }
   ],
   "source": [
    "10 % 6"
   ]
  },
  {
   "cell_type": "code",
   "execution_count": 21,
   "id": "9b79c879",
   "metadata": {},
   "outputs": [
    {
     "name": "stdout",
     "output_type": "stream",
     "text": [
      "True\n"
     ]
    }
   ],
   "source": [
    "j = 5\n",
    "for i in range(j):\n",
    "    with open('file.txt', 'w') as f:\n",
    "        if i<2:\n",
    "            break\n",
    "            \n",
    "print(f.closed)"
   ]
  },
  {
   "cell_type": "code",
   "execution_count": 22,
   "id": "3603673f",
   "metadata": {},
   "outputs": [
    {
     "name": "stdout",
     "output_type": "stream",
     "text": [
      "<class 'tuple'>\n"
     ]
    }
   ],
   "source": [
    "def f(*arg):\n",
    "    print(type(arg))\n",
    "f('yasdh')"
   ]
  },
  {
   "cell_type": "code",
   "execution_count": 24,
   "id": "e814e31c",
   "metadata": {},
   "outputs": [
    {
     "ename": "AttributeError",
     "evalue": "'dict' object has no attribute 'add'",
     "output_type": "error",
     "traceback": [
      "\u001b[1;31m---------------------------------------------------------------------------\u001b[0m",
      "\u001b[1;31mAttributeError\u001b[0m                            Traceback (most recent call last)",
      "\u001b[1;32m~\\AppData\\Local\\Temp\\ipykernel_3336\\3548947887.py\u001b[0m in \u001b[0;36m<module>\u001b[1;34m\u001b[0m\n\u001b[0;32m      1\u001b[0m \u001b[0ms\u001b[0m \u001b[1;33m=\u001b[0m \u001b[1;33m{\u001b[0m\u001b[1;33m}\u001b[0m\u001b[1;33m\u001b[0m\u001b[1;33m\u001b[0m\u001b[0m\n\u001b[1;32m----> 2\u001b[1;33m \u001b[0ms\u001b[0m\u001b[1;33m.\u001b[0m\u001b[0madd\u001b[0m\u001b[1;33m(\u001b[0m\u001b[1;36m2\u001b[0m\u001b[1;33m)\u001b[0m\u001b[1;33m\u001b[0m\u001b[1;33m\u001b[0m\u001b[0m\n\u001b[0m\u001b[0;32m      3\u001b[0m \u001b[0ms\u001b[0m\u001b[1;33m.\u001b[0m\u001b[0madd\u001b[0m\u001b[1;33m(\u001b[0m\u001b[1;36m2\u001b[0m\u001b[1;33m)\u001b[0m\u001b[1;33m\u001b[0m\u001b[1;33m\u001b[0m\u001b[0m\n\u001b[0;32m      4\u001b[0m \u001b[0ms\u001b[0m\u001b[1;33m.\u001b[0m\u001b[0madd\u001b[0m\u001b[1;33m(\u001b[0m\u001b[1;36m1\u001b[0m\u001b[1;33m)\u001b[0m\u001b[1;33m\u001b[0m\u001b[1;33m\u001b[0m\u001b[0m\n",
      "\u001b[1;31mAttributeError\u001b[0m: 'dict' object has no attribute 'add'"
     ]
    }
   ],
   "source": [
    "s = {}\n",
    "s.add(2)\n",
    "s.add(2)\n",
    "s.add(1)"
   ]
  },
  {
   "cell_type": "code",
   "execution_count": null,
   "id": "7e2097fb",
   "metadata": {},
   "outputs": [],
   "source": []
  }
 ],
 "metadata": {
  "kernelspec": {
   "display_name": "Python 3 (ipykernel)",
   "language": "python",
   "name": "python3"
  },
  "language_info": {
   "codemirror_mode": {
    "name": "ipython",
    "version": 3
   },
   "file_extension": ".py",
   "mimetype": "text/x-python",
   "name": "python",
   "nbconvert_exporter": "python",
   "pygments_lexer": "ipython3",
   "version": "3.9.13"
  }
 },
 "nbformat": 4,
 "nbformat_minor": 5
}
